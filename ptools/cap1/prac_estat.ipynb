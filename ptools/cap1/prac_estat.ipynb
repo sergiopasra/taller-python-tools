{
 "cells": [
  {
   "cell_type": "markdown",
   "metadata": {
    "slideshow": {
     "slide_type": "slide"
    }
   },
   "source": [
    "# Priors conjugados y aproximación en **grid**\n"
   ]
  },
  {
   "cell_type": "markdown",
   "metadata": {
    "slideshow": {
     "slide_type": "slide"
    }
   },
   "source": [
    "## Priors conjugados, aproximación en grid\n",
    "\n",
    "El teorema de Bayes permite actualizar nuestro conocimiento previo (prior) $P(\\theta| M)$ con datos $D$ para pasar a la distribución posterior $P(\\theta| D, M)$, donde los datos actualizan nuestro conocimiento sobre $\\theta$.\n",
    "\n",
    "De manera operativa la inferencia bayesianda require realizar integrales (o sumatorios) para calcular el denominador $P(D| M)$\n",
    "\n",
    "Estas integrales son difíciles de realizar en el caso general. Sin embargo, hay casos donde es factible realizarlas:\n",
    "\n",
    " * Cuando hay pocos parámetros podemos discretizar (grid)\n",
    " \n",
    " * Para ciertas combinaciones de prior y verosimilitud (priors conjugados)\n",
    " \n"
   ]
  },
  {
   "cell_type": "markdown",
   "metadata": {
    "slideshow": {
     "slide_type": "slide"
    }
   },
   "source": [
    "### Priors conjugados\n",
    "\n",
    "Para ciertas combinaciones de prior y verosimilitud, el posterior tiene la misma forma que el prior (alguien ha hecho las integrales por nosotros). Esto funciona tanto para ciertas distribuciones discretas como continuas.\n",
    "\n",
    "Por ejemplo, en la transparencia 4-28, en la Tabla 9.1 del libro de Lambert o en el artículo de wikipedia https://en.wikipedia.org/wiki/Conjugate_prior hay tablas de priors conjugados."
   ]
  },
  {
   "cell_type": "markdown",
   "metadata": {
    "slideshow": {
     "slide_type": "fragment"
    }
   },
   "source": [
    "Dado que conocemos la forma funcional del posterior, el uso de los priors conjugados nos permite centrarnos únicamente en cómo se actualizan **los parámetros del posterior** a partir de los parámetros del prior y los datos"
   ]
  },
  {
   "cell_type": "markdown",
   "metadata": {
    "slideshow": {
     "slide_type": "subslide"
    }
   },
   "source": [
    "### Prior conjugado de la distribución de Poisson\n",
    "\n",
    "El desarrollo del prior conjugado de la distribución de Poisson está explicado en la transparencia 4-20. Como recordatorios, la distribución de Poisson de un valor $x$ discreto depende de un parámetro continuo $\\lambda$, $P(x|\\lambda) = \\frac{\\lambda^x}{x!} e^{-\\lambda}$"
   ]
  },
  {
   "cell_type": "markdown",
   "metadata": {
    "slideshow": {
     "slide_type": "fragment"
    }
   },
   "source": [
    "Esto implica que la verosimilitud es:\n",
    "$$\n",
    "\\mathcal{L}(\\lambda) = \\prod_{i=1}^n \\frac{\\lambda^{x_i}}{{x_i}!} e^{-\\lambda} \\propto \\lambda ^{\\sum x_i}e^{-n \\lambda} = \\lambda ^{n\\bar{x}}e^{-n \\lambda}\n",
    "$$\n",
    "\n",
    "Mientras que la distribución gamma (continua, con parámetros $\\alpha$ y $\\beta$) es:\n",
    "\n",
    "$$\n",
    "P(\\lambda|\\alpha, \\beta) = \\frac{\\beta^{\\alpha}}{\\Gamma(\\alpha)} \\lambda ^{\\alpha -1}e^{-\\beta \\lambda} \\propto \\lambda ^{\\alpha - 1}e^{-\\beta \\lambda}\n",
    "$$\n"
   ]
  },
  {
   "cell_type": "markdown",
   "metadata": {
    "slideshow": {
     "slide_type": "subslide"
    }
   },
   "source": [
    "Esto implica que la verosimilitud es:\n",
    "$$\n",
    "\\mathcal{L}(\\lambda) = \\prod_{i=1}^n \\frac{\\lambda^{x_i}}{{x_i}!} e^{-\\lambda} \\propto \\lambda ^{\\sum x_i}e^{-n \\lambda} = \\lambda ^{n\\bar{x}}e^{-n \\lambda}\n",
    "$$\n",
    "\n",
    "Mientras que la distribución gamma (continua, con parámetros $\\alpha$ y $\\beta$) es:\n",
    "\n",
    "$$\n",
    "P(\\lambda|\\alpha, \\beta) = \\frac{\\beta^{\\alpha}}{\\Gamma(\\alpha)} \\lambda ^{\\alpha -1}e^{-\\beta \\lambda} \\propto \\lambda ^{\\alpha - 1}e^{-\\beta \\lambda}\n",
    "$$"
   ]
  },
  {
   "cell_type": "markdown",
   "metadata": {
    "slideshow": {
     "slide_type": "fragment"
    }
   },
   "source": [
    "Esto implica que el posterior será $P(\\lambda|D, \\alpha, \\beta) \\propto \\mathcal{L}(\\lambda) \\times P(\\lambda|\\alpha, \\beta)$:\n",
    "\n",
    "$$\n",
    "P(\\lambda|D, \\alpha, \\beta) \\propto \\lambda ^{n\\bar{x}}e^{-n \\lambda} \\times \\lambda ^{\\alpha - 1}e^{-\\beta \\lambda}  \\propto  \\lambda ^{n\\bar{x} + \\alpha - 1 }e^{-(n + \\beta) \\lambda}\n",
    "$$\n",
    "El posterior tiene la forma funcional de la distribución gamma. Finalmente normalizamos.\n",
    "\n",
    "$$\n",
    "P(\\lambda|D, \\alpha, \\beta) =  \\mathrm{Gamma}(n\\bar{x} + \\alpha, n + \\beta)\n",
    "$$\n"
   ]
  },
  {
   "cell_type": "markdown",
   "metadata": {
    "slideshow": {
     "slide_type": "subslide"
    }
   },
   "source": [
    "En resumen, para una distribución de Poisson, si tomamos como prior para $\\lambda$ una distribución Gamma, el posterior también es una distribución Gamma."
   ]
  },
  {
   "cell_type": "markdown",
   "metadata": {
    "slideshow": {
     "slide_type": "fragment"
    }
   },
   "source": [
    "Si los parámetros del prior son $\\alpha$ y $\\beta$, los del posterior son $\\alpha + n \\bar{x}$ y $\\beta + n$\n"
   ]
  },
  {
   "cell_type": "markdown",
   "metadata": {
    "slideshow": {
     "slide_type": "fragment"
    }
   },
   "source": [
    "$\\beta$ se actualiza con el **número de observaciones** ($n$) y $\\alpha$ con el **número de sucesos** ($n\\bar{x} = \\sum x_i$). Los parámetros del prior pueden representar *seudoobservaciones.*\n"
   ]
  },
  {
   "cell_type": "markdown",
   "metadata": {
    "slideshow": {
     "slide_type": "fragment"
    }
   },
   "source": [
    "Las mismas reglas de actualización sirven para el caso que utilicemos el posterior como prior de una nueva observación (tenemos diferentes tandas de datos)"
   ]
  },
  {
   "cell_type": "markdown",
   "metadata": {
    "slideshow": {
     "slide_type": "slide"
    }
   },
   "source": [
    "## Estimación del número esperado de SN Ia\n",
    "\n",
    "Un  grupo  de  investigadores  realiza  periódicamente  campañas  de  observación  con  un telescopio  especialmente  diseñado  para  llevar  a  cabo  exploraciones  de  gran  campo. Dichas  observaciones  permiten  obtener  imágenes  profundas  de  extensas  regiones  del cielo con la intención de descubrir supernovas de tipo Ia (SN Ia) en galaxias lejanas.\n",
    "\n",
    "Suponemos que el número de SN Ia sigue una distribución de Poisson y queremos encontrar la distribución posterior del parámetro $\\lambda$ (en número de SN Ia por noche)"
   ]
  },
  {
   "cell_type": "markdown",
   "metadata": {
    "slideshow": {
     "slide_type": "fragment"
    }
   },
   "source": [
    "Contamos con medidadas durante 8 noches para 30 regiones diferentes del cielo. Aunque podríamos utilizar las 8 medidas de una vez, vamos a ir midiendo noche a noche y de esa manera actualizamos la distribución posterior según nos llegan datos."
   ]
  },
  {
   "cell_type": "markdown",
   "metadata": {
    "slideshow": {
     "slide_type": "fragment"
    }
   },
   "source": [
    "Lo que es más realista. No queremos tener que esperar a que termine nuestro proyecto (que puede durar años) para tener resultados."
   ]
  },
  {
   "cell_type": "markdown",
   "metadata": {
    "slideshow": {
     "slide_type": "slide"
    }
   },
   "source": [
    "El fichero `SNIa_medidas.csv` contiene 30 columnas y 8 filas. Cada columna representa una región diferente del cielo y cada fila un día.\n",
    "\n",
    "Podemos leerlo con:"
   ]
  },
  {
   "cell_type": "code",
   "execution_count": 9,
   "metadata": {
    "slideshow": {
     "slide_type": "fragment"
    }
   },
   "outputs": [
    {
     "data": {
      "text/html": [
       "<div>\n",
       "<style scoped>\n",
       "    .dataframe tbody tr th:only-of-type {\n",
       "        vertical-align: middle;\n",
       "    }\n",
       "\n",
       "    .dataframe tbody tr th {\n",
       "        vertical-align: top;\n",
       "    }\n",
       "\n",
       "    .dataframe thead th {\n",
       "        text-align: right;\n",
       "    }\n",
       "</style>\n",
       "<table border=\"1\" class=\"dataframe\">\n",
       "  <thead>\n",
       "    <tr style=\"text-align: right;\">\n",
       "      <th></th>\n",
       "      <th>0</th>\n",
       "      <th>1</th>\n",
       "      <th>2</th>\n",
       "      <th>3</th>\n",
       "      <th>4</th>\n",
       "      <th>5</th>\n",
       "      <th>6</th>\n",
       "      <th>7</th>\n",
       "      <th>8</th>\n",
       "      <th>9</th>\n",
       "      <th>...</th>\n",
       "      <th>20</th>\n",
       "      <th>21</th>\n",
       "      <th>22</th>\n",
       "      <th>23</th>\n",
       "      <th>24</th>\n",
       "      <th>25</th>\n",
       "      <th>26</th>\n",
       "      <th>27</th>\n",
       "      <th>28</th>\n",
       "      <th>29</th>\n",
       "    </tr>\n",
       "  </thead>\n",
       "  <tbody>\n",
       "    <tr>\n",
       "      <th>0</th>\n",
       "      <td>2</td>\n",
       "      <td>1</td>\n",
       "      <td>0</td>\n",
       "      <td>2</td>\n",
       "      <td>2</td>\n",
       "      <td>8</td>\n",
       "      <td>2</td>\n",
       "      <td>3</td>\n",
       "      <td>1</td>\n",
       "      <td>0</td>\n",
       "      <td>...</td>\n",
       "      <td>0</td>\n",
       "      <td>3</td>\n",
       "      <td>2</td>\n",
       "      <td>2</td>\n",
       "      <td>3</td>\n",
       "      <td>1</td>\n",
       "      <td>2</td>\n",
       "      <td>0</td>\n",
       "      <td>2</td>\n",
       "      <td>1</td>\n",
       "    </tr>\n",
       "    <tr>\n",
       "      <th>1</th>\n",
       "      <td>2</td>\n",
       "      <td>1</td>\n",
       "      <td>1</td>\n",
       "      <td>1</td>\n",
       "      <td>1</td>\n",
       "      <td>2</td>\n",
       "      <td>0</td>\n",
       "      <td>0</td>\n",
       "      <td>1</td>\n",
       "      <td>0</td>\n",
       "      <td>...</td>\n",
       "      <td>2</td>\n",
       "      <td>2</td>\n",
       "      <td>1</td>\n",
       "      <td>2</td>\n",
       "      <td>3</td>\n",
       "      <td>0</td>\n",
       "      <td>3</td>\n",
       "      <td>0</td>\n",
       "      <td>0</td>\n",
       "      <td>0</td>\n",
       "    </tr>\n",
       "    <tr>\n",
       "      <th>2</th>\n",
       "      <td>3</td>\n",
       "      <td>0</td>\n",
       "      <td>1</td>\n",
       "      <td>5</td>\n",
       "      <td>1</td>\n",
       "      <td>1</td>\n",
       "      <td>0</td>\n",
       "      <td>4</td>\n",
       "      <td>1</td>\n",
       "      <td>2</td>\n",
       "      <td>...</td>\n",
       "      <td>2</td>\n",
       "      <td>2</td>\n",
       "      <td>0</td>\n",
       "      <td>1</td>\n",
       "      <td>1</td>\n",
       "      <td>1</td>\n",
       "      <td>3</td>\n",
       "      <td>1</td>\n",
       "      <td>0</td>\n",
       "      <td>0</td>\n",
       "    </tr>\n",
       "    <tr>\n",
       "      <th>3</th>\n",
       "      <td>1</td>\n",
       "      <td>2</td>\n",
       "      <td>0</td>\n",
       "      <td>3</td>\n",
       "      <td>2</td>\n",
       "      <td>1</td>\n",
       "      <td>1</td>\n",
       "      <td>1</td>\n",
       "      <td>1</td>\n",
       "      <td>0</td>\n",
       "      <td>...</td>\n",
       "      <td>0</td>\n",
       "      <td>1</td>\n",
       "      <td>0</td>\n",
       "      <td>1</td>\n",
       "      <td>2</td>\n",
       "      <td>0</td>\n",
       "      <td>2</td>\n",
       "      <td>4</td>\n",
       "      <td>0</td>\n",
       "      <td>1</td>\n",
       "    </tr>\n",
       "    <tr>\n",
       "      <th>4</th>\n",
       "      <td>0</td>\n",
       "      <td>0</td>\n",
       "      <td>0</td>\n",
       "      <td>2</td>\n",
       "      <td>0</td>\n",
       "      <td>2</td>\n",
       "      <td>3</td>\n",
       "      <td>0</td>\n",
       "      <td>3</td>\n",
       "      <td>3</td>\n",
       "      <td>...</td>\n",
       "      <td>2</td>\n",
       "      <td>1</td>\n",
       "      <td>0</td>\n",
       "      <td>1</td>\n",
       "      <td>0</td>\n",
       "      <td>1</td>\n",
       "      <td>1</td>\n",
       "      <td>1</td>\n",
       "      <td>3</td>\n",
       "      <td>1</td>\n",
       "    </tr>\n",
       "    <tr>\n",
       "      <th>5</th>\n",
       "      <td>5</td>\n",
       "      <td>3</td>\n",
       "      <td>3</td>\n",
       "      <td>2</td>\n",
       "      <td>1</td>\n",
       "      <td>1</td>\n",
       "      <td>0</td>\n",
       "      <td>1</td>\n",
       "      <td>1</td>\n",
       "      <td>1</td>\n",
       "      <td>...</td>\n",
       "      <td>1</td>\n",
       "      <td>0</td>\n",
       "      <td>1</td>\n",
       "      <td>2</td>\n",
       "      <td>0</td>\n",
       "      <td>4</td>\n",
       "      <td>0</td>\n",
       "      <td>2</td>\n",
       "      <td>1</td>\n",
       "      <td>1</td>\n",
       "    </tr>\n",
       "    <tr>\n",
       "      <th>6</th>\n",
       "      <td>4</td>\n",
       "      <td>1</td>\n",
       "      <td>0</td>\n",
       "      <td>6</td>\n",
       "      <td>0</td>\n",
       "      <td>1</td>\n",
       "      <td>1</td>\n",
       "      <td>1</td>\n",
       "      <td>2</td>\n",
       "      <td>3</td>\n",
       "      <td>...</td>\n",
       "      <td>2</td>\n",
       "      <td>0</td>\n",
       "      <td>2</td>\n",
       "      <td>0</td>\n",
       "      <td>0</td>\n",
       "      <td>1</td>\n",
       "      <td>2</td>\n",
       "      <td>0</td>\n",
       "      <td>2</td>\n",
       "      <td>1</td>\n",
       "    </tr>\n",
       "    <tr>\n",
       "      <th>7</th>\n",
       "      <td>1</td>\n",
       "      <td>1</td>\n",
       "      <td>3</td>\n",
       "      <td>2</td>\n",
       "      <td>2</td>\n",
       "      <td>1</td>\n",
       "      <td>0</td>\n",
       "      <td>1</td>\n",
       "      <td>2</td>\n",
       "      <td>1</td>\n",
       "      <td>...</td>\n",
       "      <td>1</td>\n",
       "      <td>0</td>\n",
       "      <td>2</td>\n",
       "      <td>0</td>\n",
       "      <td>4</td>\n",
       "      <td>3</td>\n",
       "      <td>0</td>\n",
       "      <td>1</td>\n",
       "      <td>3</td>\n",
       "      <td>1</td>\n",
       "    </tr>\n",
       "  </tbody>\n",
       "</table>\n",
       "<p>8 rows × 30 columns</p>\n",
       "</div>"
      ],
      "text/plain": [
       "   0   1   2   3   4   5   6   7   8   9   ...  20  21  22  23  24  25  26  \\\n",
       "0   2   1   0   2   2   8   2   3   1   0  ...   0   3   2   2   3   1   2   \n",
       "1   2   1   1   1   1   2   0   0   1   0  ...   2   2   1   2   3   0   3   \n",
       "2   3   0   1   5   1   1   0   4   1   2  ...   2   2   0   1   1   1   3   \n",
       "3   1   2   0   3   2   1   1   1   1   0  ...   0   1   0   1   2   0   2   \n",
       "4   0   0   0   2   0   2   3   0   3   3  ...   2   1   0   1   0   1   1   \n",
       "5   5   3   3   2   1   1   0   1   1   1  ...   1   0   1   2   0   4   0   \n",
       "6   4   1   0   6   0   1   1   1   2   3  ...   2   0   2   0   0   1   2   \n",
       "7   1   1   3   2   2   1   0   1   2   1  ...   1   0   2   0   4   3   0   \n",
       "\n",
       "   27  28  29  \n",
       "0   0   2   1  \n",
       "1   0   0   0  \n",
       "2   1   0   0  \n",
       "3   4   0   1  \n",
       "4   1   3   1  \n",
       "5   2   1   1  \n",
       "6   0   2   1  \n",
       "7   1   3   1  \n",
       "\n",
       "[8 rows x 30 columns]"
      ]
     },
     "execution_count": 9,
     "metadata": {},
     "output_type": "execute_result"
    }
   ],
   "source": [
    "import pandas as pd\n",
    "snIa = pd.read_csv('SNIa_medidas.csv', header=None, skip_blank_lines=True)\n",
    "snIa"
   ]
  },
  {
   "cell_type": "code",
   "execution_count": 18,
   "metadata": {
    "slideshow": {
     "slide_type": "subslide"
    },
    "tags": [
     "remove_input"
    ]
   },
   "outputs": [
    {
     "data": {
      "image/png": "[encoded data removed]",
      "text/plain": [
       "<Figure size 432x288 with 4 Axes>"
      ]
     },
     "metadata": {
      "needs_background": "light"
     },
     "output_type": "display_data"
    }
   ],
   "source": [
    "h1 = snIa.hist(column=[11,23, 4, 8], sharex=True, sharey=True)"
   ]
  },
  {
   "cell_type": "markdown",
   "metadata": {
    "slideshow": {
     "slide_type": "slide"
    }
   },
   "source": [
    "## Entregable\n",
    "\n",
    "Vamos a calcular la distribución posterior de $\\lambda$ para una región del cielo (seleccionar la columna con el número de grupo) para cada una de las 8 noches. Para ello:\n",
    "\n",
    "* utilizaremos tres priors (para la primera noche)\n",
    "  - Prior uniforme en $\\lambda$ (entre 0 y 10).\n",
    "  - Distribución gamma con $\\alpha$=2 y $\\beta$=1\n",
    "  - Distribución gamma con $\\alpha$=8.5 y $\\beta$=2.5\n",
    "* la distribución gamma en R está definida con la función `dgamma`\n",
    "  - OJO: la función `dgamma` admite como parámetros `rate` ($\\beta$) y `scale` (1 / $\\beta$). En caso de duda comprobar [The distribution Zoo](https://ben18785.shinyapps.io/distribution-zoo/) o la documentación de R\n",
    " * la distribución de Poisson en R está definida con la función `dpois`\n",
    "* para el prior uniforme hay que discretizar la distribución"
   ]
  },
  {
   "cell_type": "markdown",
   "metadata": {
    "slideshow": {
     "slide_type": "subslide"
    }
   },
   "source": [
    " * Para los datos acumulados hasta cada noche de observación, representar en una misma gráfica el prior, la verosimilitud y la función de densidad posterior. \n",
    "  * El objetivo es  entender  cómo  van  cambiando  dichas  funciones  a  medida  que  contamos  con información  nueva.  \n",
    "  * CUIDADO:  se  trata  de  ir  acumulando  información,  por  lo  que  es esencial que el prior de cada noche coincida con la función de densidad posterior derivada con los datos obtenidos hasta la noche anterior\n",
    " * Repetir las gráficas anteriores para **cada uno de los tres priores iniciales**.\n",
    " \n",
    " * Representar cómo va cambiando el valor esperado del parámetro $\\lambda$, E[$\\lambda$], a medida que acumulamos más información (para cada noche). \n",
    "   - Será muy ilustrativo comparar en esta gráfica los resultados que se obtienen al utilizar los tres priores iniciales distintos.\n",
    "   - El valor esperado de la función gamma es $E[X] = \\alpha / \\beta$. Para el prior uniforme habrá que calcularlo numéricamente.\n",
    "   - Calcular también la varianza (para la distribución gamma es VAR\\[X\\] = $\\alpha$ / $\\beta^2$)\n",
    "   - Añadir a la comparación el estimador MLE de $\\lambda$ (que para la distribución de Poisson es la media de los datos)"
   ]
  },
  {
   "cell_type": "code",
   "execution_count": null,
   "metadata": {
    "slideshow": {
     "slide_type": "skip"
    }
   },
   "outputs": [],
   "source": []
  },
  {
   "cell_type": "code",
   "execution_count": null,
   "metadata": {},
   "outputs": [],
   "source": []
  }
 ],
 "metadata": {
  "kernelspec": {
   "display_name": "Python 3",
   "language": "python",
   "name": "python3"
  },
  "language_info": {
   "codemirror_mode": {
    "name": "ipython",
    "version": 3
   },
   "file_extension": ".py",
   "mimetype": "text/x-python",
   "name": "python",
   "nbconvert_exporter": "python",
   "pygments_lexer": "ipython3",
   "version": "3.9.1"
  }
 },
 "nbformat": 4,
 "nbformat_minor": 2
}
