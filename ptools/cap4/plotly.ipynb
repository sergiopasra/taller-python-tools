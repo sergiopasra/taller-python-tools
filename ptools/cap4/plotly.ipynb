{
 "cells": [
  {
   "cell_type": "markdown",
   "id": "subsequent-hamilton",
   "metadata": {},
   "source": [
    "# Plotly\n",
    "\n",
    "Los gráficos que genera matplotlib son estáticos, han sido\n",
    "diseñados para ser una imagen en un documento. Sin embargo,\n",
    "a veces sería necesario poder interaccionar con el gráfico\n",
    "para extraer toda la información que contiene.\n",
    "\n",
    "Un paquete que permite generar gráficos interactivos es \n",
    "[plotly](https://plot.ly/python/), vamos a ver someramente algunas\n",
    "de sus características.\n",
    "\n",
    "## Elementos\n",
    "Plotly no está basado en matplotlib y por lo tanto usa una terminología un\n",
    "poco diferente. Los elementos de un gráfico son:\n",
    "\n",
    "* Data: una lista de **trazas** que vamos a representar\n",
    "* Trace: los datos más el tipo de gráfico junto con especificaciones sobre el gráfico\n",
    "* Layout: elementos de la figura no relacionados con el gráfico\n",
    "* Figure: contiene toda la figura"
   ]
  },
  {
   "cell_type": "code",
   "execution_count": null,
   "id": "velvet-student",
   "metadata": {},
   "outputs": [],
   "source": [
    "import pandas as pd\n",
    "\n",
    "import plotly.graph_objs as go\n",
    "\n",
    "from plotly.offline import init_notebook_mode, iplot\n",
    "init_notebook_mode(connected=True)\n",
    "\n",
    "# Carga de datos\n",
    "url = 'https://raw.githubusercontent.com/mwaskom/seaborn-data/master/iris.csv'\n",
    "tabla = pd.read_csv(url)"
   ]
  },
  {
   "cell_type": "code",
   "execution_count": null,
   "id": "economic-generator",
   "metadata": {},
   "outputs": [],
   "source": [
    "tabla"
   ]
  },
  {
   "cell_type": "code",
   "execution_count": null,
   "id": "tracked-fifth",
   "metadata": {},
   "outputs": [],
   "source": [
    "trace1 = go.Bar(\n",
    "    x = tabla['sepal_length'],\n",
    "    y = tabla['sepal_width'],\n",
    "    name = 'Sépalos'\n",
    ")\n",
    "\n",
    "trace2 = go.Bar(\n",
    "    x = tabla['petal_length'],\n",
    "    y = tabla['petal_width'],\n",
    "    name = 'Pétalos'\n",
    ")\n",
    "# Los datos son una lista de trazas\n",
    "data = [trace1, trace2]\n",
    "\n",
    "# Un layout es un diccionario con información\n",
    "# sobre algunos elementos de la figura\n",
    "layout = dict( \n",
    "    title = dict(text = \"Iris\" )\n",
    ")\n",
    "\n",
    "\n",
    "# Creamos la figura y dibujamos\n",
    "fig = go.Figure(data=data, layout=layout)\n",
    "iplot(fig)\n",
    "\n"
   ]
  },
  {
   "cell_type": "code",
   "execution_count": null,
   "id": "radio-stadium",
   "metadata": {},
   "outputs": [],
   "source": []
  }
 ],
 "metadata": {
  "kernelspec": {
   "display_name": "Python 3",
   "language": "python",
   "name": "python3"
  },
  "language_info": {
   "codemirror_mode": {
    "name": "ipython",
    "version": 3
   },
   "file_extension": ".py",
   "mimetype": "text/x-python",
   "name": "python",
   "nbconvert_exporter": "python",
   "pygments_lexer": "ipython3",
   "version": "3.9.1"
  }
 },
 "nbformat": 4,
 "nbformat_minor": 5
}
