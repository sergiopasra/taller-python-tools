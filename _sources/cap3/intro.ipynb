{
 "cells": [
  {
   "cell_type": "markdown",
   "id": "fbd058fc",
   "metadata": {},
   "source": [
    "# Pandas\n",
    "\n",
    "En la sección anterior ya vimos como numpy proporciona soporte \n",
    "para arrays de con tipos homogéneos. En el último apartado\n",
    "vimos los *arrays estructurados*, un tipo de array para tratar\n",
    "con datos tabulares. Sin embargo, los propios desarrolladores\n",
    "de numpy indican que esta estructura solo es apropiada para los casos\n",
    "de uso más sencillos.\n",
    "\n",
    "Pandas es un paquete construido sobre numpy que proporciona\n",
    "un tipo de datos `DataFrame`. Este tipo es, básicamente, un array\n",
    "multidimensional heterogéneo, con capacidad de manejar datos faltantes\n",
    "y con nombres para filas y columnas."
   ]
  },
  {
   "cell_type": "code",
   "execution_count": 1,
   "id": "5ce5d5f8",
   "metadata": {},
   "outputs": [
    {
     "data": {
      "text/plain": [
       "'2.1.0'"
      ]
     },
     "execution_count": 1,
     "metadata": {},
     "output_type": "execute_result"
    }
   ],
   "source": [
    "import pandas as pd\n",
    "pd.__version__"
   ]
  },
  {
   "cell_type": "markdown",
   "id": "81cc465e",
   "metadata": {},
   "source": [
    "# Tipos de datos\n",
    "\n",
    "Los tipos de datos de pandas pueden entenderse como versiones\n",
    "mejoradas de los arrays estructurados de numpy, donde además\n",
    "se pueden añadir etiquetas tanto a filas como a columnas.\n",
    "\n",
    "Pandas proporciona, básicamente, objetos para 1d, 2d y 3d.\n",
    "El tipo 3d se denomina `Panel` y no lo veremos aquí.\n",
    "\n",
    "\n",
    "## `Series`\n",
    "\n",
    "El tipo 1D se denomina `Series`"
   ]
  },
  {
   "cell_type": "code",
   "execution_count": 2,
   "id": "6649b9e8",
   "metadata": {},
   "outputs": [
    {
     "data": {
      "text/plain": [
       "0   -1.0\n",
       "1   -0.5\n",
       "2    0.0\n",
       "3    0.5\n",
       "4    1.0\n",
       "dtype: float64"
      ]
     },
     "execution_count": 2,
     "metadata": {},
     "output_type": "execute_result"
    }
   ],
   "source": [
    "data = pd.Series([-1.0, -0.5, 0, 0.5, 1.0])\n",
    "data"
   ]
  },
  {
   "cell_type": "markdown",
   "id": "0ac23fc0",
   "metadata": {},
   "source": [
    "Podemos ver que además de tener los datos, también tenemos\n",
    "una secuencia de índices. Se puede acceder a ambos con `values`\n",
    "e `indexp`, respectivamente"
   ]
  },
  {
   "cell_type": "code",
   "execution_count": 3,
   "id": "98f75b18",
   "metadata": {},
   "outputs": [
    {
     "name": "stdout",
     "output_type": "stream",
     "text": [
      "<class 'numpy.ndarray'>\n"
     ]
    },
    {
     "data": {
      "text/plain": [
       "array([-1. , -0.5,  0. ,  0.5,  1. ])"
      ]
     },
     "execution_count": 3,
     "metadata": {},
     "output_type": "execute_result"
    }
   ],
   "source": [
    "print(type(data.values))\n",
    "data.values"
   ]
  },
  {
   "cell_type": "code",
   "execution_count": 4,
   "id": "91522470",
   "metadata": {},
   "outputs": [
    {
     "name": "stdout",
     "output_type": "stream",
     "text": [
      "<class 'pandas.core.indexes.range.RangeIndex'>\n"
     ]
    },
    {
     "data": {
      "text/plain": [
       "RangeIndex(start=0, stop=5, step=1)"
      ]
     },
     "execution_count": 4,
     "metadata": {},
     "output_type": "execute_result"
    }
   ],
   "source": [
    "print(type(data.index))\n",
    "data.index"
   ]
  },
  {
   "cell_type": "markdown",
   "id": "1401765e",
   "metadata": {},
   "source": [
    "Podemos acceder a los valores indexando como una lista:"
   ]
  },
  {
   "cell_type": "code",
   "execution_count": 5,
   "id": "10f8547c",
   "metadata": {},
   "outputs": [
    {
     "data": {
      "text/plain": [
       "0.0"
      ]
     },
     "execution_count": 5,
     "metadata": {},
     "output_type": "execute_result"
    }
   ],
   "source": [
    "data[2]"
   ]
  },
  {
   "cell_type": "code",
   "execution_count": 6,
   "id": "18b33382",
   "metadata": {},
   "outputs": [
    {
     "data": {
      "text/plain": [
       "1   -0.5\n",
       "2    0.0\n",
       "3    0.5\n",
       "dtype: float64"
      ]
     },
     "execution_count": 6,
     "metadata": {},
     "output_type": "execute_result"
    }
   ],
   "source": [
    "data[1:4]"
   ]
  },
  {
   "cell_type": "markdown",
   "id": "659e3c00",
   "metadata": {},
   "source": [
    "Podría parecer que `Series` es intercambiable con `ndarray`.\n",
    "Una diferencia fundamental es el índice. Mientras que en numpy es\n",
    "implícito (entero, empieza en cero), en pandas es explícito. \n",
    "\n",
    "Podemos, por ejemplo, utilizar una cadena como índice:"
   ]
  },
  {
   "cell_type": "code",
   "execution_count": 7,
   "id": "bcbb3613",
   "metadata": {},
   "outputs": [
    {
     "data": {
      "text/plain": [
       "a   -1.0\n",
       "b   -0.5\n",
       "c    0.0\n",
       "d    0.5\n",
       "e    1.0\n",
       "dtype: float64"
      ]
     },
     "execution_count": 7,
     "metadata": {},
     "output_type": "execute_result"
    }
   ],
   "source": [
    "data = pd.Series([-1.0, -0.5, 0, 0.5, 1.0],\n",
    "                 index=['a', 'b', 'c', 'd', 'e'])\n",
    "data"
   ]
  },
  {
   "cell_type": "markdown",
   "id": "b056f629",
   "metadata": {},
   "source": [
    "El acceso a los datos sigue funcionando:"
   ]
  },
  {
   "cell_type": "code",
   "execution_count": 8,
   "id": "fa657311",
   "metadata": {},
   "outputs": [
    {
     "data": {
      "text/plain": [
       "-1.0"
      ]
     },
     "execution_count": 8,
     "metadata": {},
     "output_type": "execute_result"
    }
   ],
   "source": [
    "data['a']"
   ]
  },
  {
   "cell_type": "code",
   "execution_count": 9,
   "id": "1b8e179d",
   "metadata": {},
   "outputs": [
    {
     "data": {
      "text/plain": [
       "a   -1.0\n",
       "b   -0.5\n",
       "c    0.0\n",
       "d    0.5\n",
       "dtype: float64"
      ]
     },
     "execution_count": 9,
     "metadata": {},
     "output_type": "execute_result"
    }
   ],
   "source": [
    "data['a':'d']"
   ]
  },
  {
   "cell_type": "markdown",
   "id": "76ac87d0",
   "metadata": {},
   "source": [
    "También podemos usar como índices enteros, pero no ordenados, por ejemplo:"
   ]
  },
  {
   "cell_type": "code",
   "execution_count": 10,
   "id": "b42062e8",
   "metadata": {},
   "outputs": [
    {
     "data": {
      "text/plain": [
       "1   -1.0\n",
       "3   -0.5\n",
       "0    0.0\n",
       "2    0.5\n",
       "4    1.0\n",
       "dtype: float64"
      ]
     },
     "execution_count": 10,
     "metadata": {},
     "output_type": "execute_result"
    }
   ],
   "source": [
    "data = pd.Series([-1.0, -0.5, 0, 0.5, 1.0],\n",
    "                 index=[1, 3, 0, 2, 4])\n",
    "data"
   ]
  },
  {
   "cell_type": "markdown",
   "id": "8e968c7b",
   "metadata": {},
   "source": [
    "Y entonces tenemos que:"
   ]
  },
  {
   "cell_type": "code",
   "execution_count": 11,
   "id": "e08ef3b7",
   "metadata": {},
   "outputs": [
    {
     "data": {
      "text/plain": [
       "-0.5"
      ]
     },
     "execution_count": 11,
     "metadata": {},
     "output_type": "execute_result"
    }
   ],
   "source": [
    "data[3]"
   ]
  },
  {
   "cell_type": "markdown",
   "id": "8cabe737",
   "metadata": {},
   "source": [
    "Como vemos, es el índice, y no la posición, lo que se utiliza\n",
    "para acceder a los datos con el operador `[]`. \n",
    "\n",
    "En esto, `Series` se parece a una generalización de un diccionario:"
   ]
  },
  {
   "cell_type": "code",
   "execution_count": 12,
   "id": "4361cefa",
   "metadata": {},
   "outputs": [
    {
     "data": {
      "text/plain": [
       "-0.5"
      ]
     },
     "execution_count": 12,
     "metadata": {},
     "output_type": "execute_result"
    }
   ],
   "source": [
    "datadic = {1: -1.0, 3:-0.5, 0:0.0, 2:0.5, 4:1.0}\n",
    "datadic[3]"
   ]
  },
  {
   "cell_type": "markdown",
   "id": "32802041",
   "metadata": {},
   "source": [
    "En realidad, `Series` puede crearse a partir de un diccionario;\n",
    "`index` se genera automáticamente a partir de las claves del diccionario"
   ]
  },
  {
   "cell_type": "code",
   "execution_count": 13,
   "id": "347252a1",
   "metadata": {},
   "outputs": [
    {
     "data": {
      "text/plain": [
       "Mercurio    0.39\n",
       "Venus       0.72\n",
       "Tierra      1.00\n",
       "Marte       1.52\n",
       "dtype: float64"
      ]
     },
     "execution_count": 13,
     "metadata": {},
     "output_type": "execute_result"
    }
   ],
   "source": [
    "rocky = {'Mercurio': 0.39, 'Venus':0.72, 'Tierra':1.0, 'Marte':1.52}\n",
    "pd.Series(rocky)"
   ]
  },
  {
   "cell_type": "markdown",
   "id": "01887641",
   "metadata": {},
   "source": [
    "Incluso aquí podemos decidir reorder o no incluir valores:"
   ]
  },
  {
   "cell_type": "code",
   "execution_count": 14,
   "id": "076be35f",
   "metadata": {},
   "outputs": [
    {
     "data": {
      "text/plain": [
       "Marte     1.52\n",
       "Tierra    1.00\n",
       "dtype: float64"
      ]
     },
     "execution_count": 14,
     "metadata": {},
     "output_type": "execute_result"
    }
   ],
   "source": [
    "pd.Series(rocky, index=['Marte', 'Tierra'])"
   ]
  },
  {
   "cell_type": "markdown",
   "id": "53d39a5b",
   "metadata": {},
   "source": [
    "Pueden encontrarse más formas de construir `Series` en la documentación de Pandas.\n",
    "\n",
    "\n",
    "## `DataFrame`\n",
    "\n",
    "La siguiente estructura es `DataFrame`. Igual que con `Series`, podemos\n",
    "entendarla como una generalización de un `ndarray` o de un diccionario.\n",
    "\n",
    "Podemos imaginar un `DataFrame` como una secuencia objetos `Serie`\n",
    "con un índice común."
   ]
  },
  {
   "cell_type": "code",
   "execution_count": 15,
   "id": "a4b9d4c6",
   "metadata": {},
   "outputs": [],
   "source": [
    "rocky_d = {'Mercurio': 0.39, 'Venus':0.72, 'Tierra':1.0, 'Marte':1.52}\n",
    "dis = pd.Series(rocky_d)\n",
    "rocky_l = {'Mercurio': 0, 'Venus':0, 'Tierra':1, 'Marte':2}\n",
    "lunas = pd.Series(rocky_l)"
   ]
  },
  {
   "cell_type": "markdown",
   "id": "a3974d66",
   "metadata": {},
   "source": [
    "Ahora que tenemos dos series, las combinamos en un `DataFrame`"
   ]
  },
  {
   "cell_type": "code",
   "execution_count": 16,
   "id": "a1ce57e9",
   "metadata": {},
   "outputs": [
    {
     "data": {
      "text/html": [
       "<div>\n",
       "<style scoped>\n",
       "    .dataframe tbody tr th:only-of-type {\n",
       "        vertical-align: middle;\n",
       "    }\n",
       "\n",
       "    .dataframe tbody tr th {\n",
       "        vertical-align: top;\n",
       "    }\n",
       "\n",
       "    .dataframe thead th {\n",
       "        text-align: right;\n",
       "    }\n",
       "</style>\n",
       "<table border=\"1\" class=\"dataframe\">\n",
       "  <thead>\n",
       "    <tr style=\"text-align: right;\">\n",
       "      <th></th>\n",
       "      <th>distance</th>\n",
       "      <th>moons</th>\n",
       "    </tr>\n",
       "  </thead>\n",
       "  <tbody>\n",
       "    <tr>\n",
       "      <th>Mercurio</th>\n",
       "      <td>0.39</td>\n",
       "      <td>0</td>\n",
       "    </tr>\n",
       "    <tr>\n",
       "      <th>Venus</th>\n",
       "      <td>0.72</td>\n",
       "      <td>0</td>\n",
       "    </tr>\n",
       "    <tr>\n",
       "      <th>Tierra</th>\n",
       "      <td>1.00</td>\n",
       "      <td>1</td>\n",
       "    </tr>\n",
       "    <tr>\n",
       "      <th>Marte</th>\n",
       "      <td>1.52</td>\n",
       "      <td>2</td>\n",
       "    </tr>\n",
       "  </tbody>\n",
       "</table>\n",
       "</div>"
      ],
      "text/plain": [
       "          distance  moons\n",
       "Mercurio      0.39      0\n",
       "Venus         0.72      0\n",
       "Tierra        1.00      1\n",
       "Marte         1.52      2"
      ]
     },
     "execution_count": 16,
     "metadata": {},
     "output_type": "execute_result"
    }
   ],
   "source": [
    "rocky = pd.DataFrame({'distance': dis, 'moons': lunas})\n",
    "rocky"
   ]
  },
  {
   "cell_type": "markdown",
   "id": "14665c36",
   "metadata": {},
   "source": [
    "El objeto `DataFrame` tiene un `index`, igual que `Series`"
   ]
  },
  {
   "cell_type": "code",
   "execution_count": 17,
   "id": "25c9d9cb",
   "metadata": {},
   "outputs": [
    {
     "data": {
      "text/plain": [
       "Index(['Mercurio', 'Venus', 'Tierra', 'Marte'], dtype='object')"
      ]
     },
     "execution_count": 17,
     "metadata": {},
     "output_type": "execute_result"
    }
   ],
   "source": [
    "rocky.index"
   ]
  },
  {
   "cell_type": "markdown",
   "id": "cc6bee61",
   "metadata": {},
   "source": [
    "Además, tiene un atributo `columns`:"
   ]
  },
  {
   "cell_type": "code",
   "execution_count": 18,
   "id": "bee92cec",
   "metadata": {},
   "outputs": [
    {
     "data": {
      "text/plain": [
       "Index(['distance', 'moons'], dtype='object')"
      ]
     },
     "execution_count": 18,
     "metadata": {},
     "output_type": "execute_result"
    }
   ],
   "source": [
    "rocky.columns"
   ]
  },
  {
   "cell_type": "markdown",
   "id": "bcf517ef",
   "metadata": {},
   "source": [
    "Así que podemos imaginar `DataFrame` como una generalización de\n",
    "un array estructurado de numpy, en el que tanto filas como columnas\n",
    "tienen un índice generalizado.\n",
    "\n",
    "Pero quizá sea más claro pensar que `DataFrame` es una generalización\n",
    "de un diccionario, cuyos valores son `Series`. Así:\n",
    "\n",
    "Además, tiene un atributo `columns`:"
   ]
  },
  {
   "cell_type": "code",
   "execution_count": 19,
   "id": "501eb8d0",
   "metadata": {},
   "outputs": [
    {
     "data": {
      "text/plain": [
       "Mercurio    0\n",
       "Venus       0\n",
       "Tierra      1\n",
       "Marte       2\n",
       "Name: moons, dtype: int64"
      ]
     },
     "execution_count": 19,
     "metadata": {},
     "output_type": "execute_result"
    }
   ],
   "source": [
    "rocky['moons']"
   ]
  },
  {
   "cell_type": "markdown",
   "id": "8221ccf4",
   "metadata": {},
   "source": [
    "Mientras que un ndarray, `data[0]` devuelve la primera fila, \n",
    "en un DataFrame, `data['valor']` devuelve una columna.\n",
    "\n",
    "\n",
    "Se pueden construir objetos `DataFrame` de muchas maneras diferentes,\n",
    "atendiendo a su doble condición de seudo-array y seudo-diccionario.\n",
    "\n",
    "Por ejemplo:\n",
    "\n",
    "\n",
    "Con una Serie:"
   ]
  },
  {
   "cell_type": "code",
   "execution_count": 20,
   "id": "87690e07",
   "metadata": {},
   "outputs": [
    {
     "data": {
      "text/html": [
       "<div>\n",
       "<style scoped>\n",
       "    .dataframe tbody tr th:only-of-type {\n",
       "        vertical-align: middle;\n",
       "    }\n",
       "\n",
       "    .dataframe tbody tr th {\n",
       "        vertical-align: top;\n",
       "    }\n",
       "\n",
       "    .dataframe thead th {\n",
       "        text-align: right;\n",
       "    }\n",
       "</style>\n",
       "<table border=\"1\" class=\"dataframe\">\n",
       "  <thead>\n",
       "    <tr style=\"text-align: right;\">\n",
       "      <th></th>\n",
       "      <th>distance</th>\n",
       "    </tr>\n",
       "  </thead>\n",
       "  <tbody>\n",
       "    <tr>\n",
       "      <th>Mercurio</th>\n",
       "      <td>0.39</td>\n",
       "    </tr>\n",
       "    <tr>\n",
       "      <th>Venus</th>\n",
       "      <td>0.72</td>\n",
       "    </tr>\n",
       "    <tr>\n",
       "      <th>Tierra</th>\n",
       "      <td>1.00</td>\n",
       "    </tr>\n",
       "    <tr>\n",
       "      <th>Marte</th>\n",
       "      <td>1.52</td>\n",
       "    </tr>\n",
       "  </tbody>\n",
       "</table>\n",
       "</div>"
      ],
      "text/plain": [
       "          distance\n",
       "Mercurio      0.39\n",
       "Venus         0.72\n",
       "Tierra        1.00\n",
       "Marte         1.52"
      ]
     },
     "execution_count": 20,
     "metadata": {},
     "output_type": "execute_result"
    }
   ],
   "source": [
    "pd.DataFrame(dis, columns=['distance'])"
   ]
  },
  {
   "cell_type": "markdown",
   "id": "84a32f65",
   "metadata": {},
   "source": [
    "Con una lista de diccionarios:"
   ]
  },
  {
   "cell_type": "code",
   "execution_count": 21,
   "id": "1375adb1",
   "metadata": {},
   "outputs": [
    {
     "data": {
      "text/html": [
       "<div>\n",
       "<style scoped>\n",
       "    .dataframe tbody tr th:only-of-type {\n",
       "        vertical-align: middle;\n",
       "    }\n",
       "\n",
       "    .dataframe tbody tr th {\n",
       "        vertical-align: top;\n",
       "    }\n",
       "\n",
       "    .dataframe thead th {\n",
       "        text-align: right;\n",
       "    }\n",
       "</style>\n",
       "<table border=\"1\" class=\"dataframe\">\n",
       "  <thead>\n",
       "    <tr style=\"text-align: right;\">\n",
       "      <th></th>\n",
       "      <th>a</th>\n",
       "      <th>b</th>\n",
       "      <th>c</th>\n",
       "    </tr>\n",
       "  </thead>\n",
       "  <tbody>\n",
       "    <tr>\n",
       "      <th>0</th>\n",
       "      <td>1.0</td>\n",
       "      <td>2</td>\n",
       "      <td>NaN</td>\n",
       "    </tr>\n",
       "    <tr>\n",
       "      <th>1</th>\n",
       "      <td>NaN</td>\n",
       "      <td>6</td>\n",
       "      <td>1.0</td>\n",
       "    </tr>\n",
       "  </tbody>\n",
       "</table>\n",
       "</div>"
      ],
      "text/plain": [
       "     a  b    c\n",
       "0  1.0  2  NaN\n",
       "1  NaN  6  1.0"
      ]
     },
     "execution_count": 21,
     "metadata": {},
     "output_type": "execute_result"
    }
   ],
   "source": [
    "data = [{'a': 1, 'b': 2}, {'b': 6, 'c': 1}]\n",
    "pd.DataFrame(data)"
   ]
  },
  {
   "cell_type": "markdown",
   "id": "d492acc3",
   "metadata": {},
   "source": [
    "Aquí se usan las claves como columnas, y el número\n",
    "de orden del diccionario en la lista como índice.\n",
    "Y las claves no comunes se marcan como `NaN`\n",
    "\n",
    "Como un diccionario de Series (que ya vimos más arriba):"
   ]
  },
  {
   "cell_type": "code",
   "execution_count": 22,
   "id": "b1d0271c",
   "metadata": {},
   "outputs": [
    {
     "data": {
      "text/html": [
       "<div>\n",
       "<style scoped>\n",
       "    .dataframe tbody tr th:only-of-type {\n",
       "        vertical-align: middle;\n",
       "    }\n",
       "\n",
       "    .dataframe tbody tr th {\n",
       "        vertical-align: top;\n",
       "    }\n",
       "\n",
       "    .dataframe thead th {\n",
       "        text-align: right;\n",
       "    }\n",
       "</style>\n",
       "<table border=\"1\" class=\"dataframe\">\n",
       "  <thead>\n",
       "    <tr style=\"text-align: right;\">\n",
       "      <th></th>\n",
       "      <th>distance</th>\n",
       "      <th>moons</th>\n",
       "    </tr>\n",
       "  </thead>\n",
       "  <tbody>\n",
       "    <tr>\n",
       "      <th>Mercurio</th>\n",
       "      <td>0.39</td>\n",
       "      <td>0</td>\n",
       "    </tr>\n",
       "    <tr>\n",
       "      <th>Venus</th>\n",
       "      <td>0.72</td>\n",
       "      <td>0</td>\n",
       "    </tr>\n",
       "    <tr>\n",
       "      <th>Tierra</th>\n",
       "      <td>1.00</td>\n",
       "      <td>1</td>\n",
       "    </tr>\n",
       "    <tr>\n",
       "      <th>Marte</th>\n",
       "      <td>1.52</td>\n",
       "      <td>2</td>\n",
       "    </tr>\n",
       "  </tbody>\n",
       "</table>\n",
       "</div>"
      ],
      "text/plain": [
       "          distance  moons\n",
       "Mercurio      0.39      0\n",
       "Venus         0.72      0\n",
       "Tierra        1.00      1\n",
       "Marte         1.52      2"
      ]
     },
     "execution_count": 22,
     "metadata": {},
     "output_type": "execute_result"
    }
   ],
   "source": [
    "pd.DataFrame({'distance': dis, 'moons': lunas})"
   ]
  },
  {
   "cell_type": "markdown",
   "id": "35816ac0",
   "metadata": {},
   "source": [
    "A partir de un array:"
   ]
  },
  {
   "cell_type": "code",
   "execution_count": 23,
   "id": "2aae030e",
   "metadata": {},
   "outputs": [
    {
     "data": {
      "text/html": [
       "<div>\n",
       "<style scoped>\n",
       "    .dataframe tbody tr th:only-of-type {\n",
       "        vertical-align: middle;\n",
       "    }\n",
       "\n",
       "    .dataframe tbody tr th {\n",
       "        vertical-align: top;\n",
       "    }\n",
       "\n",
       "    .dataframe thead th {\n",
       "        text-align: right;\n",
       "    }\n",
       "</style>\n",
       "<table border=\"1\" class=\"dataframe\">\n",
       "  <thead>\n",
       "    <tr style=\"text-align: right;\">\n",
       "      <th></th>\n",
       "      <th>0</th>\n",
       "      <th>1</th>\n",
       "    </tr>\n",
       "  </thead>\n",
       "  <tbody>\n",
       "    <tr>\n",
       "      <th>0</th>\n",
       "      <td>5</td>\n",
       "      <td>3</td>\n",
       "    </tr>\n",
       "    <tr>\n",
       "      <th>1</th>\n",
       "      <td>3</td>\n",
       "      <td>1</td>\n",
       "    </tr>\n",
       "    <tr>\n",
       "      <th>2</th>\n",
       "      <td>9</td>\n",
       "      <td>7</td>\n",
       "    </tr>\n",
       "  </tbody>\n",
       "</table>\n",
       "</div>"
      ],
      "text/plain": [
       "   0  1\n",
       "0  5  3\n",
       "1  3  1\n",
       "2  9  7"
      ]
     },
     "execution_count": 23,
     "metadata": {},
     "output_type": "execute_result"
    }
   ],
   "source": [
    "import numpy as np\n",
    "data = np.random.randint(10, size=(3,2))\n",
    "pd.DataFrame(data)"
   ]
  },
  {
   "cell_type": "markdown",
   "id": "1ce438ad",
   "metadata": {},
   "source": [
    "Si no definimos ni columnas ni filas, se utizan secuencias de enteros."
   ]
  },
  {
   "cell_type": "code",
   "execution_count": 24,
   "id": "8ac5b0d3",
   "metadata": {},
   "outputs": [
    {
     "data": {
      "text/html": [
       "<div>\n",
       "<style scoped>\n",
       "    .dataframe tbody tr th:only-of-type {\n",
       "        vertical-align: middle;\n",
       "    }\n",
       "\n",
       "    .dataframe tbody tr th {\n",
       "        vertical-align: top;\n",
       "    }\n",
       "\n",
       "    .dataframe thead th {\n",
       "        text-align: right;\n",
       "    }\n",
       "</style>\n",
       "<table border=\"1\" class=\"dataframe\">\n",
       "  <thead>\n",
       "    <tr style=\"text-align: right;\">\n",
       "      <th></th>\n",
       "      <th>eggs</th>\n",
       "      <th>spam</th>\n",
       "    </tr>\n",
       "  </thead>\n",
       "  <tbody>\n",
       "    <tr>\n",
       "      <th>a</th>\n",
       "      <td>5</td>\n",
       "      <td>3</td>\n",
       "    </tr>\n",
       "    <tr>\n",
       "      <th>b</th>\n",
       "      <td>3</td>\n",
       "      <td>1</td>\n",
       "    </tr>\n",
       "    <tr>\n",
       "      <th>c</th>\n",
       "      <td>9</td>\n",
       "      <td>7</td>\n",
       "    </tr>\n",
       "  </tbody>\n",
       "</table>\n",
       "</div>"
      ],
      "text/plain": [
       "   eggs  spam\n",
       "a     5     3\n",
       "b     3     1\n",
       "c     9     7"
      ]
     },
     "execution_count": 24,
     "metadata": {},
     "output_type": "execute_result"
    }
   ],
   "source": [
    "pd.DataFrame(data, columns=['eggs', 'spam'], \n",
    "              index=['a', 'b', 'c'])"
   ]
  },
  {
   "cell_type": "markdown",
   "id": "025ff95c",
   "metadata": {},
   "source": [
    "Y de un array estructurado:"
   ]
  },
  {
   "cell_type": "code",
   "execution_count": 25,
   "id": "f7d4d22b",
   "metadata": {},
   "outputs": [
    {
     "data": {
      "text/html": [
       "<div>\n",
       "<style scoped>\n",
       "    .dataframe tbody tr th:only-of-type {\n",
       "        vertical-align: middle;\n",
       "    }\n",
       "\n",
       "    .dataframe tbody tr th {\n",
       "        vertical-align: top;\n",
       "    }\n",
       "\n",
       "    .dataframe thead th {\n",
       "        text-align: right;\n",
       "    }\n",
       "</style>\n",
       "<table border=\"1\" class=\"dataframe\">\n",
       "  <thead>\n",
       "    <tr style=\"text-align: right;\">\n",
       "      <th></th>\n",
       "      <th>A</th>\n",
       "      <th>B</th>\n",
       "    </tr>\n",
       "  </thead>\n",
       "  <tbody>\n",
       "    <tr>\n",
       "      <th>0</th>\n",
       "      <td>0</td>\n",
       "      <td>0.0</td>\n",
       "    </tr>\n",
       "    <tr>\n",
       "      <th>1</th>\n",
       "      <td>0</td>\n",
       "      <td>0.0</td>\n",
       "    </tr>\n",
       "    <tr>\n",
       "      <th>2</th>\n",
       "      <td>0</td>\n",
       "      <td>0.0</td>\n",
       "    </tr>\n",
       "  </tbody>\n",
       "</table>\n",
       "</div>"
      ],
      "text/plain": [
       "   A    B\n",
       "0  0  0.0\n",
       "1  0  0.0\n",
       "2  0  0.0"
      ]
     },
     "execution_count": 25,
     "metadata": {},
     "output_type": "execute_result"
    }
   ],
   "source": [
    "estrc = np.zeros(3, dtype=[('A', 'i8'), ('B', 'f8')])\n",
    "pd.DataFrame(estrc)"
   ]
  },
  {
   "cell_type": "markdown",
   "id": "38ffd027",
   "metadata": {},
   "source": [
    "## `Index`\n",
    "\n",
    "Hemos visto que tanto `Series` como `DataFrame` tienen un objeto `index`.\n",
    "Este puede entenderse o bien como un array inmutable o bien como \n",
    "un conjunto ordenado (como el tipo `set` de python, pero manteniendo el \n",
    "orden de inserción). Como las propiedades del índice tiene consecuencias\n",
    "en la indexación en pandas, vamos a explorarlas."
   ]
  },
  {
   "cell_type": "code",
   "execution_count": 26,
   "id": "4674ce35",
   "metadata": {},
   "outputs": [],
   "source": [
    "ind = pd.Index([4, 2, 1, 7, 11])"
   ]
  },
  {
   "cell_type": "markdown",
   "id": "b055f968",
   "metadata": {},
   "source": [
    "Los objetos de índice tiene muchas propiedades en común con `ndarray`"
   ]
  },
  {
   "cell_type": "code",
   "execution_count": 27,
   "id": "43e4c6e6",
   "metadata": {},
   "outputs": [
    {
     "name": "stdout",
     "output_type": "stream",
     "text": [
      "(5,)\n",
      "int64\n",
      "2\n",
      "Index([4, 1, 11], dtype='int64')\n"
     ]
    }
   ],
   "source": [
    "print(ind.shape)\n",
    "print(ind.dtype)\n",
    "print(ind[1])\n",
    "print(ind[::2])"
   ]
  },
  {
   "cell_type": "markdown",
   "id": "a30ffd66",
   "metadata": {},
   "source": [
    "Una diferencias es que `Index` es inmutable"
   ]
  },
  {
   "cell_type": "code",
   "execution_count": 28,
   "id": "2ed5c8b9",
   "metadata": {
    "tags": [
     "raises-exception"
    ]
   },
   "outputs": [
    {
     "ename": "TypeError",
     "evalue": "Index does not support mutable operations",
     "output_type": "error",
     "traceback": [
      "\u001b[0;31m---------------------------------------------------------------------------\u001b[0m",
      "\u001b[0;31mTypeError\u001b[0m                                 Traceback (most recent call last)",
      "Cell \u001b[0;32mIn[28], line 1\u001b[0m\n\u001b[0;32m----> 1\u001b[0m \u001b[43mind\u001b[49m\u001b[43m[\u001b[49m\u001b[38;5;241;43m0\u001b[39;49m\u001b[43m]\u001b[49m \u001b[38;5;241m=\u001b[39m \u001b[38;5;241m8\u001b[39m\n",
      "File \u001b[0;32m/opt/hostedtoolcache/Python/3.11.5/x64/lib/python3.11/site-packages/pandas/core/indexes/base.py:5347\u001b[0m, in \u001b[0;36mIndex.__setitem__\u001b[0;34m(self, key, value)\u001b[0m\n\u001b[1;32m   5345\u001b[0m \u001b[38;5;129m@final\u001b[39m\n\u001b[1;32m   5346\u001b[0m \u001b[38;5;28;01mdef\u001b[39;00m \u001b[38;5;21m__setitem__\u001b[39m(\u001b[38;5;28mself\u001b[39m, key, value) \u001b[38;5;241m-\u001b[39m\u001b[38;5;241m>\u001b[39m \u001b[38;5;28;01mNone\u001b[39;00m:\n\u001b[0;32m-> 5347\u001b[0m     \u001b[38;5;28;01mraise\u001b[39;00m \u001b[38;5;167;01mTypeError\u001b[39;00m(\u001b[38;5;124m\"\u001b[39m\u001b[38;5;124mIndex does not support mutable operations\u001b[39m\u001b[38;5;124m\"\u001b[39m)\n",
      "\u001b[0;31mTypeError\u001b[0m: Index does not support mutable operations"
     ]
    }
   ],
   "source": [
    "ind[0] = 8"
   ]
  },
  {
   "cell_type": "markdown",
   "id": "b6269531",
   "metadata": {},
   "source": [
    "Por otro lado, `Index` comparte propiedades del tipo `set`.\n",
    "Al crear `DataFrame` tenemos que poder unir los indices que proceden\n",
    "de los objetos `Serie`"
   ]
  },
  {
   "cell_type": "code",
   "execution_count": 29,
   "id": "78003975",
   "metadata": {},
   "outputs": [],
   "source": [
    "ind1 = pd.Index([1, 3, 5, 7, 9])\n",
    "ind2 = pd.Index([2, 3, 5, 7, 11])"
   ]
  },
  {
   "cell_type": "markdown",
   "id": "dd048a4a",
   "metadata": {},
   "source": [
    "Tenemos las operaciones de intersección y unión de conjuntos:"
   ]
  },
  {
   "cell_type": "code",
   "execution_count": 30,
   "id": "7a453acc",
   "metadata": {},
   "outputs": [
    {
     "data": {
      "text/plain": [
       "Index([3, 5, 7], dtype='int64')"
      ]
     },
     "execution_count": 30,
     "metadata": {},
     "output_type": "execute_result"
    }
   ],
   "source": [
    "ind1.intersection(ind2) "
   ]
  },
  {
   "cell_type": "code",
   "execution_count": 31,
   "id": "53aaf676",
   "metadata": {},
   "outputs": [
    {
     "data": {
      "text/plain": [
       "Index([1, 2, 3, 5, 7, 9, 11], dtype='int64')"
      ]
     },
     "execution_count": 31,
     "metadata": {},
     "output_type": "execute_result"
    }
   ],
   "source": [
    "ind1.union(ind2) "
   ]
  },
  {
   "cell_type": "markdown",
   "id": "abb14f4a",
   "metadata": {},
   "source": [
    "Así como la diferencia simétrica (elementos de la unión que no están\n",
    "en la intersección)"
   ]
  },
  {
   "cell_type": "code",
   "execution_count": 32,
   "id": "98683749",
   "metadata": {},
   "outputs": [
    {
     "data": {
      "text/plain": [
       "Index([1, 2, 9, 11], dtype='int64')"
      ]
     },
     "execution_count": 32,
     "metadata": {},
     "output_type": "execute_result"
    }
   ],
   "source": [
    "ind1.symmetric_difference(ind2)"
   ]
  },
  {
   "cell_type": "markdown",
   "id": "15056fe9",
   "metadata": {},
   "source": [
    "En versiones anteriores de pandas, era posible usar `&`, `|` y `^` como\n",
    "en los objetos `set`, pero esta opción se está eliminando:"
   ]
  },
  {
   "cell_type": "code",
   "execution_count": 33,
   "id": "c52aa055",
   "metadata": {},
   "outputs": [
    {
     "data": {
      "text/plain": [
       "Index([3, 3, 5, 7, 11], dtype='int64')"
      ]
     },
     "execution_count": 33,
     "metadata": {},
     "output_type": "execute_result"
    }
   ],
   "source": [
    "ind1 | ind2 "
   ]
  }
 ],
 "metadata": {
  "jupytext": {
   "formats": "md:myst",
   "text_representation": {
    "extension": ".md",
    "format_name": "myst"
   }
  },
  "kernelspec": {
   "display_name": "Python 3",
   "language": "python",
   "name": "python3"
  },
  "language_info": {
   "codemirror_mode": {
    "name": "ipython",
    "version": 3
   },
   "file_extension": ".py",
   "mimetype": "text/x-python",
   "name": "python",
   "nbconvert_exporter": "python",
   "pygments_lexer": "ipython3",
   "version": "3.11.5"
  },
  "source_map": [
   11,
   27,
   30,
   46,
   49,
   55,
   60,
   63,
   68,
   73,
   75,
   83,
   87,
   91,
   95,
   97,
   103,
   107,
   111,
   113,
   121,
   124,
   130,
   133,
   137,
   139,
   152,
   157,
   162,
   165,
   168,
   170,
   172,
   174,
   184,
   186,
   199,
   201,
   205,
   208,
   215,
   217,
   220,
   224,
   228,
   231,
   234,
   237,
   246,
   248,
   253,
   258,
   261,
   264,
   270,
   273,
   276,
   280,
   282,
   287,
   289,
   292
  ]
 },
 "nbformat": 4,
 "nbformat_minor": 5
}