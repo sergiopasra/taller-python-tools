{
 "cells": [
  {
   "cell_type": "markdown",
   "id": "atomic-administration",
   "metadata": {},
   "source": [
    "# Pandas\n",
    "\n",
    "En la sección anterior ya vimos como numpy proporciona soporte \n",
    "para arrays de con tipos homogéneos. En el último apartado\n",
    "vimos los *arrays estructurados*, un tipo de array para tratar\n",
    "con datos tabulares. Sin embargo, los propios desarrolladores\n",
    "de numpy indican que esta estructura solo es apropiada para los casos\n",
    "de uso más sencillos.\n",
    "\n",
    "Pandas es un paquete construido sobre numpy que proporciona\n",
    "un tipo de datos `DataFrame`. Este tipo es, básicamente, un array\n",
    "multidimensional heterogéneo, con capacidad de manejar datos faltantes\n",
    "y con nombres para filas y columnas."
   ]
  },
  {
   "cell_type": "code",
   "execution_count": 1,
   "id": "august-intention",
   "metadata": {},
   "outputs": [
    {
     "data": {
      "text/plain": [
       "'1.2.2'"
      ]
     },
     "execution_count": 1,
     "metadata": {},
     "output_type": "execute_result"
    }
   ],
   "source": [
    "import pandas as pd\n",
    "pd.__version__"
   ]
  },
  {
   "cell_type": "markdown",
   "id": "authorized-aggregate",
   "metadata": {},
   "source": [
    "# Tipos de datos\n",
    "\n",
    "Los tipos de datos de pandas pueden entenderse como versiones\n",
    "mejoradas de los arrays estructurados de numpy, donde además\n",
    "se pueden añadir etiquetas tanto a filas como a columnas.\n",
    "\n",
    "Pandas proporciona, básicamente, objetos para 1d, 2d y 3d.\n",
    "El tipo 3d se denomina `Panel` y no lo veremos aquí.\n",
    "\n",
    "\n",
    "## `Series`\n",
    "\n",
    "El tipo 1D se denomina `Series`"
   ]
  },
  {
   "cell_type": "code",
   "execution_count": 2,
   "id": "surprising-vehicle",
   "metadata": {},
   "outputs": [
    {
     "data": {
      "text/plain": [
       "0   -1.0\n",
       "1   -0.5\n",
       "2    0.0\n",
       "3    0.5\n",
       "4    1.0\n",
       "dtype: float64"
      ]
     },
     "execution_count": 2,
     "metadata": {},
     "output_type": "execute_result"
    }
   ],
   "source": [
    "data = pd.Series([-1.0, -0.5, 0, 0.5, 1.0])\n",
    "data"
   ]
  },
  {
   "cell_type": "markdown",
   "id": "embedded-decimal",
   "metadata": {},
   "source": [
    "Podemos ver que además de tener los datos, también tenemos\n",
    "una secuencia de índices. Se puede acceder a ambos con `values`\n",
    "e `indexp`, respectivamente"
   ]
  },
  {
   "cell_type": "code",
   "execution_count": 3,
   "id": "polyphonic-friendship",
   "metadata": {},
   "outputs": [
    {
     "name": "stdout",
     "output_type": "stream",
     "text": [
      "<class 'numpy.ndarray'>\n"
     ]
    },
    {
     "data": {
      "text/plain": [
       "array([-1. , -0.5,  0. ,  0.5,  1. ])"
      ]
     },
     "execution_count": 3,
     "metadata": {},
     "output_type": "execute_result"
    }
   ],
   "source": [
    "print(type(data.values))\n",
    "data.values"
   ]
  },
  {
   "cell_type": "code",
   "execution_count": 4,
   "id": "immune-cincinnati",
   "metadata": {},
   "outputs": [
    {
     "name": "stdout",
     "output_type": "stream",
     "text": [
      "<class 'pandas.core.indexes.range.RangeIndex'>\n"
     ]
    },
    {
     "data": {
      "text/plain": [
       "RangeIndex(start=0, stop=5, step=1)"
      ]
     },
     "execution_count": 4,
     "metadata": {},
     "output_type": "execute_result"
    }
   ],
   "source": [
    "print(type(data.index))\n",
    "data.index"
   ]
  },
  {
   "cell_type": "markdown",
   "id": "specialized-regular",
   "metadata": {},
   "source": [
    "Podemos acceder a los valores indexando como una lista:"
   ]
  },
  {
   "cell_type": "code",
   "execution_count": 5,
   "id": "alike-politics",
   "metadata": {},
   "outputs": [
    {
     "data": {
      "text/plain": [
       "0.0"
      ]
     },
     "execution_count": 5,
     "metadata": {},
     "output_type": "execute_result"
    }
   ],
   "source": [
    "data[2]"
   ]
  },
  {
   "cell_type": "code",
   "execution_count": 6,
   "id": "north-mailman",
   "metadata": {},
   "outputs": [
    {
     "data": {
      "text/plain": [
       "1   -0.5\n",
       "2    0.0\n",
       "3    0.5\n",
       "dtype: float64"
      ]
     },
     "execution_count": 6,
     "metadata": {},
     "output_type": "execute_result"
    }
   ],
   "source": [
    "data[1:4]"
   ]
  },
  {
   "cell_type": "markdown",
   "id": "played-flesh",
   "metadata": {},
   "source": [
    "Podría parecer que `Series` es intercambiable con `ndarray`.\n",
    "Una diferencia fundamental es el índice. Mientras que en numpy es\n",
    "implícito (entero, empieza en cero), en pandas es explícito. \n",
    "\n",
    "Podemos, por ejemplo, utilizar una cadena como índice:"
   ]
  },
  {
   "cell_type": "code",
   "execution_count": 7,
   "id": "extraordinary-playing",
   "metadata": {},
   "outputs": [
    {
     "data": {
      "text/plain": [
       "a   -1.0\n",
       "b   -0.5\n",
       "c    0.0\n",
       "d    0.5\n",
       "e    1.0\n",
       "dtype: float64"
      ]
     },
     "execution_count": 7,
     "metadata": {},
     "output_type": "execute_result"
    }
   ],
   "source": [
    "data = pd.Series([-1.0, -0.5, 0, 0.5, 1.0],\n",
    "                 index=['a', 'b', 'c', 'd', 'e'])\n",
    "data"
   ]
  },
  {
   "cell_type": "markdown",
   "id": "liberal-domain",
   "metadata": {},
   "source": [
    "El acceso a los datos sigue funcionando:"
   ]
  },
  {
   "cell_type": "code",
   "execution_count": 8,
   "id": "weighted-wisdom",
   "metadata": {},
   "outputs": [
    {
     "data": {
      "text/plain": [
       "-1.0"
      ]
     },
     "execution_count": 8,
     "metadata": {},
     "output_type": "execute_result"
    }
   ],
   "source": [
    "data['a']"
   ]
  },
  {
   "cell_type": "code",
   "execution_count": 9,
   "id": "comparative-rebate",
   "metadata": {},
   "outputs": [
    {
     "data": {
      "text/plain": [
       "a   -1.0\n",
       "b   -0.5\n",
       "c    0.0\n",
       "d    0.5\n",
       "dtype: float64"
      ]
     },
     "execution_count": 9,
     "metadata": {},
     "output_type": "execute_result"
    }
   ],
   "source": [
    "data['a':'d']"
   ]
  },
  {
   "cell_type": "markdown",
   "id": "hawaiian-rover",
   "metadata": {},
   "source": [
    "También podemos usar como índices enteros, pero no ordenados, por ejemplo:"
   ]
  },
  {
   "cell_type": "code",
   "execution_count": 10,
   "id": "junior-mustang",
   "metadata": {},
   "outputs": [
    {
     "data": {
      "text/plain": [
       "1   -1.0\n",
       "3   -0.5\n",
       "0    0.0\n",
       "2    0.5\n",
       "4    1.0\n",
       "dtype: float64"
      ]
     },
     "execution_count": 10,
     "metadata": {},
     "output_type": "execute_result"
    }
   ],
   "source": [
    "data = pd.Series([-1.0, -0.5, 0, 0.5, 1.0],\n",
    "                 index=[1, 3, 0, 2, 4])\n",
    "data"
   ]
  },
  {
   "cell_type": "markdown",
   "id": "theoretical-floating",
   "metadata": {},
   "source": [
    "Y entonces tenemos que:"
   ]
  },
  {
   "cell_type": "code",
   "execution_count": 11,
   "id": "recovered-cargo",
   "metadata": {},
   "outputs": [
    {
     "data": {
      "text/plain": [
       "-0.5"
      ]
     },
     "execution_count": 11,
     "metadata": {},
     "output_type": "execute_result"
    }
   ],
   "source": [
    "data[3]"
   ]
  },
  {
   "cell_type": "markdown",
   "id": "inappropriate-dealer",
   "metadata": {},
   "source": [
    "Como vemos, es el índice, y no la posición, lo que se utiliza\n",
    "para acceder a los datos con el operador `[]`. \n",
    "\n",
    "En esto, `Series` se parece a una generalización de un diccionario:"
   ]
  },
  {
   "cell_type": "code",
   "execution_count": 12,
   "id": "certain-digest",
   "metadata": {},
   "outputs": [
    {
     "data": {
      "text/plain": [
       "-0.5"
      ]
     },
     "execution_count": 12,
     "metadata": {},
     "output_type": "execute_result"
    }
   ],
   "source": [
    "datadic = {1: -1.0, 3:-0.5, 0:0.0, 2:0.5, 4:1.0}\n",
    "datadic[3]"
   ]
  },
  {
   "cell_type": "markdown",
   "id": "prospective-favor",
   "metadata": {},
   "source": [
    "En realidad, `Series` puede crearse a partir de un diccionario;\n",
    "`index` se genera automáticamente a partir de las claves del diccionario"
   ]
  },
  {
   "cell_type": "code",
   "execution_count": 13,
   "id": "acting-locking",
   "metadata": {},
   "outputs": [
    {
     "data": {
      "text/plain": [
       "Mercurio    0.39\n",
       "Venus       0.72\n",
       "Tierra      1.00\n",
       "Marte       1.52\n",
       "dtype: float64"
      ]
     },
     "execution_count": 13,
     "metadata": {},
     "output_type": "execute_result"
    }
   ],
   "source": [
    "rocky = {'Mercurio': 0.39, 'Venus':0.72, 'Tierra':1.0, 'Marte':1.52}\n",
    "pd.Series(rocky)"
   ]
  },
  {
   "cell_type": "markdown",
   "id": "collective-single",
   "metadata": {},
   "source": [
    "Incluso aquí podemos decidir reorder o no incluir valores:"
   ]
  },
  {
   "cell_type": "code",
   "execution_count": 14,
   "id": "united-passage",
   "metadata": {},
   "outputs": [
    {
     "data": {
      "text/plain": [
       "Marte     1.52\n",
       "Tierra    1.00\n",
       "dtype: float64"
      ]
     },
     "execution_count": 14,
     "metadata": {},
     "output_type": "execute_result"
    }
   ],
   "source": [
    "pd.Series(rocky, index=['Marte', 'Tierra'])"
   ]
  },
  {
   "cell_type": "markdown",
   "id": "played-indianapolis",
   "metadata": {},
   "source": [
    "Pueden encontrarse más formas de construir `Series` en la documentación de Pandas.\n",
    "\n",
    "\n",
    "## `DataFrame`\n",
    "\n",
    "La siguiente estructura es `DataFrame`. Igual que con `Series`, podemos\n",
    "entendarla como una generalización de un `ndarray` o de un diccionario.\n",
    "\n",
    "Podemos imaginar un `DataFrame` como una secuencia objetos `Serie`\n",
    "con un índice común."
   ]
  },
  {
   "cell_type": "code",
   "execution_count": 15,
   "id": "major-stupid",
   "metadata": {},
   "outputs": [],
   "source": [
    "rocky_d = {'Mercurio': 0.39, 'Venus':0.72, 'Tierra':1.0, 'Marte':1.52}\n",
    "dis = pd.Series(rocky_d)\n",
    "rocky_l = {'Mercurio': 0, 'Venus':0, 'Tierra':1, 'Marte':2}\n",
    "lunas = pd.Series(rocky_l)"
   ]
  },
  {
   "cell_type": "markdown",
   "id": "expanded-vulnerability",
   "metadata": {},
   "source": [
    "Ahora que tenemos dos series, las combinamos en un `DataFrame`"
   ]
  },
  {
   "cell_type": "code",
   "execution_count": 16,
   "id": "conscious-boston",
   "metadata": {},
   "outputs": [
    {
     "data": {
      "text/html": [
       "<div>\n",
       "<style scoped>\n",
       "    .dataframe tbody tr th:only-of-type {\n",
       "        vertical-align: middle;\n",
       "    }\n",
       "\n",
       "    .dataframe tbody tr th {\n",
       "        vertical-align: top;\n",
       "    }\n",
       "\n",
       "    .dataframe thead th {\n",
       "        text-align: right;\n",
       "    }\n",
       "</style>\n",
       "<table border=\"1\" class=\"dataframe\">\n",
       "  <thead>\n",
       "    <tr style=\"text-align: right;\">\n",
       "      <th></th>\n",
       "      <th>distance</th>\n",
       "      <th>moons</th>\n",
       "    </tr>\n",
       "  </thead>\n",
       "  <tbody>\n",
       "    <tr>\n",
       "      <th>Mercurio</th>\n",
       "      <td>0.39</td>\n",
       "      <td>0</td>\n",
       "    </tr>\n",
       "    <tr>\n",
       "      <th>Venus</th>\n",
       "      <td>0.72</td>\n",
       "      <td>0</td>\n",
       "    </tr>\n",
       "    <tr>\n",
       "      <th>Tierra</th>\n",
       "      <td>1.00</td>\n",
       "      <td>1</td>\n",
       "    </tr>\n",
       "    <tr>\n",
       "      <th>Marte</th>\n",
       "      <td>1.52</td>\n",
       "      <td>2</td>\n",
       "    </tr>\n",
       "  </tbody>\n",
       "</table>\n",
       "</div>"
      ],
      "text/plain": [
       "          distance  moons\n",
       "Mercurio      0.39      0\n",
       "Venus         0.72      0\n",
       "Tierra        1.00      1\n",
       "Marte         1.52      2"
      ]
     },
     "execution_count": 16,
     "metadata": {},
     "output_type": "execute_result"
    }
   ],
   "source": [
    "rocky = pd.DataFrame({'distance': dis, 'moons': lunas})\n",
    "rocky"
   ]
  },
  {
   "cell_type": "markdown",
   "id": "concerned-colony",
   "metadata": {},
   "source": [
    "El objeto `DataFrame` tiene un `index`, igual que `Series`"
   ]
  },
  {
   "cell_type": "code",
   "execution_count": 17,
   "id": "short-relation",
   "metadata": {},
   "outputs": [
    {
     "data": {
      "text/plain": [
       "Index(['Mercurio', 'Venus', 'Tierra', 'Marte'], dtype='object')"
      ]
     },
     "execution_count": 17,
     "metadata": {},
     "output_type": "execute_result"
    }
   ],
   "source": [
    "rocky.index"
   ]
  },
  {
   "cell_type": "markdown",
   "id": "helpful-suffering",
   "metadata": {},
   "source": [
    "Además, tiene un atributo `columns`:"
   ]
  },
  {
   "cell_type": "code",
   "execution_count": 18,
   "id": "smooth-correspondence",
   "metadata": {},
   "outputs": [
    {
     "data": {
      "text/plain": [
       "Index(['distance', 'moons'], dtype='object')"
      ]
     },
     "execution_count": 18,
     "metadata": {},
     "output_type": "execute_result"
    }
   ],
   "source": [
    "rocky.columns"
   ]
  },
  {
   "cell_type": "markdown",
   "id": "central-finish",
   "metadata": {},
   "source": [
    "Así que podemos imaginar `DataFrame` como una generalización de\n",
    "un array estructurado de numpy, en el que tanto filas como columnas\n",
    "tienen un índice generalizado.\n",
    "\n",
    "Pero quizá sea más claro pensar que `DataFrame` es una generalización\n",
    "de un diccionario, cuyos valores son `Series`. Así:\n",
    "\n",
    "Además, tiene un atributo `columns`:"
   ]
  },
  {
   "cell_type": "code",
   "execution_count": 19,
   "id": "stretch-cambodia",
   "metadata": {},
   "outputs": [
    {
     "data": {
      "text/plain": [
       "Mercurio    0\n",
       "Venus       0\n",
       "Tierra      1\n",
       "Marte       2\n",
       "Name: moons, dtype: int64"
      ]
     },
     "execution_count": 19,
     "metadata": {},
     "output_type": "execute_result"
    }
   ],
   "source": [
    "rocky['moons']"
   ]
  },
  {
   "cell_type": "markdown",
   "id": "pressed-broad",
   "metadata": {},
   "source": [
    "Mientras que un ndarray, `data[0]` devuelve la primera fila, \n",
    "en un DataFrame, `data['valor']` devuelve una columna.\n",
    "\n",
    "\n",
    "Se pueden construir objetos `DataFrame` de muchas maneras diferentes,\n",
    "atendiendo a su doble condición de seudo-array y seudo-diccionario.\n",
    "\n",
    "Por ejemplo:\n",
    "\n",
    "\n",
    "Con una Serie:"
   ]
  },
  {
   "cell_type": "code",
   "execution_count": 20,
   "id": "corrected-stations",
   "metadata": {},
   "outputs": [
    {
     "data": {
      "text/html": [
       "<div>\n",
       "<style scoped>\n",
       "    .dataframe tbody tr th:only-of-type {\n",
       "        vertical-align: middle;\n",
       "    }\n",
       "\n",
       "    .dataframe tbody tr th {\n",
       "        vertical-align: top;\n",
       "    }\n",
       "\n",
       "    .dataframe thead th {\n",
       "        text-align: right;\n",
       "    }\n",
       "</style>\n",
       "<table border=\"1\" class=\"dataframe\">\n",
       "  <thead>\n",
       "    <tr style=\"text-align: right;\">\n",
       "      <th></th>\n",
       "      <th>distance</th>\n",
       "    </tr>\n",
       "  </thead>\n",
       "  <tbody>\n",
       "    <tr>\n",
       "      <th>Mercurio</th>\n",
       "      <td>0.39</td>\n",
       "    </tr>\n",
       "    <tr>\n",
       "      <th>Venus</th>\n",
       "      <td>0.72</td>\n",
       "    </tr>\n",
       "    <tr>\n",
       "      <th>Tierra</th>\n",
       "      <td>1.00</td>\n",
       "    </tr>\n",
       "    <tr>\n",
       "      <th>Marte</th>\n",
       "      <td>1.52</td>\n",
       "    </tr>\n",
       "  </tbody>\n",
       "</table>\n",
       "</div>"
      ],
      "text/plain": [
       "          distance\n",
       "Mercurio      0.39\n",
       "Venus         0.72\n",
       "Tierra        1.00\n",
       "Marte         1.52"
      ]
     },
     "execution_count": 20,
     "metadata": {},
     "output_type": "execute_result"
    }
   ],
   "source": [
    "pd.DataFrame(dis, columns=['distance'])"
   ]
  },
  {
   "cell_type": "markdown",
   "id": "statutory-platinum",
   "metadata": {},
   "source": [
    "Con una lista de diccionarios:"
   ]
  },
  {
   "cell_type": "code",
   "execution_count": 21,
   "id": "inner-candy",
   "metadata": {},
   "outputs": [
    {
     "data": {
      "text/html": [
       "<div>\n",
       "<style scoped>\n",
       "    .dataframe tbody tr th:only-of-type {\n",
       "        vertical-align: middle;\n",
       "    }\n",
       "\n",
       "    .dataframe tbody tr th {\n",
       "        vertical-align: top;\n",
       "    }\n",
       "\n",
       "    .dataframe thead th {\n",
       "        text-align: right;\n",
       "    }\n",
       "</style>\n",
       "<table border=\"1\" class=\"dataframe\">\n",
       "  <thead>\n",
       "    <tr style=\"text-align: right;\">\n",
       "      <th></th>\n",
       "      <th>a</th>\n",
       "      <th>b</th>\n",
       "      <th>c</th>\n",
       "    </tr>\n",
       "  </thead>\n",
       "  <tbody>\n",
       "    <tr>\n",
       "      <th>0</th>\n",
       "      <td>1.0</td>\n",
       "      <td>2</td>\n",
       "      <td>NaN</td>\n",
       "    </tr>\n",
       "    <tr>\n",
       "      <th>1</th>\n",
       "      <td>NaN</td>\n",
       "      <td>6</td>\n",
       "      <td>1.0</td>\n",
       "    </tr>\n",
       "  </tbody>\n",
       "</table>\n",
       "</div>"
      ],
      "text/plain": [
       "     a  b    c\n",
       "0  1.0  2  NaN\n",
       "1  NaN  6  1.0"
      ]
     },
     "execution_count": 21,
     "metadata": {},
     "output_type": "execute_result"
    }
   ],
   "source": [
    "data = [{'a': 1, 'b': 2}, {'b': 6, 'c': 1}]\n",
    "pd.DataFrame(data)"
   ]
  },
  {
   "cell_type": "markdown",
   "id": "thorough-rouge",
   "metadata": {},
   "source": [
    "Aquí se usan las claves como columnas, y el número\n",
    "de orden del diccionario en la lista como índice.\n",
    "Y las claves no comunes se marcan como `NaN`\n",
    "\n",
    "Como un diccionario de Series (que ya vimos más arriba):"
   ]
  },
  {
   "cell_type": "code",
   "execution_count": 22,
   "id": "straight-sixth",
   "metadata": {},
   "outputs": [
    {
     "data": {
      "text/html": [
       "<div>\n",
       "<style scoped>\n",
       "    .dataframe tbody tr th:only-of-type {\n",
       "        vertical-align: middle;\n",
       "    }\n",
       "\n",
       "    .dataframe tbody tr th {\n",
       "        vertical-align: top;\n",
       "    }\n",
       "\n",
       "    .dataframe thead th {\n",
       "        text-align: right;\n",
       "    }\n",
       "</style>\n",
       "<table border=\"1\" class=\"dataframe\">\n",
       "  <thead>\n",
       "    <tr style=\"text-align: right;\">\n",
       "      <th></th>\n",
       "      <th>distance</th>\n",
       "      <th>moons</th>\n",
       "    </tr>\n",
       "  </thead>\n",
       "  <tbody>\n",
       "    <tr>\n",
       "      <th>Mercurio</th>\n",
       "      <td>0.39</td>\n",
       "      <td>0</td>\n",
       "    </tr>\n",
       "    <tr>\n",
       "      <th>Venus</th>\n",
       "      <td>0.72</td>\n",
       "      <td>0</td>\n",
       "    </tr>\n",
       "    <tr>\n",
       "      <th>Tierra</th>\n",
       "      <td>1.00</td>\n",
       "      <td>1</td>\n",
       "    </tr>\n",
       "    <tr>\n",
       "      <th>Marte</th>\n",
       "      <td>1.52</td>\n",
       "      <td>2</td>\n",
       "    </tr>\n",
       "  </tbody>\n",
       "</table>\n",
       "</div>"
      ],
      "text/plain": [
       "          distance  moons\n",
       "Mercurio      0.39      0\n",
       "Venus         0.72      0\n",
       "Tierra        1.00      1\n",
       "Marte         1.52      2"
      ]
     },
     "execution_count": 22,
     "metadata": {},
     "output_type": "execute_result"
    }
   ],
   "source": [
    "pd.DataFrame({'distance': dis, 'moons': lunas})"
   ]
  },
  {
   "cell_type": "markdown",
   "id": "recent-lawyer",
   "metadata": {},
   "source": [
    "A partir de un array:"
   ]
  },
  {
   "cell_type": "code",
   "execution_count": 23,
   "id": "objective-darkness",
   "metadata": {},
   "outputs": [
    {
     "data": {
      "text/html": [
       "<div>\n",
       "<style scoped>\n",
       "    .dataframe tbody tr th:only-of-type {\n",
       "        vertical-align: middle;\n",
       "    }\n",
       "\n",
       "    .dataframe tbody tr th {\n",
       "        vertical-align: top;\n",
       "    }\n",
       "\n",
       "    .dataframe thead th {\n",
       "        text-align: right;\n",
       "    }\n",
       "</style>\n",
       "<table border=\"1\" class=\"dataframe\">\n",
       "  <thead>\n",
       "    <tr style=\"text-align: right;\">\n",
       "      <th></th>\n",
       "      <th>0</th>\n",
       "      <th>1</th>\n",
       "    </tr>\n",
       "  </thead>\n",
       "  <tbody>\n",
       "    <tr>\n",
       "      <th>0</th>\n",
       "      <td>7</td>\n",
       "      <td>7</td>\n",
       "    </tr>\n",
       "    <tr>\n",
       "      <th>1</th>\n",
       "      <td>8</td>\n",
       "      <td>7</td>\n",
       "    </tr>\n",
       "    <tr>\n",
       "      <th>2</th>\n",
       "      <td>0</td>\n",
       "      <td>6</td>\n",
       "    </tr>\n",
       "  </tbody>\n",
       "</table>\n",
       "</div>"
      ],
      "text/plain": [
       "   0  1\n",
       "0  7  7\n",
       "1  8  7\n",
       "2  0  6"
      ]
     },
     "execution_count": 23,
     "metadata": {},
     "output_type": "execute_result"
    }
   ],
   "source": [
    "import numpy as np\n",
    "data = np.random.randint(10, size=(3,2))\n",
    "pd.DataFrame(data)"
   ]
  },
  {
   "cell_type": "markdown",
   "id": "particular-friendship",
   "metadata": {},
   "source": [
    "Si no definimos ni columnas ni filas, se utizan secuencias de enteros."
   ]
  },
  {
   "cell_type": "code",
   "execution_count": 24,
   "id": "increased-timber",
   "metadata": {},
   "outputs": [
    {
     "data": {
      "text/html": [
       "<div>\n",
       "<style scoped>\n",
       "    .dataframe tbody tr th:only-of-type {\n",
       "        vertical-align: middle;\n",
       "    }\n",
       "\n",
       "    .dataframe tbody tr th {\n",
       "        vertical-align: top;\n",
       "    }\n",
       "\n",
       "    .dataframe thead th {\n",
       "        text-align: right;\n",
       "    }\n",
       "</style>\n",
       "<table border=\"1\" class=\"dataframe\">\n",
       "  <thead>\n",
       "    <tr style=\"text-align: right;\">\n",
       "      <th></th>\n",
       "      <th>eggs</th>\n",
       "      <th>spam</th>\n",
       "    </tr>\n",
       "  </thead>\n",
       "  <tbody>\n",
       "    <tr>\n",
       "      <th>a</th>\n",
       "      <td>7</td>\n",
       "      <td>7</td>\n",
       "    </tr>\n",
       "    <tr>\n",
       "      <th>b</th>\n",
       "      <td>8</td>\n",
       "      <td>7</td>\n",
       "    </tr>\n",
       "    <tr>\n",
       "      <th>c</th>\n",
       "      <td>0</td>\n",
       "      <td>6</td>\n",
       "    </tr>\n",
       "  </tbody>\n",
       "</table>\n",
       "</div>"
      ],
      "text/plain": [
       "   eggs  spam\n",
       "a     7     7\n",
       "b     8     7\n",
       "c     0     6"
      ]
     },
     "execution_count": 24,
     "metadata": {},
     "output_type": "execute_result"
    }
   ],
   "source": [
    "pd.DataFrame(data, columns=['eggs', 'spam'], \n",
    "              index=['a', 'b', 'c'])"
   ]
  },
  {
   "cell_type": "markdown",
   "id": "dominant-prescription",
   "metadata": {},
   "source": [
    "Y de un array estructurado:"
   ]
  },
  {
   "cell_type": "code",
   "execution_count": 25,
   "id": "opponent-choir",
   "metadata": {},
   "outputs": [
    {
     "data": {
      "text/html": [
       "<div>\n",
       "<style scoped>\n",
       "    .dataframe tbody tr th:only-of-type {\n",
       "        vertical-align: middle;\n",
       "    }\n",
       "\n",
       "    .dataframe tbody tr th {\n",
       "        vertical-align: top;\n",
       "    }\n",
       "\n",
       "    .dataframe thead th {\n",
       "        text-align: right;\n",
       "    }\n",
       "</style>\n",
       "<table border=\"1\" class=\"dataframe\">\n",
       "  <thead>\n",
       "    <tr style=\"text-align: right;\">\n",
       "      <th></th>\n",
       "      <th>A</th>\n",
       "      <th>B</th>\n",
       "    </tr>\n",
       "  </thead>\n",
       "  <tbody>\n",
       "    <tr>\n",
       "      <th>0</th>\n",
       "      <td>0</td>\n",
       "      <td>0.0</td>\n",
       "    </tr>\n",
       "    <tr>\n",
       "      <th>1</th>\n",
       "      <td>0</td>\n",
       "      <td>0.0</td>\n",
       "    </tr>\n",
       "    <tr>\n",
       "      <th>2</th>\n",
       "      <td>0</td>\n",
       "      <td>0.0</td>\n",
       "    </tr>\n",
       "  </tbody>\n",
       "</table>\n",
       "</div>"
      ],
      "text/plain": [
       "   A    B\n",
       "0  0  0.0\n",
       "1  0  0.0\n",
       "2  0  0.0"
      ]
     },
     "execution_count": 25,
     "metadata": {},
     "output_type": "execute_result"
    }
   ],
   "source": [
    "estrc = np.zeros(3, dtype=[('A', 'i8'), ('B', 'f8')])\n",
    "pd.DataFrame(estrc)"
   ]
  },
  {
   "cell_type": "markdown",
   "id": "designing-latino",
   "metadata": {},
   "source": [
    "## `Index`\n",
    "\n",
    "Hemos visto que tanto `Series` como `DataFrame` tienen un objeto `index`.\n",
    "Este puede entenderse o bien como un array inmutable o bien como \n",
    "un conjunto ordenado (como el tipo `set` de python, pero manteniendo el \n",
    "orden de inserción). Como las propiedades del índice tiene consecuencias\n",
    "en la indexación en pandas, vamos a explorarlas."
   ]
  },
  {
   "cell_type": "code",
   "execution_count": 26,
   "id": "integral-algorithm",
   "metadata": {},
   "outputs": [],
   "source": [
    "ind = pd.Index([4, 2, 1, 7, 11])"
   ]
  },
  {
   "cell_type": "markdown",
   "id": "genuine-wrapping",
   "metadata": {},
   "source": [
    "Los objetos de índice tiene muchas propiedades en común con `ndarray`"
   ]
  },
  {
   "cell_type": "code",
   "execution_count": 27,
   "id": "substantial-chambers",
   "metadata": {},
   "outputs": [
    {
     "name": "stdout",
     "output_type": "stream",
     "text": [
      "(5,)\n",
      "int64\n",
      "2\n",
      "Int64Index([4, 1, 11], dtype='int64')\n"
     ]
    }
   ],
   "source": [
    "print(ind.shape)\n",
    "print(ind.dtype)\n",
    "print(ind[1])\n",
    "print(ind[::2])"
   ]
  },
  {
   "cell_type": "markdown",
   "id": "adapted-ghana",
   "metadata": {},
   "source": [
    "Una diferencias es que `Index` es inmutable"
   ]
  },
  {
   "cell_type": "code",
   "execution_count": 28,
   "id": "hidden-probe",
   "metadata": {
    "tags": [
     "raises-exception"
    ]
   },
   "outputs": [
    {
     "ename": "TypeError",
     "evalue": "Index does not support mutable operations",
     "output_type": "error",
     "traceback": [
      "\u001b[0;31m---------------------------------------------------------------------------\u001b[0m",
      "\u001b[0;31mTypeError\u001b[0m                                 Traceback (most recent call last)",
      "\u001b[0;32m<ipython-input-28-d9afdd3a0ded>\u001b[0m in \u001b[0;36m<module>\u001b[0;34m\u001b[0m\n\u001b[0;32m----> 1\u001b[0;31m \u001b[0mind\u001b[0m\u001b[0;34m[\u001b[0m\u001b[0;36m0\u001b[0m\u001b[0;34m]\u001b[0m \u001b[0;34m=\u001b[0m \u001b[0;36m8\u001b[0m\u001b[0;34m\u001b[0m\u001b[0;34m\u001b[0m\u001b[0m\n\u001b[0m",
      "\u001b[0;32m/opt/hostedtoolcache/Python/3.8.7/x64/lib/python3.8/site-packages/pandas/core/indexes/base.py\u001b[0m in \u001b[0;36m__setitem__\u001b[0;34m(self, key, value)\u001b[0m\n\u001b[1;32m   4275\u001b[0m     \u001b[0;34m@\u001b[0m\u001b[0mfinal\u001b[0m\u001b[0;34m\u001b[0m\u001b[0;34m\u001b[0m\u001b[0m\n\u001b[1;32m   4276\u001b[0m     \u001b[0;32mdef\u001b[0m \u001b[0m__setitem__\u001b[0m\u001b[0;34m(\u001b[0m\u001b[0mself\u001b[0m\u001b[0;34m,\u001b[0m \u001b[0mkey\u001b[0m\u001b[0;34m,\u001b[0m \u001b[0mvalue\u001b[0m\u001b[0;34m)\u001b[0m\u001b[0;34m:\u001b[0m\u001b[0;34m\u001b[0m\u001b[0;34m\u001b[0m\u001b[0m\n\u001b[0;32m-> 4277\u001b[0;31m         \u001b[0;32mraise\u001b[0m \u001b[0mTypeError\u001b[0m\u001b[0;34m(\u001b[0m\u001b[0;34m\"Index does not support mutable operations\"\u001b[0m\u001b[0;34m)\u001b[0m\u001b[0;34m\u001b[0m\u001b[0;34m\u001b[0m\u001b[0m\n\u001b[0m\u001b[1;32m   4278\u001b[0m \u001b[0;34m\u001b[0m\u001b[0m\n\u001b[1;32m   4279\u001b[0m     \u001b[0;32mdef\u001b[0m \u001b[0m__getitem__\u001b[0m\u001b[0;34m(\u001b[0m\u001b[0mself\u001b[0m\u001b[0;34m,\u001b[0m \u001b[0mkey\u001b[0m\u001b[0;34m)\u001b[0m\u001b[0;34m:\u001b[0m\u001b[0;34m\u001b[0m\u001b[0;34m\u001b[0m\u001b[0m\n",
      "\u001b[0;31mTypeError\u001b[0m: Index does not support mutable operations"
     ]
    }
   ],
   "source": [
    "ind[0] = 8"
   ]
  },
  {
   "cell_type": "markdown",
   "id": "norwegian-worthy",
   "metadata": {},
   "source": [
    "Por otro lado, `Index` comparte propiedades del tipo `set`.\n",
    "Al crear `DataFrame` tenemos que poder unir los indices que proceden\n",
    "de los objetos `Serie`"
   ]
  },
  {
   "cell_type": "code",
   "execution_count": 29,
   "id": "intelligent-showcase",
   "metadata": {},
   "outputs": [],
   "source": [
    "ind1 = pd.Index([1, 3, 5, 7, 9])\n",
    "ind2 = pd.Index([2, 3, 5, 7, 11])"
   ]
  },
  {
   "cell_type": "markdown",
   "id": "solid-camping",
   "metadata": {},
   "source": [
    "Tenemos las operaciones de intersección y unión de conjuntos:"
   ]
  },
  {
   "cell_type": "code",
   "execution_count": 30,
   "id": "alert-church",
   "metadata": {},
   "outputs": [
    {
     "data": {
      "text/plain": [
       "Int64Index([3, 5, 7], dtype='int64')"
      ]
     },
     "execution_count": 30,
     "metadata": {},
     "output_type": "execute_result"
    }
   ],
   "source": [
    "ind1.intersection(ind2) "
   ]
  },
  {
   "cell_type": "code",
   "execution_count": 31,
   "id": "liable-arizona",
   "metadata": {},
   "outputs": [
    {
     "data": {
      "text/plain": [
       "Int64Index([1, 2, 3, 5, 7, 9, 11], dtype='int64')"
      ]
     },
     "execution_count": 31,
     "metadata": {},
     "output_type": "execute_result"
    }
   ],
   "source": [
    "ind1.union(ind2) "
   ]
  },
  {
   "cell_type": "markdown",
   "id": "activated-america",
   "metadata": {},
   "source": [
    "Así como la diferencia simétrica (elementos de la unión que no están\n",
    "en la intersección)"
   ]
  },
  {
   "cell_type": "code",
   "execution_count": 32,
   "id": "provincial-printing",
   "metadata": {},
   "outputs": [
    {
     "data": {
      "text/plain": [
       "Int64Index([1, 2, 9, 11], dtype='int64')"
      ]
     },
     "execution_count": 32,
     "metadata": {},
     "output_type": "execute_result"
    }
   ],
   "source": [
    "ind1.symmetric_difference(ind2)"
   ]
  },
  {
   "cell_type": "markdown",
   "id": "saving-southwest",
   "metadata": {},
   "source": [
    "En versiones anteriores de pandas, era posible usar `&`, `|` y `^` como\n",
    "en los objetos `set`, pero esta opción se está eliminando:"
   ]
  },
  {
   "cell_type": "code",
   "execution_count": 33,
   "id": "alternate-instrumentation",
   "metadata": {},
   "outputs": [
    {
     "name": "stderr",
     "output_type": "stream",
     "text": [
      "<ipython-input-33-bd6c971caa26>:1: FutureWarning: Index.__or__ operating as a set operation is deprecated, in the future this will be a logical operation matching Series.__or__.  Use index.union(other) instead\n",
      "  ind1 | ind2\n"
     ]
    },
    {
     "data": {
      "text/plain": [
       "Int64Index([1, 2, 3, 5, 7, 9, 11], dtype='int64')"
      ]
     },
     "execution_count": 33,
     "metadata": {},
     "output_type": "execute_result"
    }
   ],
   "source": [
    "ind1 | ind2 "
   ]
  }
 ],
 "metadata": {
  "jupytext": {
   "formats": "md:myst",
   "text_representation": {
    "extension": ".md",
    "format_name": "myst"
   }
  },
  "kernelspec": {
   "display_name": "Python 3",
   "language": "python",
   "name": "python3"
  },
  "language_info": {
   "codemirror_mode": {
    "name": "ipython",
    "version": 3
   },
   "file_extension": ".py",
   "mimetype": "text/x-python",
   "name": "python",
   "nbconvert_exporter": "python",
   "pygments_lexer": "ipython3",
   "version": "3.8.7"
  },
  "source_map": [
   11,
   27,
   30,
   46,
   49,
   55,
   60,
   63,
   68,
   73,
   75,
   83,
   87,
   91,
   95,
   97,
   103,
   107,
   111,
   113,
   121,
   124,
   130,
   133,
   137,
   139,
   152,
   157,
   162,
   165,
   168,
   170,
   172,
   174,
   184,
   186,
   199,
   201,
   205,
   208,
   215,
   217,
   220,
   224,
   228,
   231,
   234,
   237,
   246,
   248,
   253,
   258,
   261,
   264,
   270,
   273,
   276,
   280,
   282,
   287,
   289,
   292
  ]
 },
 "nbformat": 4,
 "nbformat_minor": 5
}