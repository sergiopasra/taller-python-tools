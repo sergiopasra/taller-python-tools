{
 "cells": [
  {
   "cell_type": "markdown",
   "id": "friendly-playlist",
   "metadata": {},
   "source": [
    "# Pandas\n",
    "\n",
    "En la sección anterior ya vimos como numpy proporciona soporte \n",
    "para arrays de con tipos homogéneos. En el último apartado\n",
    "vimos los *arrays estructurados*, un tipo de array para tratar\n",
    "con datos tabulares. Sin embargo, los propios desarrolladores\n",
    "de numpy indican que esta estructura solo es apropiada para los casos\n",
    "de uso más sencillos.\n",
    "\n",
    "Pandas es un paquete construido sobre numpy que proporciona\n",
    "un tipo de datos `DataFrame`. Este tipo es, básicamente, un array\n",
    "multidimensional heterogéneo, con capacidad de manejar datos faltantes\n",
    "y con nombres para filas y columnas."
   ]
  },
  {
   "cell_type": "code",
   "execution_count": 1,
   "id": "collectible-russia",
   "metadata": {},
   "outputs": [
    {
     "data": {
      "text/plain": [
       "'1.2.2'"
      ]
     },
     "execution_count": 1,
     "metadata": {},
     "output_type": "execute_result"
    }
   ],
   "source": [
    "import pandas as pd\n",
    "pd.__version__"
   ]
  }
 ],
 "metadata": {
  "jupytext": {
   "formats": "md:myst",
   "text_representation": {
    "extension": ".md",
    "format_name": "myst"
   }
  },
  "kernelspec": {
   "display_name": "Python 3",
   "language": "python",
   "name": "python3"
  },
  "language_info": {
   "codemirror_mode": {
    "name": "ipython",
    "version": 3
   },
   "file_extension": ".py",
   "mimetype": "text/x-python",
   "name": "python",
   "nbconvert_exporter": "python",
   "pygments_lexer": "ipython3",
   "version": "3.8.7"
  },
  "source_map": [
   11,
   27
  ]
 },
 "nbformat": 4,
 "nbformat_minor": 5
}