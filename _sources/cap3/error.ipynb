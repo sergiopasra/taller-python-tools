{
 "cells": [
  {
   "cell_type": "markdown",
   "id": "medium-thong",
   "metadata": {},
   "source": [
    "# Visualización de errores\n",
    "\n",
    "Matplotlib cuenta con un función básica para mostrar barras de error"
   ]
  },
  {
   "cell_type": "code",
   "execution_count": 1,
   "id": "suitable-garage",
   "metadata": {},
   "outputs": [],
   "source": [
    "import matplotlib as mpl\n",
    "import matplotlib.pyplot as plt\n",
    "import numpy as np"
   ]
  },
  {
   "cell_type": "code",
   "execution_count": 2,
   "id": "portuguese-finger",
   "metadata": {},
   "outputs": [
    {
     "data": {
      "image/png": "[encoded data removed]",
      "text/plain": [
       "<Figure size 432x288 with 1 Axes>"
      ]
     },
     "metadata": {
      "filenames": {
       "image/png": "/home/runner/work/taller-python-tools/taller-python-tools/ptools/_build/jupyter_execute/cap3/error_2_0.png"
      },
      "needs_background": "light"
     },
     "output_type": "display_data"
    }
   ],
   "source": [
    "npoints = 50\n",
    "dy = 0.8\n",
    "x = np.linspace(0, 10, npoints)\n",
    "y = np.sin(x) + np.random.normal(scale=dy, size=npoints)\n",
    "plt.errorbar(x, y, yerr=dy, fmt='.k');"
   ]
  },
  {
   "cell_type": "markdown",
   "id": "confidential-liability",
   "metadata": {},
   "source": [
    "El argumento `fmt` es un código que controla cómo aparecen\n",
    "las líneas y puntos, es igual al que se utiliza en `plt.plot`.\n",
    "\n",
    "La función `plt.errorbar` tiene una buena cantidad de argumentos\n",
    "para afinar el formato de la barra. POr ejemplo:"
   ]
  },
  {
   "cell_type": "code",
   "execution_count": 3,
   "id": "proved-minutes",
   "metadata": {},
   "outputs": [
    {
     "data": {
      "text/plain": [
       "<ErrorbarContainer object of 3 artists>"
      ]
     },
     "execution_count": 3,
     "metadata": {},
     "output_type": "execute_result"
    },
    {
     "data": {
      "image/png": "[encoded data removed]",
      "text/plain": [
       "<Figure size 432x288 with 1 Axes>"
      ]
     },
     "metadata": {
      "filenames": {
       "image/png": "/home/runner/work/taller-python-tools/taller-python-tools/ptools/_build/jupyter_execute/cap3/error_4_1.png"
      },
      "needs_background": "light"
     },
     "output_type": "display_data"
    }
   ],
   "source": [
    "plt.errorbar(x, y, yerr=dy, fmt='o', color='black', \n",
    "    ecolor='lightgray', elinewidth=3, capsize=0)"
   ]
  },
  {
   "cell_type": "markdown",
   "id": "romance-reply",
   "metadata": {},
   "source": [
    "También pueden incluirse barras horizontales con `xerr`, solo con un lado\n",
    "u otras variantes."
   ]
  }
 ],
 "metadata": {
  "jupytext": {
   "formats": "md:myst",
   "text_representation": {
    "extension": ".md",
    "format_name": "myst"
   }
  },
  "kernelspec": {
   "display_name": "Python 3",
   "language": "python",
   "name": "python3"
  },
  "language_info": {
   "codemirror_mode": {
    "name": "ipython",
    "version": 3
   },
   "file_extension": ".py",
   "mimetype": "text/x-python",
   "name": "python",
   "nbconvert_exporter": "python",
   "pygments_lexer": "ipython3",
   "version": "3.8.7"
  },
  "source_map": [
   11,
   17,
   23,
   29,
   38,
   41
  ]
 },
 "nbformat": 4,
 "nbformat_minor": 5
}