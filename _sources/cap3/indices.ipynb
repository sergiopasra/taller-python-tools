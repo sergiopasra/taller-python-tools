{
 "cells": [
  {
   "cell_type": "markdown",
   "id": "f05b0d16",
   "metadata": {},
   "source": [
    "# Índices y selección\n",
    "\n",
    "Ya hemos visto los diferentes métodos de indexación para arrays de numpy.\n",
    "Hay métodos similares para acceder y modificar valores en `Series` \n",
    "y `DataFrame`, aunque es conveniente estudiarlos con detalle para ver\n",
    "las diferencias.\n",
    "\n",
    "# Selección de datos en `Series`\n",
    "Vamos a proseguir con la analogía con los arrays y los diccionarios para\n",
    "estudiar el acceso a los datos.\n",
    "\n",
    "## Como diccionario"
   ]
  },
  {
   "cell_type": "code",
   "execution_count": 1,
   "id": "0f219b92",
   "metadata": {},
   "outputs": [
    {
     "data": {
      "text/plain": [
       "a   -1.0\n",
       "b   -0.5\n",
       "c    0.0\n",
       "d    0.5\n",
       "e    1.0\n",
       "dtype: float64"
      ]
     },
     "execution_count": 1,
     "metadata": {},
     "output_type": "execute_result"
    }
   ],
   "source": [
    "import pandas as pd\n",
    "data = pd.Series([-1.0, -0.5, 0, 0.5, 1.0],\n",
    "                 index=['a', 'b', 'c', 'd', 'e'])\n",
    "data"
   ]
  },
  {
   "cell_type": "code",
   "execution_count": 2,
   "id": "a81903f9",
   "metadata": {},
   "outputs": [
    {
     "data": {
      "text/plain": [
       "-0.5"
      ]
     },
     "execution_count": 2,
     "metadata": {},
     "output_type": "execute_result"
    }
   ],
   "source": [
    "data['b']"
   ]
  },
  {
   "cell_type": "markdown",
   "id": "45d5838b",
   "metadata": {},
   "source": [
    "Podemos acceder también a más funcionalidades de los diccionarios:"
   ]
  },
  {
   "cell_type": "code",
   "execution_count": 3,
   "id": "f7f374af",
   "metadata": {},
   "outputs": [
    {
     "data": {
      "text/plain": [
       "True"
      ]
     },
     "execution_count": 3,
     "metadata": {},
     "output_type": "execute_result"
    }
   ],
   "source": [
    "'d' in data"
   ]
  },
  {
   "cell_type": "code",
   "execution_count": 4,
   "id": "93ab49b6",
   "metadata": {},
   "outputs": [
    {
     "data": {
      "text/plain": [
       "Index(['a', 'b', 'c', 'd', 'e'], dtype='object')"
      ]
     },
     "execution_count": 4,
     "metadata": {},
     "output_type": "execute_result"
    }
   ],
   "source": [
    "data.keys()"
   ]
  },
  {
   "cell_type": "markdown",
   "id": "9b4b7f4d",
   "metadata": {},
   "source": [
    "Hay algunas diferencias, `values()` no funciona, pero `values` sí (y devuelve\n",
    "un `ndarray`). Igual que en un diccionario, `items()` devuelve un iterador:"
   ]
  },
  {
   "cell_type": "code",
   "execution_count": 5,
   "id": "f78cec97",
   "metadata": {},
   "outputs": [
    {
     "name": "stdout",
     "output_type": "stream",
     "text": [
      "<zip object at 0x7f8419c2fec0>\n"
     ]
    },
    {
     "data": {
      "text/plain": [
       "[('a', -1.0), ('b', -0.5), ('c', 0.0), ('d', 0.5), ('e', 1.0)]"
      ]
     },
     "execution_count": 5,
     "metadata": {},
     "output_type": "execute_result"
    }
   ],
   "source": [
    "print(data.items())\n",
    "list(data.items())"
   ]
  },
  {
   "cell_type": "markdown",
   "id": "5491fc6d",
   "metadata": {},
   "source": [
    "Los objetos `Series` se pueden modificar sobre la marcha, igual que los\n",
    "diccionarios, usando la asignación para ello:"
   ]
  },
  {
   "cell_type": "code",
   "execution_count": 6,
   "id": "55b87651",
   "metadata": {},
   "outputs": [
    {
     "data": {
      "text/plain": [
       "a   -1.0\n",
       "b   -0.5\n",
       "c    0.0\n",
       "d    0.5\n",
       "e    1.0\n",
       "f    1.5\n",
       "dtype: float64"
      ]
     },
     "execution_count": 6,
     "metadata": {},
     "output_type": "execute_result"
    }
   ],
   "source": [
    "data['f'] = 1.5\n",
    "data"
   ]
  },
  {
   "cell_type": "markdown",
   "id": "3d44b3cf",
   "metadata": {},
   "source": [
    "## Como array\n",
    "Aquí podemos utilizar los mismos mecanismos que con los arrays de numpy \n",
    "(con una pequeña sorpresa)"
   ]
  },
  {
   "cell_type": "code",
   "execution_count": 7,
   "id": "947d3f82",
   "metadata": {},
   "outputs": [
    {
     "data": {
      "text/plain": [
       "a   -1.0\n",
       "b   -0.5\n",
       "c    0.0\n",
       "dtype: float64"
      ]
     },
     "execution_count": 7,
     "metadata": {},
     "output_type": "execute_result"
    }
   ],
   "source": [
    "# Usando el operador : (slicing)\n",
    "data['a':'c']"
   ]
  },
  {
   "cell_type": "code",
   "execution_count": 8,
   "id": "46877474",
   "metadata": {},
   "outputs": [
    {
     "data": {
      "text/plain": [
       "a   -1.0\n",
       "b   -0.5\n",
       "dtype: float64"
      ]
     },
     "execution_count": 8,
     "metadata": {},
     "output_type": "execute_result"
    }
   ],
   "source": [
    "# Usando el operador : (slicing)\n",
    "# pero con un índice entero implícito\n",
    "data[0:2]"
   ]
  },
  {
   "cell_type": "code",
   "execution_count": 9,
   "id": "0d2f058e",
   "metadata": {},
   "outputs": [
    {
     "data": {
      "text/plain": [
       "b   -0.5\n",
       "dtype: float64"
      ]
     },
     "execution_count": 9,
     "metadata": {},
     "output_type": "execute_result"
    }
   ],
   "source": [
    "# máscaras\n",
    "data[ (data > -1.0) & (data < 0)]"
   ]
  },
  {
   "cell_type": "code",
   "execution_count": 10,
   "id": "b31a6e76",
   "metadata": {},
   "outputs": [
    {
     "data": {
      "text/plain": [
       "e    1.0\n",
       "a   -1.0\n",
       "dtype: float64"
      ]
     },
     "execution_count": 10,
     "metadata": {},
     "output_type": "execute_result"
    }
   ],
   "source": [
    "# arrays de índices (fancy indexing)\n",
    "data[['e', 'a']]"
   ]
  },
  {
   "cell_type": "markdown",
   "id": "83ab21db",
   "metadata": {},
   "source": [
    "Como vemos, hay una fuente potencial de confusión con el uso de `:`.\n",
    "Puede utilizarse con los objetos de `index`, en este caso cadenas,\n",
    "y entonces **incluye el último elemento**.\n",
    "\n",
    "También puede utilizar con el índice entero implícito (el que tendría\n",
    "si fuera un array de numpy) en cuyo caso **no incluye el último elemento**.\n",
    "\n",
    "¿Qué sucede si estamos usando un índice entero? En ese caso, pandas\n",
    "usa el índice explícito para indexar y el implícito para recortar:"
   ]
  },
  {
   "cell_type": "code",
   "execution_count": 11,
   "id": "d0d9c884",
   "metadata": {},
   "outputs": [
    {
     "data": {
      "text/plain": [
       "1    a\n",
       "3    b\n",
       "5    c\n",
       "dtype: object"
      ]
     },
     "execution_count": 11,
     "metadata": {},
     "output_type": "execute_result"
    }
   ],
   "source": [
    "data = pd.Series(['a', 'b', 'c'], index=[1, 3, 5])\n",
    "data"
   ]
  },
  {
   "cell_type": "code",
   "execution_count": 12,
   "id": "d1fefbac",
   "metadata": {},
   "outputs": [
    {
     "data": {
      "text/plain": [
       "'a'"
      ]
     },
     "execution_count": 12,
     "metadata": {},
     "output_type": "execute_result"
    }
   ],
   "source": [
    "# Índice explícito para indexar\n",
    "data[1]"
   ]
  },
  {
   "cell_type": "code",
   "execution_count": 13,
   "id": "50a16424",
   "metadata": {},
   "outputs": [
    {
     "data": {
      "text/plain": [
       "3    b\n",
       "5    c\n",
       "dtype: object"
      ]
     },
     "execution_count": 13,
     "metadata": {},
     "output_type": "execute_result"
    }
   ],
   "source": [
    "# Índice implícito con slice\n",
    "data[1:3]"
   ]
  },
  {
   "cell_type": "markdown",
   "id": "53623b11",
   "metadata": {},
   "source": [
    "Como este comportamiento puede inducir a confusión, pandas proporciona\n",
    "unos atributos de los objetos `Series` que nos permiten exponer\n",
    "cuál de los dos mecanismos queremos.\n",
    "\n",
    "El atributo `loc` permite acceder con los **índices explícitos**"
   ]
  },
  {
   "cell_type": "code",
   "execution_count": 14,
   "id": "3f422d97",
   "metadata": {},
   "outputs": [
    {
     "data": {
      "text/plain": [
       "'a'"
      ]
     },
     "execution_count": 14,
     "metadata": {},
     "output_type": "execute_result"
    }
   ],
   "source": [
    "# Índice explícito para indexar\n",
    "data.loc[1]"
   ]
  },
  {
   "cell_type": "code",
   "execution_count": 15,
   "id": "440fa3e0",
   "metadata": {},
   "outputs": [
    {
     "data": {
      "text/plain": [
       "1    a\n",
       "3    b\n",
       "dtype: object"
      ]
     },
     "execution_count": 15,
     "metadata": {},
     "output_type": "execute_result"
    }
   ],
   "source": [
    "# Índice explícito con slice\n",
    "data.loc[1:3]"
   ]
  },
  {
   "cell_type": "markdown",
   "id": "64189af2",
   "metadata": {},
   "source": [
    "El atributo `iloc` permite acceder con los **índices implícitos**"
   ]
  },
  {
   "cell_type": "code",
   "execution_count": 16,
   "id": "85eeda31",
   "metadata": {},
   "outputs": [
    {
     "data": {
      "text/plain": [
       "'a'"
      ]
     },
     "execution_count": 16,
     "metadata": {},
     "output_type": "execute_result"
    }
   ],
   "source": [
    "# Índice implícito para indexar\n",
    "data.loc[1]"
   ]
  },
  {
   "cell_type": "code",
   "execution_count": 17,
   "id": "5c616228",
   "metadata": {},
   "outputs": [
    {
     "data": {
      "text/plain": [
       "1    a\n",
       "3    b\n",
       "dtype: object"
      ]
     },
     "execution_count": 17,
     "metadata": {},
     "output_type": "execute_result"
    }
   ],
   "source": [
    "# Índice implícito con slice\n",
    "data.loc[1:3]"
   ]
  },
  {
   "cell_type": "markdown",
   "id": "3cd92888",
   "metadata": {},
   "source": [
    "Existe un tercer atributo, `ix`, pero ha sido marcado para eliminación\n",
    "a partir de pandas 0.20.1 y se prefiere utilizar `iloc` y `loc`.\n",
    "\n",
    "# Selección de datos en `DataFrame`\n",
    "Recordemos que un `DataFrame` se comporta como un array bididimensional\n",
    "o como un diccionario de `Series` con un índice común.\n",
    "\n",
    "## Como un diccionario"
   ]
  },
  {
   "cell_type": "code",
   "execution_count": 18,
   "id": "3627543f",
   "metadata": {},
   "outputs": [
    {
     "data": {
      "text/html": [
       "<div>\n",
       "<style scoped>\n",
       "    .dataframe tbody tr th:only-of-type {\n",
       "        vertical-align: middle;\n",
       "    }\n",
       "\n",
       "    .dataframe tbody tr th {\n",
       "        vertical-align: top;\n",
       "    }\n",
       "\n",
       "    .dataframe thead th {\n",
       "        text-align: right;\n",
       "    }\n",
       "</style>\n",
       "<table border=\"1\" class=\"dataframe\">\n",
       "  <thead>\n",
       "    <tr style=\"text-align: right;\">\n",
       "      <th></th>\n",
       "      <th>a</th>\n",
       "      <th>#moon</th>\n",
       "    </tr>\n",
       "  </thead>\n",
       "  <tbody>\n",
       "    <tr>\n",
       "      <th>Mercurio</th>\n",
       "      <td>0.39</td>\n",
       "      <td>0</td>\n",
       "    </tr>\n",
       "    <tr>\n",
       "      <th>Venus</th>\n",
       "      <td>0.72</td>\n",
       "      <td>0</td>\n",
       "    </tr>\n",
       "    <tr>\n",
       "      <th>Tierra</th>\n",
       "      <td>1.00</td>\n",
       "      <td>1</td>\n",
       "    </tr>\n",
       "    <tr>\n",
       "      <th>Marte</th>\n",
       "      <td>1.52</td>\n",
       "      <td>2</td>\n",
       "    </tr>\n",
       "    <tr>\n",
       "      <th>Júpiter</th>\n",
       "      <td>5.20</td>\n",
       "      <td>79</td>\n",
       "    </tr>\n",
       "    <tr>\n",
       "      <th>Saturno</th>\n",
       "      <td>9.54</td>\n",
       "      <td>82</td>\n",
       "    </tr>\n",
       "    <tr>\n",
       "      <th>Urano</th>\n",
       "      <td>19.19</td>\n",
       "      <td>27</td>\n",
       "    </tr>\n",
       "    <tr>\n",
       "      <th>Neptuno</th>\n",
       "      <td>30.06</td>\n",
       "      <td>14</td>\n",
       "    </tr>\n",
       "  </tbody>\n",
       "</table>\n",
       "</div>"
      ],
      "text/plain": [
       "              a  #moon\n",
       "Mercurio   0.39      0\n",
       "Venus      0.72      0\n",
       "Tierra     1.00      1\n",
       "Marte      1.52      2\n",
       "Júpiter    5.20     79\n",
       "Saturno    9.54     82\n",
       "Urano     19.19     27\n",
       "Neptuno   30.06     14"
      ]
     },
     "execution_count": 18,
     "metadata": {},
     "output_type": "execute_result"
    }
   ],
   "source": [
    "nombre = ['Mercurio', 'Venus', 'Tierra', 'Marte', 'Júpiter', 'Saturno', 'Urano', 'Neptuno']\n",
    "semieje = [0.39, 0.72, 1.0, 1.52, 5.2, 9.54, 19.19, 30.06]\n",
    "nlunas = [0, 0, 1, 2, 79, 82, 27, 14]\n",
    "\n",
    "dis = pd.Series(semieje, index=nombre)\n",
    "nmoon = pd.Series(nlunas, index=nombre)\n",
    "data = pd.DataFrame({'a': dis, '#moon':nmoon})\n",
    "data"
   ]
  },
  {
   "cell_type": "markdown",
   "id": "b81d927f",
   "metadata": {},
   "source": [
    "Podemos acceder a las columnas (`Series`) utilizando `[]` como en\n",
    "un diccionario y de la misma manera podemos añadir columnas"
   ]
  },
  {
   "cell_type": "code",
   "execution_count": 19,
   "id": "6b6fc472",
   "metadata": {},
   "outputs": [
    {
     "data": {
      "text/html": [
       "<div>\n",
       "<style scoped>\n",
       "    .dataframe tbody tr th:only-of-type {\n",
       "        vertical-align: middle;\n",
       "    }\n",
       "\n",
       "    .dataframe tbody tr th {\n",
       "        vertical-align: top;\n",
       "    }\n",
       "\n",
       "    .dataframe thead th {\n",
       "        text-align: right;\n",
       "    }\n",
       "</style>\n",
       "<table border=\"1\" class=\"dataframe\">\n",
       "  <thead>\n",
       "    <tr style=\"text-align: right;\">\n",
       "      <th></th>\n",
       "      <th>a</th>\n",
       "      <th>#moon</th>\n",
       "      <th>P</th>\n",
       "    </tr>\n",
       "  </thead>\n",
       "  <tbody>\n",
       "    <tr>\n",
       "      <th>Mercurio</th>\n",
       "      <td>0.39</td>\n",
       "      <td>0</td>\n",
       "      <td>0.243555</td>\n",
       "    </tr>\n",
       "    <tr>\n",
       "      <th>Venus</th>\n",
       "      <td>0.72</td>\n",
       "      <td>0</td>\n",
       "      <td>0.610940</td>\n",
       "    </tr>\n",
       "    <tr>\n",
       "      <th>Tierra</th>\n",
       "      <td>1.00</td>\n",
       "      <td>1</td>\n",
       "      <td>1.000000</td>\n",
       "    </tr>\n",
       "    <tr>\n",
       "      <th>Marte</th>\n",
       "      <td>1.52</td>\n",
       "      <td>2</td>\n",
       "      <td>1.873982</td>\n",
       "    </tr>\n",
       "    <tr>\n",
       "      <th>Júpiter</th>\n",
       "      <td>5.20</td>\n",
       "      <td>79</td>\n",
       "      <td>11.857824</td>\n",
       "    </tr>\n",
       "    <tr>\n",
       "      <th>Saturno</th>\n",
       "      <td>9.54</td>\n",
       "      <td>82</td>\n",
       "      <td>29.466093</td>\n",
       "    </tr>\n",
       "    <tr>\n",
       "      <th>Urano</th>\n",
       "      <td>19.19</td>\n",
       "      <td>27</td>\n",
       "      <td>84.064467</td>\n",
       "    </tr>\n",
       "    <tr>\n",
       "      <th>Neptuno</th>\n",
       "      <td>30.06</td>\n",
       "      <td>14</td>\n",
       "      <td>164.809964</td>\n",
       "    </tr>\n",
       "  </tbody>\n",
       "</table>\n",
       "</div>"
      ],
      "text/plain": [
       "              a  #moon           P\n",
       "Mercurio   0.39      0    0.243555\n",
       "Venus      0.72      0    0.610940\n",
       "Tierra     1.00      1    1.000000\n",
       "Marte      1.52      2    1.873982\n",
       "Júpiter    5.20     79   11.857824\n",
       "Saturno    9.54     82   29.466093\n",
       "Urano     19.19     27   84.064467\n",
       "Neptuno   30.06     14  164.809964"
      ]
     },
     "execution_count": 19,
     "metadata": {},
     "output_type": "execute_result"
    }
   ],
   "source": [
    "import numpy as np\n",
    "\n",
    "# Periodo sidéreo (en años), vía tercera ley de Kepler\n",
    "data['P'] = np.sqrt(data['a']**3)\n",
    "data"
   ]
  },
  {
   "cell_type": "markdown",
   "id": "e66c29ff",
   "metadata": {},
   "source": [
    "## Como un array\n",
    "Podemos acceder al array de datos internos usando `values`"
   ]
  },
  {
   "cell_type": "code",
   "execution_count": 20,
   "id": "5aba5aa9",
   "metadata": {},
   "outputs": [
    {
     "data": {
      "text/plain": [
       "array([[  0.39      ,   0.        ,   0.24355492],\n",
       "       [  0.72      ,   0.        ,   0.61094026],\n",
       "       [  1.        ,   1.        ,   1.        ],\n",
       "       [  1.52      ,   2.        ,   1.87398186],\n",
       "       [  5.2       ,  79.        ,  11.85782442],\n",
       "       [  9.54      ,  82.        ,  29.46609346],\n",
       "       [ 19.19      ,  27.        ,  84.06446668],\n",
       "       [ 30.06      ,  14.        , 164.80996395]])"
      ]
     },
     "execution_count": 20,
     "metadata": {},
     "output_type": "execute_result"
    }
   ],
   "source": [
    "data.values"
   ]
  },
  {
   "cell_type": "markdown",
   "id": "aef3e4e3",
   "metadata": {},
   "source": [
    "Y hay casos en los que nos gustaría operar el `DataFrame` como\n",
    "si fuera un array, por ejemplo:"
   ]
  },
  {
   "cell_type": "code",
   "execution_count": 21,
   "id": "b50eef46",
   "metadata": {},
   "outputs": [
    {
     "data": {
      "text/html": [
       "<div>\n",
       "<style scoped>\n",
       "    .dataframe tbody tr th:only-of-type {\n",
       "        vertical-align: middle;\n",
       "    }\n",
       "\n",
       "    .dataframe tbody tr th {\n",
       "        vertical-align: top;\n",
       "    }\n",
       "\n",
       "    .dataframe thead th {\n",
       "        text-align: right;\n",
       "    }\n",
       "</style>\n",
       "<table border=\"1\" class=\"dataframe\">\n",
       "  <thead>\n",
       "    <tr style=\"text-align: right;\">\n",
       "      <th></th>\n",
       "      <th>Mercurio</th>\n",
       "      <th>Venus</th>\n",
       "      <th>Tierra</th>\n",
       "      <th>Marte</th>\n",
       "      <th>Júpiter</th>\n",
       "      <th>Saturno</th>\n",
       "      <th>Urano</th>\n",
       "      <th>Neptuno</th>\n",
       "    </tr>\n",
       "  </thead>\n",
       "  <tbody>\n",
       "    <tr>\n",
       "      <th>a</th>\n",
       "      <td>0.390000</td>\n",
       "      <td>0.72000</td>\n",
       "      <td>1.0</td>\n",
       "      <td>1.520000</td>\n",
       "      <td>5.200000</td>\n",
       "      <td>9.540000</td>\n",
       "      <td>19.190000</td>\n",
       "      <td>30.060000</td>\n",
       "    </tr>\n",
       "    <tr>\n",
       "      <th>#moon</th>\n",
       "      <td>0.000000</td>\n",
       "      <td>0.00000</td>\n",
       "      <td>1.0</td>\n",
       "      <td>2.000000</td>\n",
       "      <td>79.000000</td>\n",
       "      <td>82.000000</td>\n",
       "      <td>27.000000</td>\n",
       "      <td>14.000000</td>\n",
       "    </tr>\n",
       "    <tr>\n",
       "      <th>P</th>\n",
       "      <td>0.243555</td>\n",
       "      <td>0.61094</td>\n",
       "      <td>1.0</td>\n",
       "      <td>1.873982</td>\n",
       "      <td>11.857824</td>\n",
       "      <td>29.466093</td>\n",
       "      <td>84.064467</td>\n",
       "      <td>164.809964</td>\n",
       "    </tr>\n",
       "  </tbody>\n",
       "</table>\n",
       "</div>"
      ],
      "text/plain": [
       "       Mercurio    Venus  Tierra     Marte    Júpiter    Saturno      Urano  \\\n",
       "a      0.390000  0.72000     1.0  1.520000   5.200000   9.540000  19.190000   \n",
       "#moon  0.000000  0.00000     1.0  2.000000  79.000000  82.000000  27.000000   \n",
       "P      0.243555  0.61094     1.0  1.873982  11.857824  29.466093  84.064467   \n",
       "\n",
       "          Neptuno  \n",
       "a       30.060000  \n",
       "#moon   14.000000  \n",
       "P      164.809964  "
      ]
     },
     "execution_count": 21,
     "metadata": {},
     "output_type": "execute_result"
    }
   ],
   "source": [
    "data.T"
   ]
  },
  {
   "cell_type": "markdown",
   "id": "28c49935",
   "metadata": {},
   "source": [
    "Ahora bien, igual que sucedía en `Series`, tenemos el operador `[]`\n",
    "para acceder a los elementos. Y mientras que un solo índice\n",
    "en un array accede a las filas:"
   ]
  },
  {
   "cell_type": "code",
   "execution_count": 22,
   "id": "7333ad9c",
   "metadata": {},
   "outputs": [
    {
     "data": {
      "text/plain": [
       "array([0.39      , 0.        , 0.24355492])"
      ]
     },
     "execution_count": 22,
     "metadata": {},
     "output_type": "execute_result"
    }
   ],
   "source": [
    "data.values[0]"
   ]
  },
  {
   "cell_type": "markdown",
   "id": "afb38c1f",
   "metadata": {},
   "source": [
    "un solo índice en `DataFrame` accede a las columnas:"
   ]
  },
  {
   "cell_type": "code",
   "execution_count": 23,
   "id": "d6a83bdb",
   "metadata": {},
   "outputs": [
    {
     "data": {
      "text/plain": [
       "Mercurio     0\n",
       "Venus        0\n",
       "Tierra       1\n",
       "Marte        2\n",
       "Júpiter     79\n",
       "Saturno     82\n",
       "Urano       27\n",
       "Neptuno     14\n",
       "Name: #moon, dtype: int64"
      ]
     },
     "execution_count": 23,
     "metadata": {},
     "output_type": "execute_result"
    }
   ],
   "source": [
    "data['#moon']"
   ]
  },
  {
   "cell_type": "markdown",
   "id": "28729c12",
   "metadata": {},
   "source": [
    "Pandas ofrece de nuevo los atributos de índice que aparecían en `Series`.\n",
    "\n",
    "Utilizando `iloc`, podemos utilizar los índices como si tuviéramos un\n",
    "`ndarray`:"
   ]
  },
  {
   "cell_type": "code",
   "execution_count": 24,
   "id": "df290d50",
   "metadata": {},
   "outputs": [
    {
     "data": {
      "text/plain": [
       "0.24355492193753753"
      ]
     },
     "execution_count": 24,
     "metadata": {},
     "output_type": "execute_result"
    }
   ],
   "source": [
    "data.iloc[0, 2]"
   ]
  },
  {
   "cell_type": "markdown",
   "id": "7a5b62d6",
   "metadata": {},
   "source": [
    "y también:"
   ]
  },
  {
   "cell_type": "code",
   "execution_count": 25,
   "id": "23475cb1",
   "metadata": {},
   "outputs": [
    {
     "data": {
      "text/html": [
       "<div>\n",
       "<style scoped>\n",
       "    .dataframe tbody tr th:only-of-type {\n",
       "        vertical-align: middle;\n",
       "    }\n",
       "\n",
       "    .dataframe tbody tr th {\n",
       "        vertical-align: top;\n",
       "    }\n",
       "\n",
       "    .dataframe thead th {\n",
       "        text-align: right;\n",
       "    }\n",
       "</style>\n",
       "<table border=\"1\" class=\"dataframe\">\n",
       "  <thead>\n",
       "    <tr style=\"text-align: right;\">\n",
       "      <th></th>\n",
       "      <th>a</th>\n",
       "      <th>P</th>\n",
       "    </tr>\n",
       "  </thead>\n",
       "  <tbody>\n",
       "    <tr>\n",
       "      <th>Mercurio</th>\n",
       "      <td>0.39</td>\n",
       "      <td>0.243555</td>\n",
       "    </tr>\n",
       "    <tr>\n",
       "      <th>Venus</th>\n",
       "      <td>0.72</td>\n",
       "      <td>0.610940</td>\n",
       "    </tr>\n",
       "    <tr>\n",
       "      <th>Tierra</th>\n",
       "      <td>1.00</td>\n",
       "      <td>1.000000</td>\n",
       "    </tr>\n",
       "    <tr>\n",
       "      <th>Marte</th>\n",
       "      <td>1.52</td>\n",
       "      <td>1.873982</td>\n",
       "    </tr>\n",
       "  </tbody>\n",
       "</table>\n",
       "</div>"
      ],
      "text/plain": [
       "             a         P\n",
       "Mercurio  0.39  0.243555\n",
       "Venus     0.72  0.610940\n",
       "Tierra    1.00  1.000000\n",
       "Marte     1.52  1.873982"
      ]
     },
     "execution_count": 25,
     "metadata": {},
     "output_type": "execute_result"
    }
   ],
   "source": [
    "data.iloc[0:4, [0,2]]"
   ]
  },
  {
   "cell_type": "markdown",
   "id": "2a215af2",
   "metadata": {},
   "source": [
    "o por ejemplo:"
   ]
  },
  {
   "cell_type": "code",
   "execution_count": 26,
   "id": "de517285",
   "metadata": {},
   "outputs": [
    {
     "data": {
      "text/html": [
       "<div>\n",
       "<style scoped>\n",
       "    .dataframe tbody tr th:only-of-type {\n",
       "        vertical-align: middle;\n",
       "    }\n",
       "\n",
       "    .dataframe tbody tr th {\n",
       "        vertical-align: top;\n",
       "    }\n",
       "\n",
       "    .dataframe thead th {\n",
       "        text-align: right;\n",
       "    }\n",
       "</style>\n",
       "<table border=\"1\" class=\"dataframe\">\n",
       "  <thead>\n",
       "    <tr style=\"text-align: right;\">\n",
       "      <th></th>\n",
       "      <th>#moon</th>\n",
       "      <th>P</th>\n",
       "    </tr>\n",
       "  </thead>\n",
       "  <tbody>\n",
       "    <tr>\n",
       "      <th>Júpiter</th>\n",
       "      <td>79</td>\n",
       "      <td>11.857824</td>\n",
       "    </tr>\n",
       "    <tr>\n",
       "      <th>Saturno</th>\n",
       "      <td>82</td>\n",
       "      <td>29.466093</td>\n",
       "    </tr>\n",
       "    <tr>\n",
       "      <th>Urano</th>\n",
       "      <td>27</td>\n",
       "      <td>84.064467</td>\n",
       "    </tr>\n",
       "    <tr>\n",
       "      <th>Neptuno</th>\n",
       "      <td>14</td>\n",
       "      <td>164.809964</td>\n",
       "    </tr>\n",
       "  </tbody>\n",
       "</table>\n",
       "</div>"
      ],
      "text/plain": [
       "         #moon           P\n",
       "Júpiter     79   11.857824\n",
       "Saturno     82   29.466093\n",
       "Urano       27   84.064467\n",
       "Neptuno     14  164.809964"
      ]
     },
     "execution_count": 26,
     "metadata": {},
     "output_type": "execute_result"
    }
   ],
   "source": [
    "data.iloc[4:, 1:]"
   ]
  },
  {
   "cell_type": "markdown",
   "id": "f756c507",
   "metadata": {},
   "source": [
    "Utilizando `loc`, utilizamos los índices explícitos: `index` para las filas\n",
    "y `columns` para las filas:"
   ]
  },
  {
   "cell_type": "code",
   "execution_count": 27,
   "id": "13383483",
   "metadata": {},
   "outputs": [
    {
     "data": {
      "text/plain": [
       "0.24355492193753753"
      ]
     },
     "execution_count": 27,
     "metadata": {},
     "output_type": "execute_result"
    }
   ],
   "source": [
    "data.loc['Mercurio', 'P']"
   ]
  },
  {
   "cell_type": "markdown",
   "id": "8fe8aa11",
   "metadata": {},
   "source": [
    "y también:"
   ]
  },
  {
   "cell_type": "code",
   "execution_count": 28,
   "id": "c357b64c",
   "metadata": {},
   "outputs": [
    {
     "data": {
      "text/html": [
       "<div>\n",
       "<style scoped>\n",
       "    .dataframe tbody tr th:only-of-type {\n",
       "        vertical-align: middle;\n",
       "    }\n",
       "\n",
       "    .dataframe tbody tr th {\n",
       "        vertical-align: top;\n",
       "    }\n",
       "\n",
       "    .dataframe thead th {\n",
       "        text-align: right;\n",
       "    }\n",
       "</style>\n",
       "<table border=\"1\" class=\"dataframe\">\n",
       "  <thead>\n",
       "    <tr style=\"text-align: right;\">\n",
       "      <th></th>\n",
       "      <th>a</th>\n",
       "      <th>P</th>\n",
       "    </tr>\n",
       "  </thead>\n",
       "  <tbody>\n",
       "    <tr>\n",
       "      <th>Mercurio</th>\n",
       "      <td>0.39</td>\n",
       "      <td>0.243555</td>\n",
       "    </tr>\n",
       "    <tr>\n",
       "      <th>Venus</th>\n",
       "      <td>0.72</td>\n",
       "      <td>0.610940</td>\n",
       "    </tr>\n",
       "    <tr>\n",
       "      <th>Tierra</th>\n",
       "      <td>1.00</td>\n",
       "      <td>1.000000</td>\n",
       "    </tr>\n",
       "    <tr>\n",
       "      <th>Marte</th>\n",
       "      <td>1.52</td>\n",
       "      <td>1.873982</td>\n",
       "    </tr>\n",
       "  </tbody>\n",
       "</table>\n",
       "</div>"
      ],
      "text/plain": [
       "             a         P\n",
       "Mercurio  0.39  0.243555\n",
       "Venus     0.72  0.610940\n",
       "Tierra    1.00  1.000000\n",
       "Marte     1.52  1.873982"
      ]
     },
     "execution_count": 28,
     "metadata": {},
     "output_type": "execute_result"
    }
   ],
   "source": [
    "data.loc['Mercurio':'Marte', ['a','P']]"
   ]
  },
  {
   "cell_type": "markdown",
   "id": "3cb17b18",
   "metadata": {},
   "source": [
    "o por ejemplo:"
   ]
  },
  {
   "cell_type": "code",
   "execution_count": 29,
   "id": "24215aba",
   "metadata": {},
   "outputs": [
    {
     "data": {
      "text/html": [
       "<div>\n",
       "<style scoped>\n",
       "    .dataframe tbody tr th:only-of-type {\n",
       "        vertical-align: middle;\n",
       "    }\n",
       "\n",
       "    .dataframe tbody tr th {\n",
       "        vertical-align: top;\n",
       "    }\n",
       "\n",
       "    .dataframe thead th {\n",
       "        text-align: right;\n",
       "    }\n",
       "</style>\n",
       "<table border=\"1\" class=\"dataframe\">\n",
       "  <thead>\n",
       "    <tr style=\"text-align: right;\">\n",
       "      <th></th>\n",
       "      <th>#moon</th>\n",
       "      <th>P</th>\n",
       "    </tr>\n",
       "  </thead>\n",
       "  <tbody>\n",
       "    <tr>\n",
       "      <th>Júpiter</th>\n",
       "      <td>79</td>\n",
       "      <td>11.857824</td>\n",
       "    </tr>\n",
       "    <tr>\n",
       "      <th>Saturno</th>\n",
       "      <td>82</td>\n",
       "      <td>29.466093</td>\n",
       "    </tr>\n",
       "    <tr>\n",
       "      <th>Urano</th>\n",
       "      <td>27</td>\n",
       "      <td>84.064467</td>\n",
       "    </tr>\n",
       "    <tr>\n",
       "      <th>Neptuno</th>\n",
       "      <td>14</td>\n",
       "      <td>164.809964</td>\n",
       "    </tr>\n",
       "  </tbody>\n",
       "</table>\n",
       "</div>"
      ],
      "text/plain": [
       "         #moon           P\n",
       "Júpiter     79   11.857824\n",
       "Saturno     82   29.466093\n",
       "Urano       27   84.064467\n",
       "Neptuno     14  164.809964"
      ]
     },
     "execution_count": 29,
     "metadata": {},
     "output_type": "execute_result"
    }
   ],
   "source": [
    "data.loc['Júpiter':, '#moon':]"
   ]
  },
  {
   "cell_type": "markdown",
   "id": "b3bbac62",
   "metadata": {},
   "source": [
    "Para ambos atributos, podemos utilizar los mecanismo que vimos en `ndarray`.\n",
    "\n",
    "Por ejemplo, con una máscara:"
   ]
  },
  {
   "cell_type": "code",
   "execution_count": 30,
   "id": "0e8c21f5",
   "metadata": {},
   "outputs": [
    {
     "data": {
      "text/html": [
       "<div>\n",
       "<style scoped>\n",
       "    .dataframe tbody tr th:only-of-type {\n",
       "        vertical-align: middle;\n",
       "    }\n",
       "\n",
       "    .dataframe tbody tr th {\n",
       "        vertical-align: top;\n",
       "    }\n",
       "\n",
       "    .dataframe thead th {\n",
       "        text-align: right;\n",
       "    }\n",
       "</style>\n",
       "<table border=\"1\" class=\"dataframe\">\n",
       "  <thead>\n",
       "    <tr style=\"text-align: right;\">\n",
       "      <th></th>\n",
       "      <th>a</th>\n",
       "      <th>P</th>\n",
       "    </tr>\n",
       "  </thead>\n",
       "  <tbody>\n",
       "    <tr>\n",
       "      <th>Júpiter</th>\n",
       "      <td>5.20</td>\n",
       "      <td>11.857824</td>\n",
       "    </tr>\n",
       "    <tr>\n",
       "      <th>Saturno</th>\n",
       "      <td>9.54</td>\n",
       "      <td>29.466093</td>\n",
       "    </tr>\n",
       "    <tr>\n",
       "      <th>Urano</th>\n",
       "      <td>19.19</td>\n",
       "      <td>84.064467</td>\n",
       "    </tr>\n",
       "    <tr>\n",
       "      <th>Neptuno</th>\n",
       "      <td>30.06</td>\n",
       "      <td>164.809964</td>\n",
       "    </tr>\n",
       "  </tbody>\n",
       "</table>\n",
       "</div>"
      ],
      "text/plain": [
       "             a           P\n",
       "Júpiter   5.20   11.857824\n",
       "Saturno   9.54   29.466093\n",
       "Urano    19.19   84.064467\n",
       "Neptuno  30.06  164.809964"
      ]
     },
     "execution_count": 30,
     "metadata": {},
     "output_type": "execute_result"
    }
   ],
   "source": [
    "data.loc[data['a'] > 2, ['a', 'P']]"
   ]
  },
  {
   "cell_type": "markdown",
   "id": "fd118d13",
   "metadata": {},
   "source": [
    "Recordemos, finalmente, que todas estas operaciones también se\n",
    "puede usar en asignaciones:"
   ]
  },
  {
   "cell_type": "code",
   "execution_count": 31,
   "id": "52372c2f",
   "metadata": {},
   "outputs": [
    {
     "data": {
      "text/html": [
       "<div>\n",
       "<style scoped>\n",
       "    .dataframe tbody tr th:only-of-type {\n",
       "        vertical-align: middle;\n",
       "    }\n",
       "\n",
       "    .dataframe tbody tr th {\n",
       "        vertical-align: top;\n",
       "    }\n",
       "\n",
       "    .dataframe thead th {\n",
       "        text-align: right;\n",
       "    }\n",
       "</style>\n",
       "<table border=\"1\" class=\"dataframe\">\n",
       "  <thead>\n",
       "    <tr style=\"text-align: right;\">\n",
       "      <th></th>\n",
       "      <th>a</th>\n",
       "      <th>#moon</th>\n",
       "      <th>P</th>\n",
       "    </tr>\n",
       "  </thead>\n",
       "  <tbody>\n",
       "    <tr>\n",
       "      <th>Mercurio</th>\n",
       "      <td>0.39</td>\n",
       "      <td>0</td>\n",
       "      <td>1.000000</td>\n",
       "    </tr>\n",
       "    <tr>\n",
       "      <th>Venus</th>\n",
       "      <td>0.72</td>\n",
       "      <td>0</td>\n",
       "      <td>1.000000</td>\n",
       "    </tr>\n",
       "    <tr>\n",
       "      <th>Tierra</th>\n",
       "      <td>1.00</td>\n",
       "      <td>1</td>\n",
       "      <td>1.000000</td>\n",
       "    </tr>\n",
       "    <tr>\n",
       "      <th>Marte</th>\n",
       "      <td>1.52</td>\n",
       "      <td>2</td>\n",
       "      <td>1.000000</td>\n",
       "    </tr>\n",
       "    <tr>\n",
       "      <th>Júpiter</th>\n",
       "      <td>5.20</td>\n",
       "      <td>79</td>\n",
       "      <td>11.857824</td>\n",
       "    </tr>\n",
       "    <tr>\n",
       "      <th>Saturno</th>\n",
       "      <td>9.54</td>\n",
       "      <td>82</td>\n",
       "      <td>29.466093</td>\n",
       "    </tr>\n",
       "    <tr>\n",
       "      <th>Urano</th>\n",
       "      <td>19.19</td>\n",
       "      <td>27</td>\n",
       "      <td>84.064467</td>\n",
       "    </tr>\n",
       "    <tr>\n",
       "      <th>Neptuno</th>\n",
       "      <td>30.06</td>\n",
       "      <td>14</td>\n",
       "      <td>164.809964</td>\n",
       "    </tr>\n",
       "  </tbody>\n",
       "</table>\n",
       "</div>"
      ],
      "text/plain": [
       "              a  #moon           P\n",
       "Mercurio   0.39      0    1.000000\n",
       "Venus      0.72      0    1.000000\n",
       "Tierra     1.00      1    1.000000\n",
       "Marte      1.52      2    1.000000\n",
       "Júpiter    5.20     79   11.857824\n",
       "Saturno    9.54     82   29.466093\n",
       "Urano     19.19     27   84.064467\n",
       "Neptuno   30.06     14  164.809964"
      ]
     },
     "execution_count": 31,
     "metadata": {},
     "output_type": "execute_result"
    }
   ],
   "source": [
    "data2 = data.copy()\n",
    "data2.loc[data['a'] < 2, 'P'] = 1.0\n",
    "data2"
   ]
  },
  {
   "cell_type": "markdown",
   "id": "eca17ec9",
   "metadata": {},
   "source": [
    "## Convenciones sobre el uso de `[]`\n",
    "\n",
    "Veamos ahora los últimos detalles que debemos conocer si\n",
    "utilizamos directamente `[]`.\n",
    "\n",
    "Hemos visto que si pasamos un solo índice a `[]` accedemos\n",
    "a las columnas."
   ]
  },
  {
   "cell_type": "code",
   "execution_count": 32,
   "id": "2226053c",
   "metadata": {},
   "outputs": [
    {
     "data": {
      "text/plain": [
       "Mercurio     0.39\n",
       "Venus        0.72\n",
       "Tierra       1.00\n",
       "Marte        1.52\n",
       "Júpiter      5.20\n",
       "Saturno      9.54\n",
       "Urano       19.19\n",
       "Neptuno     30.06\n",
       "Name: a, dtype: float64"
      ]
     },
     "execution_count": 32,
     "metadata": {},
     "output_type": "execute_result"
    }
   ],
   "source": [
    "data['a']"
   ]
  },
  {
   "cell_type": "markdown",
   "id": "8ab053c4",
   "metadata": {},
   "source": [
    "Pero si pasamos una sección **con `:` accedemos a las filas**:"
   ]
  },
  {
   "cell_type": "code",
   "execution_count": 33,
   "id": "e09ef1a2",
   "metadata": {},
   "outputs": [],
   "source": [
    "# ¡No funciona!\n",
    "# data['a':'P']"
   ]
  },
  {
   "cell_type": "code",
   "execution_count": 34,
   "id": "1f4a10a6",
   "metadata": {},
   "outputs": [
    {
     "data": {
      "text/html": [
       "<div>\n",
       "<style scoped>\n",
       "    .dataframe tbody tr th:only-of-type {\n",
       "        vertical-align: middle;\n",
       "    }\n",
       "\n",
       "    .dataframe tbody tr th {\n",
       "        vertical-align: top;\n",
       "    }\n",
       "\n",
       "    .dataframe thead th {\n",
       "        text-align: right;\n",
       "    }\n",
       "</style>\n",
       "<table border=\"1\" class=\"dataframe\">\n",
       "  <thead>\n",
       "    <tr style=\"text-align: right;\">\n",
       "      <th></th>\n",
       "      <th>a</th>\n",
       "      <th>#moon</th>\n",
       "      <th>P</th>\n",
       "    </tr>\n",
       "  </thead>\n",
       "  <tbody>\n",
       "    <tr>\n",
       "      <th>Tierra</th>\n",
       "      <td>1.00</td>\n",
       "      <td>1</td>\n",
       "      <td>1.000000</td>\n",
       "    </tr>\n",
       "    <tr>\n",
       "      <th>Marte</th>\n",
       "      <td>1.52</td>\n",
       "      <td>2</td>\n",
       "      <td>1.873982</td>\n",
       "    </tr>\n",
       "    <tr>\n",
       "      <th>Júpiter</th>\n",
       "      <td>5.20</td>\n",
       "      <td>79</td>\n",
       "      <td>11.857824</td>\n",
       "    </tr>\n",
       "  </tbody>\n",
       "</table>\n",
       "</div>"
      ],
      "text/plain": [
       "            a  #moon          P\n",
       "Tierra   1.00      1   1.000000\n",
       "Marte    1.52      2   1.873982\n",
       "Júpiter  5.20     79  11.857824"
      ]
     },
     "execution_count": 34,
     "metadata": {},
     "output_type": "execute_result"
    }
   ],
   "source": [
    "# ¡Funciona!\n",
    "data['Tierra':'Júpiter']"
   ]
  },
  {
   "cell_type": "markdown",
   "id": "9c37f5d0",
   "metadata": {},
   "source": [
    "Y también podemos pasar los índices de las columnas (estilo array,\n",
    "el último no incluído)."
   ]
  },
  {
   "cell_type": "code",
   "execution_count": 35,
   "id": "d31e2053",
   "metadata": {},
   "outputs": [
    {
     "data": {
      "text/html": [
       "<div>\n",
       "<style scoped>\n",
       "    .dataframe tbody tr th:only-of-type {\n",
       "        vertical-align: middle;\n",
       "    }\n",
       "\n",
       "    .dataframe tbody tr th {\n",
       "        vertical-align: top;\n",
       "    }\n",
       "\n",
       "    .dataframe thead th {\n",
       "        text-align: right;\n",
       "    }\n",
       "</style>\n",
       "<table border=\"1\" class=\"dataframe\">\n",
       "  <thead>\n",
       "    <tr style=\"text-align: right;\">\n",
       "      <th></th>\n",
       "      <th>a</th>\n",
       "      <th>#moon</th>\n",
       "      <th>P</th>\n",
       "    </tr>\n",
       "  </thead>\n",
       "  <tbody>\n",
       "    <tr>\n",
       "      <th>Tierra</th>\n",
       "      <td>1.00</td>\n",
       "      <td>1</td>\n",
       "      <td>1.000000</td>\n",
       "    </tr>\n",
       "    <tr>\n",
       "      <th>Marte</th>\n",
       "      <td>1.52</td>\n",
       "      <td>2</td>\n",
       "      <td>1.873982</td>\n",
       "    </tr>\n",
       "    <tr>\n",
       "      <th>Júpiter</th>\n",
       "      <td>5.20</td>\n",
       "      <td>79</td>\n",
       "      <td>11.857824</td>\n",
       "    </tr>\n",
       "  </tbody>\n",
       "</table>\n",
       "</div>"
      ],
      "text/plain": [
       "            a  #moon          P\n",
       "Tierra   1.00      1   1.000000\n",
       "Marte    1.52      2   1.873982\n",
       "Júpiter  5.20     79  11.857824"
      ]
     },
     "execution_count": 35,
     "metadata": {},
     "output_type": "execute_result"
    }
   ],
   "source": [
    "data[2:5]"
   ]
  },
  {
   "cell_type": "markdown",
   "id": "56d1f17d",
   "metadata": {},
   "source": [
    "De la misma manera, las máscaras booleanas se aplican por columnas, no \n",
    "por filas."
   ]
  },
  {
   "cell_type": "code",
   "execution_count": 36,
   "id": "e60984f1",
   "metadata": {},
   "outputs": [
    {
     "data": {
      "text/html": [
       "<div>\n",
       "<style scoped>\n",
       "    .dataframe tbody tr th:only-of-type {\n",
       "        vertical-align: middle;\n",
       "    }\n",
       "\n",
       "    .dataframe tbody tr th {\n",
       "        vertical-align: top;\n",
       "    }\n",
       "\n",
       "    .dataframe thead th {\n",
       "        text-align: right;\n",
       "    }\n",
       "</style>\n",
       "<table border=\"1\" class=\"dataframe\">\n",
       "  <thead>\n",
       "    <tr style=\"text-align: right;\">\n",
       "      <th></th>\n",
       "      <th>a</th>\n",
       "      <th>#moon</th>\n",
       "      <th>P</th>\n",
       "    </tr>\n",
       "  </thead>\n",
       "  <tbody>\n",
       "    <tr>\n",
       "      <th>Júpiter</th>\n",
       "      <td>5.20</td>\n",
       "      <td>79</td>\n",
       "      <td>11.857824</td>\n",
       "    </tr>\n",
       "    <tr>\n",
       "      <th>Saturno</th>\n",
       "      <td>9.54</td>\n",
       "      <td>82</td>\n",
       "      <td>29.466093</td>\n",
       "    </tr>\n",
       "    <tr>\n",
       "      <th>Urano</th>\n",
       "      <td>19.19</td>\n",
       "      <td>27</td>\n",
       "      <td>84.064467</td>\n",
       "    </tr>\n",
       "    <tr>\n",
       "      <th>Neptuno</th>\n",
       "      <td>30.06</td>\n",
       "      <td>14</td>\n",
       "      <td>164.809964</td>\n",
       "    </tr>\n",
       "  </tbody>\n",
       "</table>\n",
       "</div>"
      ],
      "text/plain": [
       "             a  #moon           P\n",
       "Júpiter   5.20     79   11.857824\n",
       "Saturno   9.54     82   29.466093\n",
       "Urano    19.19     27   84.064467\n",
       "Neptuno  30.06     14  164.809964"
      ]
     },
     "execution_count": 36,
     "metadata": {},
     "output_type": "execute_result"
    }
   ],
   "source": [
    "data[data[\"P\"] > 10]"
   ]
  }
 ],
 "metadata": {
  "jupytext": {
   "formats": "md:myst",
   "text_representation": {
    "extension": ".md",
    "format_name": "myst"
   }
  },
  "kernelspec": {
   "display_name": "Python 3",
   "language": "python",
   "name": "python3"
  },
  "language_info": {
   "codemirror_mode": {
    "name": "ipython",
    "version": 3
   },
   "file_extension": ".py",
   "mimetype": "text/x-python",
   "name": "python",
   "nbconvert_exporter": "python",
   "pygments_lexer": "ipython3",
   "version": "3.11.5"
  },
  "source_map": [
   11,
   26,
   32,
   34,
   39,
   43,
   45,
   50,
   53,
   56,
   59,
   65,
   70,
   76,
   81,
   84,
   96,
   100,
   105,
   108,
   116,
   121,
   124,
   128,
   133,
   136,
   147,
   156,
   161,
   167,
   171,
   173,
   177,
   179,
   184,
   186,
   189,
   191,
   198,
   200,
   203,
   205,
   207,
   209,
   214,
   216,
   219,
   221,
   223,
   225,
   231,
   233,
   237,
   241,
   251,
   253,
   256,
   261,
   264,
   269,
   271,
   275
  ]
 },
 "nbformat": 4,
 "nbformat_minor": 5
}