{
 "cells": [
  {
   "cell_type": "markdown",
   "metadata": {},
   "source": [
    "# Números de Fibonnacci\n",
    "\n",
    "Los números de Fibonnacci siguen la conocida recurrencia:\n",
    "\n",
    "$$\n",
    "F_n = F_{n-1} + F_{n-2}\n",
    "$$\n",
    "\n",
    "Empezando con 0, 1 obtenemos:\n",
    "\n",
    "$$\n",
    "0, 1, 1, 2, 3, 5, 8, \\ldots\n",
    "$$\n",
    "\n",
    "Esta sucesión tiene algunas propiedades curiosas:\n",
    "* El MCD de dos números de Fibonacci es otro número de Fibonacci: $\\mathrm{mcd}(F_n, F_m) = F_{\\mathrm{mcd}(n, m)}$\n",
    "* $F^2_{n+1} + F^2_{n} = F_{2n+1}$\n",
    "* $F_n = \\frac{F_{n-2} + F_{n+1}}{2}$\n",
    "\n",
    "\n",
    "**Leonardo de Pisa**, conocido como **Fibonacci** (*filius Bonacci*) fue un matemático italiano del siglo XII, originario de Pisa.\n",
    "\n",
    "<a title=\"Taty2007 / CC BY-SA (https://creativecommons.org/licenses/by-sa/4.0)\" href=\"https://commons.wikimedia.org/wiki/File:Leonardo_Fibonacci.JPG\"><img width=\"256\" alt=\"Leonardo Fibonacci\" src=\"https://upload.wikimedia.org/wikipedia/commons/thumb/a/a1/Leonardo_Fibonacci.JPG/256px-Leonardo_Fibonacci.JPG\"></a>\n"
   ]
  },
  {
   "cell_type": "code",
   "execution_count": 1,
   "metadata": {},
   "outputs": [],
   "source": [
    "import matplotlib.pyplot as plt"
   ]
  },
  {
   "cell_type": "code",
   "execution_count": 2,
   "metadata": {},
   "outputs": [],
   "source": [
    "def fib(n: int):\n",
    "    \"\"\"Fibonacci number n\n",
    "    \n",
    "    Naive recursive inplementation of Fibonacci number n\n",
    "    Do not use for large numbers.\n",
    "    \n",
    "    First 7 terms of the series:\n",
    "    [0,1,1,2,3,5,8]\n",
    "    \"\"\"\n",
    "    if n == 0:\n",
    "        return 0\n",
    "    if n == 1:\n",
    "        return 1\n",
    "    return fib(n-1) + fib(n-2)"
   ]
  },
  {
   "cell_type": "code",
   "execution_count": 3,
   "metadata": {},
   "outputs": [
    {
     "data": {
      "text/plain": [
       "[<matplotlib.lines.Line2D at 0x7f7154d72f10>]"
      ]
     },
     "execution_count": 3,
     "metadata": {},
     "output_type": "execute_result"
    },
    {
     "data": {
      "image/png": "[encoded data removed]",
      "text/plain": [
       "<Figure size 432x288 with 1 Axes>"
      ]
     },
     "metadata": {
      "needs_background": "light"
     },
     "output_type": "display_data"
    }
   ],
   "source": [
    "ns = range(10)\n",
    "fibs = [fib(i) for i in ns]\n",
    "\n",
    "plt.plot(ns, fibs, 'r*-')"
   ]
  },
  {
   "cell_type": "code",
   "execution_count": null,
   "metadata": {},
   "outputs": [],
   "source": []
  }
 ],
 "metadata": {
  "kernelspec": {
   "display_name": "Python 3",
   "language": "python",
   "name": "python3"
  },
  "language_info": {
   "codemirror_mode": {
    "name": "ipython",
    "version": 3
   },
   "file_extension": ".py",
   "mimetype": "text/x-python",
   "name": "python",
   "nbconvert_exporter": "python",
   "pygments_lexer": "ipython3",
   "version": "3.7.7"
  }
 },
 "nbformat": 4,
 "nbformat_minor": 4
}
