{
 "cells": [
  {
   "cell_type": "markdown",
   "id": "32b84841",
   "metadata": {},
   "source": [
    "# *Broadcasting*\n",
    "\n",
    "Hemos visto como la vectorización es la estrategia que permite eliminar\n",
    "bucles lentos. Se denomina *broadcasting* en este contexto a las reglas\n",
    "que permiten aplicar la vectorización a *arrays de diferente tamaño*."
   ]
  },
  {
   "cell_type": "code",
   "execution_count": 1,
   "id": "f9c3833d",
   "metadata": {},
   "outputs": [
    {
     "data": {
      "text/plain": [
       "array([4, 5, 6])"
      ]
     },
     "execution_count": 1,
     "metadata": {},
     "output_type": "execute_result"
    }
   ],
   "source": [
    "import numpy as np\n",
    "a = np.array([0, 1, 2])\n",
    "b = np.array([4, 4, 4])\n",
    "a + b"
   ]
  },
  {
   "cell_type": "markdown",
   "id": "b92b537a",
   "metadata": {},
   "source": [
    "Supongamos ahora que queremos aplicar la suma con un escalar"
   ]
  },
  {
   "cell_type": "code",
   "execution_count": 2,
   "id": "9abb359b",
   "metadata": {},
   "outputs": [
    {
     "data": {
      "text/plain": [
       "array([4, 5, 6])"
      ]
     },
     "execution_count": 2,
     "metadata": {},
     "output_type": "execute_result"
    }
   ],
   "source": [
    "a + 4"
   ]
  },
  {
   "cell_type": "markdown",
   "id": "1050601d",
   "metadata": {},
   "source": [
    "El resultado es equivalente a extender o difundir (*broadcast*) el escalar\n",
    "al tamaño completo del array. Es importante recalcar que esta extensión\n",
    "no se realiza en memoria (no se crea un array nuevo) pero es un modelo para\n",
    "entender lo que sucede.\n",
    "\n",
    "Veamos que sucede si extendemos la operación a un caso bidimensional."
   ]
  },
  {
   "cell_type": "code",
   "execution_count": 3,
   "id": "3df26358",
   "metadata": {},
   "outputs": [
    {
     "name": "stdout",
     "output_type": "stream",
     "text": [
      "c= [[1. 1. 1.]\n",
      " [1. 1. 1.]\n",
      " [1. 1. 1.]]\n"
     ]
    },
    {
     "data": {
      "text/plain": [
       "array([[1., 2., 3.],\n",
       "       [1., 2., 3.],\n",
       "       [1., 2., 3.]])"
      ]
     },
     "execution_count": 3,
     "metadata": {},
     "output_type": "execute_result"
    }
   ],
   "source": [
    "c = np.ones((3, 3))\n",
    "print('c=', c)\n",
    "a + c"
   ]
  },
  {
   "cell_type": "markdown",
   "id": "71014719",
   "metadata": {},
   "source": [
    "En este caso, el array `a` se ha extendido por filas.\n",
    "\n",
    "\n",
    "## Reglas de broadcasting\n",
    "\n",
    "Numpy tiene unas reglas que determinan cómo se propagan los valores\n",
    "cuando hay interacción entre arrays.\n",
    "Se comparan las dimensiones de los dos arrays de derecha a izquierda.\n",
    "Los valores son compatibles si:\n",
    "\n",
    " * Son iguales\n",
    " * Uno de ellos es uno\n",
    " * Uno de ellos está vacío\n",
    "\n",
    "En caso contrario se lanza la excepción `ValueError: operands could not be broadcast together`.\n",
    "\n",
    "Veamos algunos ejemplos.\n",
    "\n",
    "### Ejemplo 1"
   ]
  },
  {
   "cell_type": "code",
   "execution_count": 4,
   "id": "e82558fe",
   "metadata": {},
   "outputs": [
    {
     "data": {
      "text/plain": [
       "array([[1., 2., 3.],\n",
       "       [1., 2., 3.],\n",
       "       [1., 2., 3.]])"
      ]
     },
     "execution_count": 4,
     "metadata": {},
     "output_type": "execute_result"
    }
   ],
   "source": [
    "c = np.ones((3, 3))\n",
    "a + c"
   ]
  },
  {
   "cell_type": "markdown",
   "id": "4d9bcc2e",
   "metadata": {},
   "source": [
    "<pre> \n",
    "       c  (2d) 3 x 3\n",
    "       a  (1d)     3\n",
    "resultado (2d) 3 x 3\n",
    "</pre>\n",
    "\n",
    "Empezando por la derecha, la dimensión 3 es compatible. La sigiente \n",
    "es 3 para `c` y no existe para `a`. Así que en esa dimensión `a` adquiere una\n",
    "dimensión 1 (1x3) y luego se replica (por filas).\n",
    "\n",
    "### Ejemplo 2\n",
    "¿Cómo lograríamos sumar por columnas en lugar de filas?. Dado que ejes se emparejan por la derecha, tendríamos que tener una distribución así:\n",
    "\n",
    "\n",
    "<pre> \n",
    "       c  (2d) 3 x 3\n",
    "       b  (2d) 3 x 1\n",
    "resultado (2d) 3 x 3\n",
    "</pre>\n",
    "\n",
    "Sin embargo, el array `b` no puede ser 1-dimensional, dado que en numpy\n",
    "los arrays 1d son siempre vectores fila.\n",
    "\n",
    "Podemos convertir el array `a` en otro array `b` 2d, pero con una dimensión igual a 1 (vector columna o fila) usando `np.newaxis` o `reshape`"
   ]
  },
  {
   "cell_type": "code",
   "execution_count": 5,
   "id": "218924c0",
   "metadata": {},
   "outputs": [
    {
     "name": "stdout",
     "output_type": "stream",
     "text": [
      "(3, 1)\n",
      "(3, 1)\n"
     ]
    }
   ],
   "source": [
    "b = a[:, np.newaxis]\n",
    "print(b.shape)\n",
    "b = a.reshape((3, 1))\n",
    "print(b.shape)"
   ]
  },
  {
   "cell_type": "markdown",
   "id": "359dddeb",
   "metadata": {},
   "source": [
    "La forma con `np.newaxis` es más práctica ya permite añadir una dimensión\n",
    "sin tener que saber el tamaño del array"
   ]
  },
  {
   "cell_type": "code",
   "execution_count": 6,
   "id": "2366b6ae",
   "metadata": {},
   "outputs": [
    {
     "data": {
      "text/plain": [
       "array([[1., 1., 1.],\n",
       "       [2., 2., 2.],\n",
       "       [3., 3., 3.]])"
      ]
     },
     "execution_count": 6,
     "metadata": {},
     "output_type": "execute_result"
    }
   ],
   "source": [
    "a[:, np.newaxis] + c"
   ]
  },
  {
   "cell_type": "markdown",
   "id": "9bd2e1fe",
   "metadata": {},
   "source": [
    "Ahora ya tenemos:\n",
    "<pre> \n",
    "       c  (2d) 3 x 3\n",
    "       b  (2d) 3 x 1\n",
    "resultado (2d) 3 x 3\n",
    "</pre>\n",
    "\n",
    "Y como se ve, el array se replica por columnas.\n",
    "\n",
    "### Ejemplo 3\n",
    "\n",
    "Supongamos que queremos multiplicar dos vectores de diferente dimensión"
   ]
  },
  {
   "cell_type": "code",
   "execution_count": 7,
   "id": "5edb9945",
   "metadata": {
    "tags": [
     "raises-exception"
    ]
   },
   "outputs": [
    {
     "ename": "ValueError",
     "evalue": "operands could not be broadcast together with shapes (3,) (4,) ",
     "output_type": "error",
     "traceback": [
      "\u001b[0;31m---------------------------------------------------------------------------\u001b[0m",
      "\u001b[0;31mValueError\u001b[0m                                Traceback (most recent call last)",
      "Cell \u001b[0;32mIn[7], line 3\u001b[0m\n\u001b[1;32m      1\u001b[0m a \u001b[38;5;241m=\u001b[39m np\u001b[38;5;241m.\u001b[39marange(\u001b[38;5;241m3\u001b[39m)\n\u001b[1;32m      2\u001b[0m b \u001b[38;5;241m=\u001b[39m np\u001b[38;5;241m.\u001b[39marange(\u001b[38;5;241m4\u001b[39m)\n\u001b[0;32m----> 3\u001b[0m \u001b[43ma\u001b[49m\u001b[43m \u001b[49m\u001b[38;5;241;43m*\u001b[39;49m\u001b[43m \u001b[49m\u001b[43mb\u001b[49m\n",
      "\u001b[0;31mValueError\u001b[0m: operands could not be broadcast together with shapes (3,) (4,) "
     ]
    }
   ],
   "source": [
    "a = np.arange(3)\n",
    "b = np.arange(4)\n",
    "a * b"
   ]
  },
  {
   "cell_type": "markdown",
   "id": "c1f2888e",
   "metadata": {},
   "source": [
    "Se produce un error ya que se incumplen las reglas de *broadcast*.\n",
    "\n",
    "<pre> \n",
    "       a  (1d) 3\n",
    "       b  (1d) 4\n",
    "resultado error\n",
    "</pre>\n",
    "\n",
    "Para que sea posible el producto, tenemos que añadir una dimensión extra o bien\n",
    "a `a` o bien a `b`. El tamaño final depende de a qué array se añada:\n",
    "\n",
    "<pre> \n",
    "       a  (2d) 3x1\n",
    "       b  (1d)   4\n",
    "resultado (2d) 3x4\n",
    "</pre>\n",
    "\n",
    "y también es posible:\n",
    "\n",
    "<pre> \n",
    "       a  (1d)   3\n",
    "       b  (2d) 4x1\n",
    "resultado (2d) 4x3\n",
    "</pre>\n",
    "\n",
    "Para el primer caso:"
   ]
  },
  {
   "cell_type": "code",
   "execution_count": 8,
   "id": "866a57b2",
   "metadata": {},
   "outputs": [
    {
     "data": {
      "text/plain": [
       "array([[0, 0, 0, 0],\n",
       "       [0, 1, 2, 3],\n",
       "       [0, 2, 4, 6]])"
      ]
     },
     "execution_count": 8,
     "metadata": {},
     "output_type": "execute_result"
    }
   ],
   "source": [
    "a[:, np.newaxis] * b"
   ]
  },
  {
   "cell_type": "markdown",
   "id": "43eba4e7",
   "metadata": {},
   "source": [
    "y para el segundo:"
   ]
  },
  {
   "cell_type": "code",
   "execution_count": 9,
   "id": "c4efa173",
   "metadata": {},
   "outputs": [
    {
     "data": {
      "text/plain": [
       "array([[0, 0, 0],\n",
       "       [0, 1, 2],\n",
       "       [0, 2, 4],\n",
       "       [0, 3, 6]])"
      ]
     },
     "execution_count": 9,
     "metadata": {},
     "output_type": "execute_result"
    }
   ],
   "source": [
    "a * b[:, np.newaxis] "
   ]
  },
  {
   "cell_type": "markdown",
   "id": "219da7cc",
   "metadata": {},
   "source": [
    "### Ejemplo 4\n",
    "\n",
    "Un ejemplo útil es la generación de funciones sobre grid.\n",
    "Supongamos que queremos evaluar $f(x, y) = \\cos (x + 2y) \\sin(x^2 - y)$\n",
    "\n",
    "Podemos hacer:"
   ]
  },
  {
   "cell_type": "code",
   "execution_count": 10,
   "id": "1ea77bbb",
   "metadata": {},
   "outputs": [
    {
     "name": "stdout",
     "output_type": "stream",
     "text": [
      "(100,)\n"
     ]
    }
   ],
   "source": [
    "x = np.linspace(-5, 5, 100)\n",
    "y = np.linspace(-5, 5, 100)\n",
    "fxy = np.cos(x + 2 * y) * np.sin(x**2 - y)\n",
    "print(fxy.shape)"
   ]
  },
  {
   "cell_type": "markdown",
   "id": "1b4cf744",
   "metadata": {},
   "source": [
    "Sin embargo, el resultado es unidimensional, no 2d. Tanto `x` como `y`\n",
    "tienen de tamaño `(100,)`, por lo que se multiplican como 1d.\n",
    "\n",
    "Para conseguir que `fxy` sea bidimensional, tenemos que hacer `x` o `y` \n",
    "bidimensional añadiendo un eje con `np.newaxis`."
   ]
  },
  {
   "cell_type": "code",
   "execution_count": 11,
   "id": "99005431",
   "metadata": {},
   "outputs": [
    {
     "name": "stdout",
     "output_type": "stream",
     "text": [
      "Shape: (100, 100)\n"
     ]
    },
    {
     "data": {
      "image/png": "[encoded data removed]",
      "text/plain": [
       "<Figure size 640x480 with 1 Axes>"
      ]
     },
     "metadata": {},
     "output_type": "display_data"
    }
   ],
   "source": [
    "x = np.linspace(-5, 5, 100)\n",
    "y = np.linspace(-5, 5, 100)[:, np.newaxis]\n",
    "fxy = np.cos(x + 2 * y) * np.sin(x**2 - y)\n",
    "\n",
    "# Podemos pintar la función con matplotlib\n",
    "import matplotlib.pyplot as plt\n",
    "plt.imshow(fxy,  extent=[-5, 5, -5, 5]);\n",
    "print('Shape:', fxy.shape)"
   ]
  },
  {
   "cell_type": "markdown",
   "id": "108cde57",
   "metadata": {},
   "source": [
    "### Ejemplo 5\n",
    "\n",
    "Como último ejemplo, vamos a centrar un array tabular restando la media por \n",
    "columnas. Empezamos construyendo un array que contendrá la tabla, con\n",
    "4 columnas (las características) y 100 filas (los objetos).\n",
    "Rellenamos cada columna con datos aleatorios de una distribución normal \n",
    "diferente media y varianza."
   ]
  },
  {
   "cell_type": "code",
   "execution_count": 12,
   "id": "30363da8",
   "metadata": {},
   "outputs": [
    {
     "name": "stdout",
     "output_type": "stream",
     "text": [
      "[-1.04805054e-15 -2.77555756e-19 -1.82076576e-16 -1.74305015e-16]\n"
     ]
    }
   ],
   "source": [
    "arr = np.random.normal(loc=[10,0.1,2.3,-1.0], \n",
    "                       scale=[2.1,0.03,0.5,0.2], \n",
    "                       size=(100, 4)\n",
    "                       )\n",
    "# la media se calcula colapsando las filas\n",
    "mean_arr = np.mean(arr, axis=0)\n",
    "# dadas las dimensiones (100, 4) y (4,), podemos restar\n",
    "# directamente\n",
    "res = arr - mean_arr\n",
    "# y la media es:\n",
    "print(np.mean(res, axis=0))\n",
    "# que son valores compatibles con 0"
   ]
  }
 ],
 "metadata": {
  "jupytext": {
   "formats": "md:myst",
   "text_representation": {
    "extension": ".md",
    "format_name": "myst"
   }
  },
  "kernelspec": {
   "display_name": "Python 3",
   "language": "python",
   "name": "python3"
  },
  "language_info": {
   "codemirror_mode": {
    "name": "ipython",
    "version": 3
   },
   "file_extension": ".py",
   "mimetype": "text/x-python",
   "name": "python",
   "nbconvert_exporter": "python",
   "pygments_lexer": "ipython3",
   "version": "3.11.5"
  },
  "source_map": [
   11,
   19,
   24,
   28,
   30,
   40,
   44,
   66,
   69,
   97,
   102,
   107,
   109,
   124,
   129,
   157,
   159,
   161,
   163,
   172,
   177,
   184,
   193,
   203
  ]
 },
 "nbformat": 4,
 "nbformat_minor": 5
}