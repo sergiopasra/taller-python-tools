{
 "cells": [
  {
   "cell_type": "markdown",
   "id": "73e729cd",
   "metadata": {},
   "source": [
    "# Arrays estructurados\n",
    "\n",
    "Una de las características que hemos visto de los arrays de numpy es que su tipo interno de datos es **homogéneo**.\n",
    "Sin embargo, los datos tabulares a veces requieren datos con tipos heterogéneos.\n",
    "\n",
    "Para este tipo de datos, numpy ofrece arrays con un tipo de datos complejo: arrays estructurados y `recarray`.\n",
    "\n",
    "Este tipo de datos funcoina bien en escenarios de uso sencillos. Cuando las operaciones sobre los \n",
    "datos se vuelven complejas, resulta más conveniente utilizar Pandas y su `DataFrame`.\n",
    "\n",
    "\n",
    "Supongamos que tenemos datos sobre los planetas del sistema solar en diferentes categorías.\n",
    "Se podrían almacenar estos datos en diferentes arrays o listas"
   ]
  },
  {
   "cell_type": "code",
   "execution_count": 1,
   "id": "6cb47a03",
   "metadata": {},
   "outputs": [],
   "source": [
    "import numpy as np\n",
    "nombre = ['Mercurio', 'Venus', 'Tierra', 'Marte', 'Júpiter', 'Saturno', 'Urano', 'Neptuno']\n",
    "semieje = [0.39, 0.72, 1.0, 1.52, 5.2, 9.54, 19.19, 30.06]\n",
    "nlunas = [0, 0, 1, 2, 79, 82, 27, 14]"
   ]
  },
  {
   "cell_type": "markdown",
   "id": "9fd5f284",
   "metadata": {},
   "source": [
    "Pero este estilo no es muy conveniente. No hay nada en los datos que indique que pertencen a los\n",
    "mismos objetos. Sería más natural si pudiéramos encuadrar los datos dentro de un única estrutura.\n",
    "\n",
    "Numpy puede manejar este tipo de datos mediante arrays estructurados, que son que aqellos que tienen\n",
    "un tipo de datos `dtype` compuesto.\n",
    "\n",
    "Igual que para generar un array de enteros hacemos:"
   ]
  },
  {
   "cell_type": "code",
   "execution_count": 2,
   "id": "e3b1adc8",
   "metadata": {},
   "outputs": [],
   "source": [
    "x = np.zeros(8, dtype=int)"
   ]
  },
  {
   "cell_type": "markdown",
   "id": "8c12618f",
   "metadata": {},
   "source": [
    "Podemos generar un array compuesto pasando un dicionario en `dtype` (hay otras posibilidades):"
   ]
  },
  {
   "cell_type": "code",
   "execution_count": 3,
   "id": "f39ad8c0",
   "metadata": {},
   "outputs": [
    {
     "name": "stdout",
     "output_type": "stream",
     "text": [
      "[('nombre', '<U10'), ('semieje', '<f4'), ('nlunas', '<u2')]\n"
     ]
    }
   ],
   "source": [
    "data = np.zeros(8, dtype={'names': ('nombre', 'semieje', 'nlunas'),\n",
    "                          'formats': ('U10', 'f4', 'u2')})\n",
    "print(data.dtype)"
   ]
  },
  {
   "cell_type": "markdown",
   "id": "a7186a73",
   "metadata": {},
   "source": [
    "Los diferentes formatos son \n",
    "\n",
    " * `U10`: cadena de unicode longitud máxima 10\n",
    " * `f4`: número de coma flotante de 4 bytes o 32 bits\n",
    " * `u2`: número entero sin signo de 2 bytes o 16 bits\n",
    "\n",
    "Ahora que tenemos el contenedor creado, podemos rellenarlo con los valores anteriores.\n",
    "Podemos acceder a cada columna por el nombre:"
   ]
  },
  {
   "cell_type": "code",
   "execution_count": 4,
   "id": "5606b72b",
   "metadata": {},
   "outputs": [
    {
     "name": "stdout",
     "output_type": "stream",
     "text": [
      "[('Mercurio',  0.39,  0) ('Venus',  0.72,  0) ('Tierra',  1.  ,  1)\n",
      " ('Marte',  1.52,  2) ('Júpiter',  5.2 , 79) ('Saturno',  9.54, 82)\n",
      " ('Urano', 19.19, 27) ('Neptuno', 30.06, 14)]\n"
     ]
    }
   ],
   "source": [
    "data['nombre'] = nombre\n",
    "data['semieje'] = semieje\n",
    "data['nlunas'] = nlunas\n",
    "print(data)"
   ]
  },
  {
   "cell_type": "markdown",
   "id": "454b281f",
   "metadata": {},
   "source": [
    "De esta manera, todos los datos están almacendos en un solo objeto en memoria.\n",
    "Además, podemos acceder a los registros por un índice o a las diferentes columnas\n",
    "por nombre:"
   ]
  },
  {
   "cell_type": "code",
   "execution_count": 5,
   "id": "ed97f132",
   "metadata": {},
   "outputs": [
    {
     "data": {
      "text/plain": [
       "array(['Mercurio', 'Venus', 'Tierra', 'Marte', 'Júpiter', 'Saturno',\n",
       "       'Urano', 'Neptuno'], dtype='<U10')"
      ]
     },
     "execution_count": 5,
     "metadata": {},
     "output_type": "execute_result"
    }
   ],
   "source": [
    "# Nombres de los planetas\n",
    "data['nombre'] "
   ]
  },
  {
   "cell_type": "code",
   "execution_count": 6,
   "id": "eb68a1a7",
   "metadata": {},
   "outputs": [
    {
     "data": {
      "text/plain": [
       "('Tierra', 1., 1)"
      ]
     },
     "execution_count": 6,
     "metadata": {},
     "output_type": "execute_result"
    }
   ],
   "source": [
    "# Tercer planeta desde el Sol\n",
    "data[2] "
   ]
  },
  {
   "cell_type": "code",
   "execution_count": 7,
   "id": "732495be",
   "metadata": {},
   "outputs": [
    {
     "data": {
      "text/plain": [
       "27"
      ]
     },
     "execution_count": 7,
     "metadata": {},
     "output_type": "execute_result"
    }
   ],
   "source": [
    "# Lunas del penúltimo planeta\n",
    "data[-2]['nlunas']"
   ]
  },
  {
   "cell_type": "markdown",
   "id": "71f87ead",
   "metadata": {},
   "source": [
    "Con las herramientas de las secciones anteriores podemos realizar filtrado\n",
    "con máscara booleanas."
   ]
  },
  {
   "cell_type": "code",
   "execution_count": 8,
   "id": "46d9feed",
   "metadata": {},
   "outputs": [
    {
     "data": {
      "text/plain": [
       "array([79, 82, 27, 14], dtype=uint16)"
      ]
     },
     "execution_count": 8,
     "metadata": {},
     "output_type": "execute_result"
    }
   ],
   "source": [
    "# Lunas de los planetas exteriores\n",
    "# i.e, distancia mayor que Marte (1.5)\n",
    "data[ data['semieje'] > 2 ]['nlunas']"
   ]
  },
  {
   "cell_type": "markdown",
   "id": "a2e70316",
   "metadata": {},
   "source": [
    "Aunque este tipo de manipulaciones son factibles, en cuanto se hacen un poco \n",
    "complicadas es más práctico utilizar un paquete especializado de datos tabulares,\n",
    "como pandas o xarray.\n",
    "\n",
    "Los tipos estructurados de numpy están diseñados para reflejar los tipos de dato\n",
    "`struct` de C y para acceder a *buffers* de datos de bajo nivel, como por\n",
    "ejemplo para interpretar datos opacos (blobs) binarios. Por eso los `dtype` \n",
    "estructurados tienen soporte para uniones (`union`), datos anidados, etc.\n",
    "Puede darse el caso de que los tipos estructurados de numpy tengan peor desempeño\n",
    "que los tipos de pandas.\n",
    "\n",
    "\n",
    "## Métodos de creación de arrays estructurados\n",
    "\n",
    "Los arrays estructurados pueden crearse de diferentes maneras. Existen unas \n",
    "cuantas que solo estan permitidas para mantener compatibilidad hacia atrás\n",
    "con versiones antiguas de numpy (y que no deben utilizarse en código nuevo).\n",
    "\n",
    "`dtype` puede especificarse como diccionario:"
   ]
  },
  {
   "cell_type": "code",
   "execution_count": 9,
   "id": "8db34657",
   "metadata": {},
   "outputs": [
    {
     "data": {
      "text/plain": [
       "dtype([('nombre', '<U10'), ('semieje', '<f4'), ('nlunas', '<u2')])"
      ]
     },
     "execution_count": 9,
     "metadata": {},
     "output_type": "execute_result"
    }
   ],
   "source": [
    "np.dtype({'names': ('nombre', 'semieje', 'nlunas'),\n",
    "          'formats': ('U10', 'f4', 'u2')})"
   ]
  },
  {
   "cell_type": "markdown",
   "id": "b2a03bfb",
   "metadata": {},
   "source": [
    "también con tipos de datos en vez de cadenas"
   ]
  },
  {
   "cell_type": "code",
   "execution_count": 10,
   "id": "42878461",
   "metadata": {},
   "outputs": [
    {
     "data": {
      "text/plain": [
       "dtype([('nombre', '<U10'), ('semieje', '<f4'), ('nlunas', '<u2')])"
      ]
     },
     "execution_count": 10,
     "metadata": {},
     "output_type": "execute_result"
    }
   ],
   "source": [
    "np.dtype({'names': ('nombre', 'semieje', 'nlunas'),\n",
    "          'formats': ((np.str_, 10), np.float32, np.uint16)})"
   ]
  },
  {
   "cell_type": "markdown",
   "id": "daf82716",
   "metadata": {},
   "source": [
    "o como lista de tuplas"
   ]
  },
  {
   "cell_type": "code",
   "execution_count": 11,
   "id": "5e397b96",
   "metadata": {},
   "outputs": [
    {
     "data": {
      "text/plain": [
       "dtype([('nombre', '<U10'), ('semieje', '<f4'), ('nlunas', '<u2')])"
      ]
     },
     "execution_count": 11,
     "metadata": {},
     "output_type": "execute_result"
    }
   ],
   "source": [
    "np.dtype([('nombre', (np.str_, 10)), ('semieje', np.float32), ('nlunas', np.uint16)])"
   ]
  },
  {
   "cell_type": "markdown",
   "id": "575c19cc",
   "metadata": {},
   "source": [
    "si no se da nombre a las columnas, el nombre por defecto es `f#`"
   ]
  },
  {
   "cell_type": "code",
   "execution_count": 12,
   "id": "70f71daa",
   "metadata": {},
   "outputs": [
    {
     "data": {
      "text/plain": [
       "dtype([('f0', '<U10'), ('f1', '<f4'), ('f2', '<u2')])"
      ]
     },
     "execution_count": 12,
     "metadata": {},
     "output_type": "execute_result"
    }
   ],
   "source": [
    "np.dtype('U10,f4,u2')"
   ]
  },
  {
   "cell_type": "markdown",
   "id": "f6d86238",
   "metadata": {},
   "source": [
    "## El tipo `recarray`\n",
    "\n",
    "Por último, mencionar que el tipo `recarray` es equivalente a los tipos estructurados\n",
    "con la capacidad adicional de que se puede acceder a las columnas como **atributo**.\n",
    "\n",
    "Podemos convertir la tabla anterior a recarray con"
   ]
  },
  {
   "cell_type": "code",
   "execution_count": 13,
   "id": "9f186c92",
   "metadata": {},
   "outputs": [
    {
     "data": {
      "text/plain": [
       "array([ 0,  0,  1,  2, 79, 82, 27, 14], dtype=uint16)"
      ]
     },
     "execution_count": 13,
     "metadata": {},
     "output_type": "execute_result"
    }
   ],
   "source": [
    "data_rec =data.view(np.recarray)\n",
    "data_rec.nlunas"
   ]
  },
  {
   "cell_type": "markdown",
   "id": "46ae29ee",
   "metadata": {},
   "source": [
    "La pega es que el acceso a los datos en un recarray es más lento"
   ]
  },
  {
   "cell_type": "code",
   "execution_count": 14,
   "id": "71b3bbe9",
   "metadata": {},
   "outputs": [
    {
     "name": "stdout",
     "output_type": "stream",
     "text": [
      "87.7 ns ± 0.0875 ns per loop (mean ± std. dev. of 7 runs, 10,000,000 loops each)\n"
     ]
    },
    {
     "name": "stdout",
     "output_type": "stream",
     "text": [
      "1.93 µs ± 2.04 ns per loop (mean ± std. dev. of 7 runs, 1,000,000 loops each)\n"
     ]
    },
    {
     "name": "stdout",
     "output_type": "stream",
     "text": [
      "3.64 µs ± 11.6 ns per loop (mean ± std. dev. of 7 runs, 100,000 loops each)\n"
     ]
    }
   ],
   "source": [
    "%timeit data['nlunas']\n",
    "%timeit data_rec['nlunas']\n",
    "%timeit data_rec.nlunas"
   ]
  },
  {
   "cell_type": "markdown",
   "id": "a89af6f2",
   "metadata": {},
   "source": [
    "Incluso usando el operador[], el acceso en recarray es más lento por un orden de magnitud"
   ]
  }
 ],
 "metadata": {
  "jupytext": {
   "formats": "md:myst",
   "text_representation": {
    "extension": ".md",
    "format_name": "myst"
   }
  },
  "kernelspec": {
   "display_name": "Python 3",
   "language": "python",
   "name": "python3"
  },
  "language_info": {
   "codemirror_mode": {
    "name": "ipython",
    "version": 3
   },
   "file_extension": ".py",
   "mimetype": "text/x-python",
   "name": "python",
   "nbconvert_exporter": "python",
   "pygments_lexer": "ipython3",
   "version": "3.11.5"
  },
  "source_map": [
   11,
   27,
   32,
   42,
   44,
   48,
   52,
   63,
   68,
   74,
   79,
   84,
   87,
   92,
   96,
   118,
   121,
   126,
   129,
   133,
   135,
   137,
   139,
   148,
   151,
   156,
   160
  ]
 },
 "nbformat": 4,
 "nbformat_minor": 5
}