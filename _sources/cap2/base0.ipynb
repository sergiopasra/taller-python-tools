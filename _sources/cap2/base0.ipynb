{
 "cells": [
  {
   "cell_type": "markdown",
   "id": "f5a52827",
   "metadata": {},
   "source": [
    "# Estructura básica\n",
    "\n",
    "## Atributos del array\n",
    "\n",
    "Hemos visto algunos atributos, aunque en las manipulaciones normales rara\n",
    "vez se usan. Veremos ahora atributos más interesantes. Para ello definimos\n",
    "un array de tres dimensiones. Los tres primeros atributos son el ńumero\n",
    "de dimensiones `ndim`, la forma `shape` y el tamaño (número de elementos) `size`."
   ]
  },
  {
   "cell_type": "code",
   "execution_count": 1,
   "id": "c186820f",
   "metadata": {},
   "outputs": [
    {
     "name": "stdout",
     "output_type": "stream",
     "text": [
      "x3.ndim= 3\n",
      "x3.shape= (3, 4, 5)\n",
      "x3.size= 60\n"
     ]
    }
   ],
   "source": [
    "import numpy as np\n",
    "x3 = np.ones((3, 4, 5))\n",
    "print('x3.ndim=', x3.ndim)\n",
    "print('x3.shape=', x3.shape)\n",
    "print('x3.size=', x3.size)"
   ]
  },
  {
   "cell_type": "markdown",
   "id": "734daac1",
   "metadata": {},
   "source": [
    "Otros atributos importantes son los que contienen el tipo de datos `dtype`.\n",
    "Hablaremos de ellos en otra sección. Otros atributos relacionados son\n",
    "`itemsize` y `nbytes`."
   ]
  },
  {
   "cell_type": "code",
   "execution_count": 2,
   "id": "70f930aa",
   "metadata": {},
   "outputs": [
    {
     "name": "stdout",
     "output_type": "stream",
     "text": [
      "x3.dtype= float64\n",
      "x3.nbytes= 480\n",
      "x3.itemsize= 8\n"
     ]
    }
   ],
   "source": [
    "print('x3.dtype=', x3.dtype)\n",
    "print('x3.nbytes=', x3.nbytes)\n",
    "print('x3.itemsize=', x3.itemsize)"
   ]
  },
  {
   "cell_type": "markdown",
   "id": "26e192b4",
   "metadata": {},
   "source": [
    "## Uso de índices\n",
    "\n",
    "La manera más sencilla de usar índices es equivalente al de las listas\n",
    "de Python. Empezamos con un array unidimensional."
   ]
  },
  {
   "cell_type": "code",
   "execution_count": 3,
   "id": "2c519989",
   "metadata": {},
   "outputs": [
    {
     "name": "stdout",
     "output_type": "stream",
     "text": [
      "[0 1 2 3 4 5 6 7 8 9]\n",
      "x1.ndim= 1\n",
      "x1.shape= (10,)\n",
      "x1.size= 10\n",
      "x1.dtype= int64\n",
      "x1.nbytes= 80\n",
      "x1.itemsize= 8\n"
     ]
    }
   ],
   "source": [
    "x1 = np.arange(10)\n",
    "print(x1)\n",
    "print('x1.ndim=', x1.ndim)\n",
    "print('x1.shape=', x1.shape)\n",
    "print('x1.size=', x1.size)\n",
    "print('x1.dtype=', x1.dtype)\n",
    "print('x1.nbytes=', x1.nbytes)\n",
    "print('x1.itemsize=', x1.itemsize)"
   ]
  },
  {
   "cell_type": "markdown",
   "id": "70afa854",
   "metadata": {},
   "source": [
    "Los índices empiezan en cero y los valores negativos implican empezar\n",
    "desde el final (se empieza en -1)."
   ]
  },
  {
   "cell_type": "code",
   "execution_count": 4,
   "id": "f140b557",
   "metadata": {},
   "outputs": [
    {
     "name": "stdout",
     "output_type": "stream",
     "text": [
      "x1[2]= 2\n",
      "x1[0]= 0\n",
      "x1[-1]= 9\n",
      "x1[-2]= 8\n"
     ]
    }
   ],
   "source": [
    "print(\"x1[2]=\", x1[2])\n",
    "print(\"x1[0]=\", x1[0])\n",
    "print(\"x1[-1]=\", x1[-1])\n",
    "print(\"x1[-2]=\", x1[-2])"
   ]
  },
  {
   "cell_type": "markdown",
   "id": "cb25508d",
   "metadata": {},
   "source": [
    "Para un array multimensional hay que pasar los índices separados por comas.\n",
    "Más concretamente, una **tupla** de índices"
   ]
  },
  {
   "cell_type": "code",
   "execution_count": 5,
   "id": "a89e8369",
   "metadata": {},
   "outputs": [
    {
     "name": "stdout",
     "output_type": "stream",
     "text": [
      "x3[2, 3, 0]= 1.0\n",
      "x3[0, -1, 2]= 1.0\n",
      "x3[(2, 3,  0)]= 1.0\n"
     ]
    }
   ],
   "source": [
    "print(\"x3[2, 3, 0]=\", x3[2, 3, 0])\n",
    "print(\"x3[0, -1, 2]=\", x3[0, -1, 2])\n",
    "idx = (2, 3, 0)\n",
    "print(\"x3[(2, 3,  0)]=\", x3[idx])"
   ]
  },
  {
   "cell_type": "markdown",
   "id": "3aefed7c",
   "metadata": {},
   "source": [
    "Los índices puede utilizarse para asignar valores. Al contrario que en las\n",
    "listas, el tipo interno es homogéneo, así que se realiza una conversión\n",
    "automática en la asignación."
   ]
  },
  {
   "cell_type": "code",
   "execution_count": 6,
   "id": "40595600",
   "metadata": {},
   "outputs": [
    {
     "name": "stdout",
     "output_type": "stream",
     "text": [
      "x3[2, 3, 0]= 1.0\n",
      "x3[2, 3, 0]= -1.5\n",
      "x3[2, 3, 1]= 1.0\n",
      "x3[2, 3, 1]= 0.0\n"
     ]
    }
   ],
   "source": [
    "print(\"x3[2, 3, 0]=\", x3[2, 3, 0])\n",
    "x3[2, 3, 0] = -1.5\n",
    "print(\"x3[2, 3, 0]=\", x3[2, 3, 0])\n",
    "print(\"x3[2, 3, 1]=\", x3[2, 3, 1])\n",
    "x3[2, 3, 1] = False # Conversión automática\n",
    "print(\"x3[2, 3, 1]=\", x3[2, 3, 1])"
   ]
  },
  {
   "cell_type": "markdown",
   "id": "931d1f90",
   "metadata": {},
   "source": [
    "## Regiones con `slice`\n",
    "\n",
    "Seguimos con las similitudes con las listas. De la misma manera que podemos\n",
    "acceder a una sublistas con la notación `[a:b:c]`, los arrays permiten \n",
    "crear subarrays, con algunas diferencias notables.\n",
    "\n",
    "En una lista, `[a:b:c]` crea una lista que empieza en el índice `a`,\n",
    "llega hasta el índice `b` sin incluirlo, con paso `c`. Si cualquier\n",
    "se omite toma como valor por defecto `a=0`, `c=1` y `b=dimensión`."
   ]
  },
  {
   "cell_type": "code",
   "execution_count": 7,
   "id": "1c6d8381",
   "metadata": {},
   "outputs": [
    {
     "name": "stdout",
     "output_type": "stream",
     "text": [
      "[0 1 2 3 4]\n",
      "[5 6 7 8 9]\n",
      "[3 4 5 6 7]\n",
      "[0 2 4 6 8]\n",
      "[1 3 5 7 9]\n"
     ]
    }
   ],
   "source": [
    "print(x1[:5])\n",
    "print(x1[5:])\n",
    "print(x1[3:8])\n",
    "print(x1[::2])\n",
    "print(x1[1::2])"
   ]
  },
  {
   "cell_type": "markdown",
   "id": "0488cc0c",
   "metadata": {},
   "source": [
    "Si `c` es negativo, entonces los valores por defecto se invierten.\n",
    "Además pueden producirse algunos casos límite que pueden inducir a error"
   ]
  },
  {
   "cell_type": "code",
   "execution_count": 8,
   "id": "99b354e0",
   "metadata": {},
   "outputs": [
    {
     "name": "stdout",
     "output_type": "stream",
     "text": [
      "[9 8 7 6 5 4 3 2 1 0]\n",
      "[5 3 1]\n"
     ]
    }
   ],
   "source": [
    "print(x1[::-1])\n",
    "print(x1[5::-2])"
   ]
  },
  {
   "cell_type": "markdown",
   "id": "f5a4d12b",
   "metadata": {},
   "source": [
    "El resultado del subarray puede ser vacio:"
   ]
  },
  {
   "cell_type": "code",
   "execution_count": 9,
   "id": "12f3d220",
   "metadata": {},
   "outputs": [
    {
     "name": "stdout",
     "output_type": "stream",
     "text": [
      "[]\n"
     ]
    }
   ],
   "source": [
    "print(x1[10:0])"
   ]
  },
  {
   "cell_type": "markdown",
   "id": "6d2f6a5a",
   "metadata": {},
   "source": [
    "No es posible recorrer el array con paso negativo e índices explícitos:"
   ]
  },
  {
   "cell_type": "code",
   "execution_count": 10,
   "id": "36f28cd3",
   "metadata": {},
   "outputs": [
    {
     "name": "stdout",
     "output_type": "stream",
     "text": [
      "[9 8 7 6 5 4 3 2 1]\n",
      "[9 8 7 6 5 4 3 2 1 0]\n"
     ]
    }
   ],
   "source": [
    "print(x1[10:0:-1]) # 0 no incluido\n",
    "print(x1[10::-1]) # Ahora sí"
   ]
  },
  {
   "cell_type": "markdown",
   "id": "a5de31be",
   "metadata": {},
   "source": [
    "Podemos utilizar índices fuera el array sin error:"
   ]
  },
  {
   "cell_type": "code",
   "execution_count": 11,
   "id": "90d964da",
   "metadata": {},
   "outputs": [
    {
     "name": "stdout",
     "output_type": "stream",
     "text": [
      "[5 6 7 8 9]\n"
     ]
    }
   ],
   "source": [
    "print(x1[5:50]) # Se incluyen solo los valores existentes"
   ]
  },
  {
   "cell_type": "markdown",
   "id": "6cbbf753",
   "metadata": {},
   "source": [
    "### Regiones multidimensionales\n",
    "\n",
    "La extensión es obvia, pasamos las regiones separadas por comas (en\n",
    "realidad estamos pasando un **tupla** de subregiones)"
   ]
  },
  {
   "cell_type": "code",
   "execution_count": 12,
   "id": "282d71f5",
   "metadata": {},
   "outputs": [
    {
     "name": "stdout",
     "output_type": "stream",
     "text": [
      "(3, 4)\n",
      "[[ 8  4  5  0]\n",
      " [ 8  8  1  2]\n",
      " [ 2  0 12  1]]\n"
     ]
    }
   ],
   "source": [
    "x2 = np.array([[8, 4, 5, 0], [8, 8, 1, 2], [2, 0, 12, 1]])\n",
    "print(x2.shape)\n",
    "print(x2)"
   ]
  },
  {
   "cell_type": "code",
   "execution_count": 13,
   "id": "5fb9743c",
   "metadata": {},
   "outputs": [
    {
     "data": {
      "text/plain": [
       "array([[8, 4, 5],\n",
       "       [8, 8, 1]])"
      ]
     },
     "execution_count": 13,
     "metadata": {},
     "output_type": "execute_result"
    }
   ],
   "source": [
    "x2[:2, :3] # Filas [0, 2), columnas [0, 3)"
   ]
  },
  {
   "cell_type": "code",
   "execution_count": 14,
   "id": "cc191695",
   "metadata": {},
   "outputs": [
    {
     "data": {
      "text/plain": [
       "array([[ 0,  5,  4,  8],\n",
       "       [ 1, 12,  0,  2]])"
      ]
     },
     "execution_count": 14,
     "metadata": {},
     "output_type": "execute_result"
    }
   ],
   "source": [
    "x2[::2, ::-1] # Filas pares, columnas invertidas"
   ]
  },
  {
   "cell_type": "markdown",
   "id": "397a51d6",
   "metadata": {},
   "source": [
    "Es habitual querer acceder a las filas o columnas de un array.\n",
    "Esto se puede hacer combinando índices numéricos con subarrays.\n",
    "\n",
    "Por ejemplo:"
   ]
  },
  {
   "cell_type": "code",
   "execution_count": 15,
   "id": "ec5268a4",
   "metadata": {},
   "outputs": [
    {
     "data": {
      "text/plain": [
       "array([8, 8, 1, 2])"
      ]
     },
     "execution_count": 15,
     "metadata": {},
     "output_type": "execute_result"
    }
   ],
   "source": [
    "x2[1, :] # Fila 1, todas las columnas"
   ]
  },
  {
   "cell_type": "markdown",
   "id": "efdc8c10",
   "metadata": {},
   "source": [
    "El elemento `:` es equivalente a utilizar un índice de subarray con todos\n",
    "los valores por defecto\n",
    "\n",
    "De la misma forma"
   ]
  },
  {
   "cell_type": "code",
   "execution_count": 16,
   "id": "8f9751bd",
   "metadata": {},
   "outputs": [
    {
     "data": {
      "text/plain": [
       "array([0, 2, 1])"
      ]
     },
     "execution_count": 16,
     "metadata": {},
     "output_type": "execute_result"
    }
   ],
   "source": [
    "x2[:, 3] # Todas las filas, columna 3"
   ]
  },
  {
   "cell_type": "markdown",
   "id": "0b6c2f7b",
   "metadata": {},
   "source": [
    "Algunas sutilezas:\n",
    "\n",
    "Estas dos expresiones no tienen el mismo tamaño pero sí los mismos valores:"
   ]
  },
  {
   "cell_type": "code",
   "execution_count": 17,
   "id": "531c4b98",
   "metadata": {},
   "outputs": [
    {
     "name": "stdout",
     "output_type": "stream",
     "text": [
      "[[0]\n",
      " [2]\n",
      " [1]]\n",
      "(3, 1)\n",
      "[0 2 1]\n",
      "(3,)\n"
     ]
    }
   ],
   "source": [
    "print(x2[:, 3:4])\n",
    "print(x2[:, 3:4].shape)\n",
    "print(x2[:, 3])\n",
    "print(x2[:, 3].shape)"
   ]
  },
  {
   "cell_type": "markdown",
   "id": "fc7c0877",
   "metadata": {},
   "source": [
    "El resultado de la operación depende de si aportamos un valor o un **rango**.\n",
    "\n",
    "Las expresiones `a:b:c` son equivalentes a `slice(a, b, c)`, así podemos\n",
    "hacer:"
   ]
  },
  {
   "cell_type": "code",
   "execution_count": 18,
   "id": "123e248c",
   "metadata": {},
   "outputs": [
    {
     "name": "stdout",
     "output_type": "stream",
     "text": [
      "[[8 4 5]\n",
      " [8 8 1]]\n",
      "[[8 4 5]\n",
      " [8 8 1]]\n"
     ]
    }
   ],
   "source": [
    "print(x2[:2, :3]) # Filas [0, 2), columnas [0, 3)\n",
    "# https://docs.python.org/3/library/functions.html#slice\n",
    "sl1 = slice(2)\n",
    "sl2 = slice(3)\n",
    "idx = (sl1, sl2)\n",
    "print(x2[idx])"
   ]
  },
  {
   "cell_type": "markdown",
   "id": "a04e57c0",
   "metadata": {},
   "source": [
    "Cuando el array tiene varios ejes, puede resultar complicado \n",
    "seleccionar secciones. Supongamos que tenemos un array 4D"
   ]
  },
  {
   "cell_type": "code",
   "execution_count": 19,
   "id": "76d71d89",
   "metadata": {},
   "outputs": [
    {
     "name": "stdout",
     "output_type": "stream",
     "text": [
      "(2, 3, 4, 5)\n"
     ]
    }
   ],
   "source": [
    "x4 = np.arange(120).reshape(2, 3, 4, 5)\n",
    "print(x4.shape)"
   ]
  },
  {
   "cell_type": "markdown",
   "id": "58d7d6c1",
   "metadata": {},
   "source": [
    "Si quisiéramos acceder al array 3D fijando el último ejes tendríamos que hacer:"
   ]
  },
  {
   "cell_type": "code",
   "execution_count": 20,
   "id": "246e8d09",
   "metadata": {},
   "outputs": [
    {
     "name": "stdout",
     "output_type": "stream",
     "text": [
      "[[[  0   5  10  15]\n",
      "  [ 20  25  30  35]\n",
      "  [ 40  45  50  55]]\n",
      "\n",
      " [[ 60  65  70  75]\n",
      "  [ 80  85  90  95]\n",
      "  [100 105 110 115]]]\n"
     ]
    }
   ],
   "source": [
    "print(x4[:, :, :, 0]) # Último eje"
   ]
  },
  {
   "cell_type": "code",
   "execution_count": 21,
   "id": "34a4ecdc",
   "metadata": {},
   "outputs": [
    {
     "name": "stdout",
     "output_type": "stream",
     "text": [
      "[[[ 60  61  62  63  64]\n",
      "  [ 65  66  67  68  69]\n",
      "  [ 70  71  72  73  74]\n",
      "  [ 75  76  77  78  79]]\n",
      "\n",
      " [[ 80  81  82  83  84]\n",
      "  [ 85  86  87  88  89]\n",
      "  [ 90  91  92  93  94]\n",
      "  [ 95  96  97  98  99]]\n",
      "\n",
      " [[100 101 102 103 104]\n",
      "  [105 106 107 108 109]\n",
      "  [110 111 112 113 114]\n",
      "  [115 116 117 118 119]]]\n"
     ]
    }
   ],
   "source": [
    "print(x4[1, :, :, :]) # Primer eje"
   ]
  },
  {
   "cell_type": "markdown",
   "id": "ff4d1bdc",
   "metadata": {},
   "source": [
    "Por defecto, numpy completa todos los ejes que no existen, hacia la derecha,\n",
    "así que la última forma puede ponerse como:"
   ]
  },
  {
   "cell_type": "code",
   "execution_count": 22,
   "id": "bca4535d",
   "metadata": {},
   "outputs": [
    {
     "name": "stdout",
     "output_type": "stream",
     "text": [
      "[[[ 60  61  62  63  64]\n",
      "  [ 65  66  67  68  69]\n",
      "  [ 70  71  72  73  74]\n",
      "  [ 75  76  77  78  79]]\n",
      "\n",
      " [[ 80  81  82  83  84]\n",
      "  [ 85  86  87  88  89]\n",
      "  [ 90  91  92  93  94]\n",
      "  [ 95  96  97  98  99]]\n",
      "\n",
      " [[100 101 102 103 104]\n",
      "  [105 106 107 108 109]\n",
      "  [110 111 112 113 114]\n",
      "  [115 116 117 118 119]]]\n"
     ]
    }
   ],
   "source": [
    "print(x4[1]) # Primer eje"
   ]
  },
  {
   "cell_type": "markdown",
   "id": "75e49f56",
   "metadata": {},
   "source": [
    "Existe otro operador que se utiliza en indexación de listas \n",
    "llamado elipsis `...`. En numpy se puede utilizar para completar todos\n",
    "los ejes sin asignar siempre que no sea ambiguo.\n",
    "\n",
    "Así, el primer ejemplo se puede poner como:"
   ]
  },
  {
   "cell_type": "code",
   "execution_count": 23,
   "id": "ef2681f5",
   "metadata": {},
   "outputs": [
    {
     "name": "stdout",
     "output_type": "stream",
     "text": [
      "[[[  0   5  10  15]\n",
      "  [ 20  25  30  35]\n",
      "  [ 40  45  50  55]]\n",
      "\n",
      " [[ 60  65  70  75]\n",
      "  [ 80  85  90  95]\n",
      "  [100 105 110 115]]]\n"
     ]
    }
   ],
   "source": [
    "print(x4[..., 0]) # Último eje"
   ]
  },
  {
   "cell_type": "markdown",
   "id": "67059bc1",
   "metadata": {},
   "source": [
    "y el último como:"
   ]
  },
  {
   "cell_type": "code",
   "execution_count": 24,
   "id": "91ed9f73",
   "metadata": {},
   "outputs": [
    {
     "name": "stdout",
     "output_type": "stream",
     "text": [
      "[[[ 60  61  62  63  64]\n",
      "  [ 65  66  67  68  69]\n",
      "  [ 70  71  72  73  74]\n",
      "  [ 75  76  77  78  79]]\n",
      "\n",
      " [[ 80  81  82  83  84]\n",
      "  [ 85  86  87  88  89]\n",
      "  [ 90  91  92  93  94]\n",
      "  [ 95  96  97  98  99]]\n",
      "\n",
      " [[100 101 102 103 104]\n",
      "  [105 106 107 108 109]\n",
      "  [110 111 112 113 114]\n",
      "  [115 116 117 118 119]]]\n"
     ]
    }
   ],
   "source": [
    "print(x4[1, ...]) # Primer eje"
   ]
  },
  {
   "cell_type": "markdown",
   "id": "cb427e89",
   "metadata": {},
   "source": [
    "Incluso se podría hacer:"
   ]
  },
  {
   "cell_type": "code",
   "execution_count": 25,
   "id": "aa84f661",
   "metadata": {},
   "outputs": [
    {
     "name": "stdout",
     "output_type": "stream",
     "text": [
      "[[ 60  65  70  75]\n",
      " [ 80  85  90  95]\n",
      " [100 105 110 115]]\n"
     ]
    }
   ],
   "source": [
    "print(x4[1, ..., 0]) "
   ]
  },
  {
   "cell_type": "markdown",
   "id": "68504176",
   "metadata": {},
   "source": [
    "Pero no:"
   ]
  },
  {
   "cell_type": "code",
   "execution_count": 26,
   "id": "01a5878d",
   "metadata": {
    "tags": [
     "raises-exception"
    ]
   },
   "outputs": [
    {
     "ename": "IndexError",
     "evalue": "an index can only have a single ellipsis ('...')",
     "output_type": "error",
     "traceback": [
      "\u001b[0;31m---------------------------------------------------------------------------\u001b[0m",
      "\u001b[0;31mIndexError\u001b[0m                                Traceback (most recent call last)",
      "Cell \u001b[0;32mIn[26], line 1\u001b[0m\n\u001b[0;32m----> 1\u001b[0m \u001b[38;5;28mprint\u001b[39m(\u001b[43mx4\u001b[49m\u001b[43m[\u001b[49m\u001b[38;5;241;43m.\u001b[39;49m\u001b[38;5;241;43m.\u001b[39;49m\u001b[38;5;241;43m.\u001b[39;49m\u001b[43m,\u001b[49m\u001b[43m \u001b[49m\u001b[38;5;241;43m1\u001b[39;49m\u001b[43m,\u001b[49m\u001b[43m \u001b[49m\u001b[38;5;241;43m.\u001b[39;49m\u001b[38;5;241;43m.\u001b[39;49m\u001b[38;5;241;43m.\u001b[39;49m\u001b[43m]\u001b[49m) \n",
      "\u001b[0;31mIndexError\u001b[0m: an index can only have a single ellipsis ('...')"
     ]
    }
   ],
   "source": [
    "print(x4[..., 1, ...]) "
   ]
  },
  {
   "cell_type": "markdown",
   "id": "6546f033",
   "metadata": {},
   "source": [
    "dado que es ambiguo"
   ]
  }
 ],
 "metadata": {
  "jupytext": {
   "formats": "md:myst",
   "text_representation": {
    "extension": ".md",
    "format_name": "myst"
   }
  },
  "kernelspec": {
   "display_name": "Python 3",
   "language": "python",
   "name": "python3"
  },
  "language_info": {
   "codemirror_mode": {
    "name": "ipython",
    "version": 3
   },
   "file_extension": ".py",
   "mimetype": "text/x-python",
   "name": "python",
   "nbconvert_exporter": "python",
   "pygments_lexer": "ipython3",
   "version": "3.11.9"
  },
  "source_map": [
   11,
   23,
   29,
   35,
   39,
   48,
   57,
   62,
   67,
   72,
   77,
   83,
   90,
   102,
   108,
   113,
   116,
   119,
   121,
   124,
   127,
   131,
   133,
   140,
   147,
   153,
   155,
   163,
   165,
   172,
   174,
   180,
   185,
   191,
   198,
   203,
   206,
   209,
   213,
   215,
   220,
   222,
   230,
   232,
   235,
   237,
   240,
   242,
   245,
   248
  ]
 },
 "nbformat": 4,
 "nbformat_minor": 5
}