{
 "cells": [
  {
   "cell_type": "markdown",
   "id": "amazing-innocent",
   "metadata": {},
   "source": [
    "# Funciones universales\n",
    "\n",
    "Hasta ahora hemos hablado de la necesidad de tener un tipo\n",
    "de datos específico para arreglos numéricos, pero no hemos\n",
    "especificado cómo utilizar numpy para acceder a operaciones\n",
    "numéricas eficientes. \n",
    "\n",
    "La clave para la eficiencia es utilizar operaciones vectorizadas,\n",
    "las cuales numpy implementa mediante un mecanismo denominado\n",
    "funciones universales, o *ufuncs*. \n",
    "\n",
    "\n",
    "## La velocidad de los bucles\n",
    "\n",
    "Ya comentamos al hablar de los tipos de Python, que el carácter\n",
    "dinámico del lenguaje hacer que incluso los tipos más básicos\n",
    "se implementen con punteros a estructuras complejas (en la implementación\n",
    "por defecto CPython, escrita en C).\n",
    "\n",
    "La lentitud relativa de este acceso se manifiesta cuando se repiten\n",
    "muchas operaciones numéricas sencillas, por ejemplo, cuando se\n",
    "realizan muchas operaciones en un array grande de datos.\n",
    "\n",
    "\n",
    "Veamos un ejemplo:"
   ]
  },
  {
   "cell_type": "code",
   "execution_count": 1,
   "id": "atomic-surgeon",
   "metadata": {},
   "outputs": [
    {
     "data": {
      "text/plain": [
       "array([0.02777778, 1.        , 0.015625  , 1.        , 0.25      ])"
      ]
     },
     "execution_count": 1,
     "metadata": {},
     "output_type": "execute_result"
    }
   ],
   "source": [
    "import numpy as np\n",
    "\n",
    "def calcular_inv_cuad(arr):\n",
    "    res = np.empty_like(arr, dtype='float')\n",
    "    for idx in range(len(arr)):\n",
    "        res[idx] = 1.0 / arr[idx]**2\n",
    "    return res\n",
    "\n",
    "val = np.random.randint(1, 10, size=5)\n",
    "calcular_inv_cuad(val)"
   ]
  },
  {
   "cell_type": "markdown",
   "id": "sublime-submission",
   "metadata": {},
   "source": [
    "Este código es similar a lo que se haría, por ejemplo, en C.\n",
    "\n",
    "Podemos utilizar el comando de celda `%timeit` para medir\n",
    "la velocidad de ejecución en un array más grande. Por ejemplo:"
   ]
  },
  {
   "cell_type": "code",
   "execution_count": 2,
   "id": "offensive-warner",
   "metadata": {},
   "outputs": [
    {
     "name": "stdout",
     "output_type": "stream",
     "text": [
      "2.51 s ± 81 ms per loop (mean ± std. dev. of 7 runs, 1 loop each)\n"
     ]
    }
   ],
   "source": [
    "val2 = np.random.randint(1, 100, size=1000000)\n",
    "%timeit calcular_inv_cuad(val2)"
   ]
  },
  {
   "cell_type": "markdown",
   "id": "boring-skill",
   "metadata": {},
   "source": [
    "En este caso, vemos que se tarda en promedio unos segundos\n",
    "en realizar esta operación sencilla sobre un millón de enteros.\n",
    "Pensando que esto no es más que una imagen de 1000x1000, parece\n",
    "extremadamente lento. \n",
    "\n",
    "Si analizáramos las llamadas internas en C, veríamos\n",
    "que la mayor parte del tiempo se pierde en el acceso \n",
    "a la estructura interna y comprobaciones de tipos.\n",
    "\n",
    "En un lenguaje compilado, estas comprobaciones se antes\n",
    "de la ejecución del código, durante la compilación, y \n",
    "el resultado se calcularía de manera más eficiente.\n",
    "\n",
    "\n",
    "## Ufuncs\n",
    "\n",
    "Para muchas operaciones numéricas, numpy ya proporciona\n",
    "rutinas precompiladas para los diferentes tipos numéricos.\n",
    "Esto es lo que se conoce como operación vectorizada.\n",
    "\n",
    "Normalmente se accede a las operaciones vectorizas operando\n",
    "directamente sobre los arrays en lugar de sus elementos."
   ]
  },
  {
   "cell_type": "code",
   "execution_count": 3,
   "id": "regional-pattern",
   "metadata": {},
   "outputs": [
    {
     "name": "stdout",
     "output_type": "stream",
     "text": [
      "[0.02777778 1.         0.015625   1.         0.25      ]\n",
      "[0.02777778 1.         0.015625   1.         0.25      ]\n"
     ]
    }
   ],
   "source": [
    "print(calcular_inv_cuad(val))\n",
    "print(1 / val**2)"
   ]
  },
  {
   "cell_type": "markdown",
   "id": "apart-alexander",
   "metadata": {},
   "source": [
    "Y la segunda operación se ejecuta órdenes de magnitud más raṕido:"
   ]
  },
  {
   "cell_type": "code",
   "execution_count": 4,
   "id": "acute-portable",
   "metadata": {},
   "outputs": [
    {
     "name": "stdout",
     "output_type": "stream",
     "text": [
      "2.7 µs ± 103 ns per loop (mean ± std. dev. of 7 runs, 100000 loops each)\n"
     ]
    }
   ],
   "source": [
    "%timeit 1 / val**2"
   ]
  },
  {
   "cell_type": "markdown",
   "id": "brazilian-special",
   "metadata": {},
   "source": [
    "Internamente, numpy tiene construidas subrutinas para las diferentes\n",
    "operaciones, tanto unarias como binarias. Cuando realizamos operaciones\n",
    "entre arrays o entre arrays y números, numpy se encarga de llamar a \n",
    "la rutina adecuada.\n",
    "\n",
    "En general, numpy tiene versiones ufunc de todas las funciones matemáticas\n",
    "en el módulo `math`, además de todos los operadores aritméticos.\n",
    "\n",
    "Puede encontrarse la lista completa en la [documentación de numpy](https://numpy.org/doc/stable/reference/ufuncs.html#available-ufuncs).\n",
    "\n",
    "En general, los operadores aritméticos pueden llamerse de dos maneras:\n",
    "la obvia (+ para la suma, * para el producto) y mediante una función.\n",
    "Por ejemplo, para sumar dos arrays, numpy llama a la función `np.add`.\n",
    "\n",
    "De manera que `a + b` es equivalente a `np.add(a, b), siempre\n",
    "que `a` o `b` sean un array o un tipo numérico de Python.\n",
    "\n",
    "A parte de las funciones en numpy, el paquete `scipy` también proporciona\n",
    "funciones especiales como ufuncs en el módulo `scipy.special`. \n",
    "\n",
    "Por ejemplo, valores de la función de Bessel de primera especie y orden cero."
   ]
  },
  {
   "cell_type": "code",
   "execution_count": 5,
   "id": "human-terrace",
   "metadata": {},
   "outputs": [
    {
     "name": "stdout",
     "output_type": "stream",
     "text": [
      "[0.97762625 0.71962202 0.2930956 ]\n"
     ]
    }
   ],
   "source": [
    "import scipy.special\n",
    "xx = [0.3, 1.1, 6.8]\n",
    "print(scipy.special.j0(xx))"
   ]
  },
  {
   "cell_type": "markdown",
   "id": "twenty-amplifier",
   "metadata": {},
   "source": [
    "Siempre conviene comprobar la definición exacta de la función que queremos\n",
    "usar en la documentación de numpy o scipy, ya que pueden existir distintas \n",
    "convenciones.\n",
    "\n",
    "## Uso avanzado\n",
    "Los ufuncs de numpy tienen un interfaz uniforme y no solo son funciones, \n",
    "también proporcionan métodos especializados.\n",
    "\n",
    "\n",
    "### Array de salida\n",
    "Todos los ufunc tienen un argumento `out` que sirve para definir\n",
    "el array de salida. Esto puede ser conveniente si se está trabajando con\n",
    "arrays muy grandes, ya que esta operación ahorra la creación de un array\n",
    "temporal y una copia."
   ]
  },
  {
   "cell_type": "code",
   "execution_count": 6,
   "id": "arctic-hungarian",
   "metadata": {},
   "outputs": [
    {
     "name": "stdout",
     "output_type": "stream",
     "text": [
      "[-5.         -3.88888889 -2.77777778 -1.66666667 -0.55555556  0.55555556\n",
      "  1.66666667  2.77777778  3.88888889  5.        ]\n"
     ]
    }
   ],
   "source": [
    "arr = np.linspace(-1, 1, 10)\n",
    "res = np.empty_like(arr)\n",
    "np.multiply(arr, 5, out=res)\n",
    "print(res)"
   ]
  },
  {
   "cell_type": "markdown",
   "id": "diverse-window",
   "metadata": {},
   "source": [
    "Mientras que la operación equivalente"
   ]
  },
  {
   "cell_type": "code",
   "execution_count": 7,
   "id": "verbal-observer",
   "metadata": {},
   "outputs": [
    {
     "name": "stdout",
     "output_type": "stream",
     "text": [
      "[-5.         -3.88888889 -2.77777778 -1.66666667 -0.55555556  0.55555556\n",
      "  1.66666667  2.77777778  3.88888889  5.        ]\n"
     ]
    }
   ],
   "source": [
    "res = arr * 5\n",
    "print(res)"
   ]
  },
  {
   "cell_type": "markdown",
   "id": "about-enough",
   "metadata": {},
   "source": [
    "crea un array temporal para contener el resultado de `arr * 5`\n",
    "y a continuación lo copia en `res`.\n",
    "\n",
    "Para arrays pequeños la diferencia es insignificante, pero\n",
    "el ahorro en memoria puede ser significativo para arrays grandes.\n",
    "\n",
    "### Agregación\n",
    "Los ufuncs binarios proporcionan funciones de agregación que pueden ser de \n",
    "utilidad en algunos casos. El método `reduce` convierte un array \n",
    "en un número aplicando la función repetidamente sobre sus miembros, mientras\n",
    "que el método `accumulate` guarda los resultados intermedios."
   ]
  },
  {
   "cell_type": "code",
   "execution_count": 8,
   "id": "minute-release",
   "metadata": {},
   "outputs": [
    {
     "data": {
      "text/plain": [
       "45"
      ]
     },
     "execution_count": 8,
     "metadata": {},
     "output_type": "execute_result"
    }
   ],
   "source": [
    "xx = np.arange(10)\n",
    "np.add.reduce(xx)"
   ]
  },
  {
   "cell_type": "code",
   "execution_count": 9,
   "id": "authorized-apartment",
   "metadata": {},
   "outputs": [
    {
     "data": {
      "text/plain": [
       "array([ 0,  1,  3,  6, 10, 15, 21, 28, 36, 45])"
      ]
     },
     "execution_count": 9,
     "metadata": {},
     "output_type": "execute_result"
    }
   ],
   "source": [
    "xx = np.arange(10)\n",
    "np.add.accumulate(xx)"
   ]
  },
  {
   "cell_type": "markdown",
   "id": "sporting-management",
   "metadata": {},
   "source": [
    "Para el caso de la suma y el producto, ya existen funciones específicas\n",
    "para reducción y acumulación: `np.sum`, `np.prod`, `np.cumsum`, `np.cumprod`\n",
    "\n",
    "Hay que tener cuidado y asegurarse de que el tipo del array es capaz\n",
    "de contener los resultados de la acumulación. Sino es así hay que\n",
    "añadir un argumento `dtype` para definir el tipo de salida."
   ]
  },
  {
   "cell_type": "code",
   "execution_count": 10,
   "id": "commercial-potato",
   "metadata": {},
   "outputs": [
    {
     "name": "stdout",
     "output_type": "stream",
     "text": [
      "[200 400]\n",
      "[200 400]\n"
     ]
    }
   ],
   "source": [
    "xx = 200 * np.ones(2, dtype='uint8')\n",
    "print(np.add.accumulate(xx))\n",
    "print(np.add.accumulate(xx, dtype='uint16'))"
   ]
  },
  {
   "cell_type": "markdown",
   "id": "acting-drain",
   "metadata": {},
   "source": [
    "### Producto externo\n",
    "Con un ufunc también se puede calcular una operación para todas las \n",
    "posibles parejas de datos usando `outer`"
   ]
  },
  {
   "cell_type": "code",
   "execution_count": 11,
   "id": "miniature-programmer",
   "metadata": {},
   "outputs": [
    {
     "data": {
      "text/plain": [
       "array([[0.        , 0.        , 0.        ],\n",
       "       [1.57079633, 0.46364761, 0.24497866],\n",
       "       [1.57079633, 0.78539816, 0.46364761]])"
      ]
     },
     "execution_count": 11,
     "metadata": {},
     "output_type": "execute_result"
    }
   ],
   "source": [
    "xx = np.linspace(0, 1, 3)\n",
    "yy = np.linspace(0, 2, 3)\n",
    "np.arctan2.outer(xx, yy)"
   ]
  },
  {
   "cell_type": "markdown",
   "id": "inside-platform",
   "metadata": {},
   "source": [
    "### Otros métodos de ufunc\n",
    "\n",
    "Los objetos ufunc tiene otros atributos y métodos como `reduceat` y `at`.\n",
    "Además, la función ufunc puede tener otros argumentos además de `out`,\n",
    "como por ejemplo `where`, `axis`, `order` o `keepdims`. \n",
    "El soporte de cada argumento depende de la versión de numpy y es\n",
    "conveniente comprobar la [documentación](https://numpy.org/doc/stable/reference/ufuncs.html#overriding-ufunc-behavior)."
   ]
  }
 ],
 "metadata": {
  "jupytext": {
   "formats": "md:myst",
   "text_representation": {
    "extension": ".md",
    "format_name": "myst"
   }
  },
  "kernelspec": {
   "display_name": "Python 3",
   "language": "python",
   "name": "python3"
  },
  "language_info": {
   "codemirror_mode": {
    "name": "ipython",
    "version": 3
   },
   "file_extension": ".py",
   "mimetype": "text/x-python",
   "name": "python",
   "nbconvert_exporter": "python",
   "pygments_lexer": "ipython3",
   "version": "3.8.7"
  },
  "source_map": [
   11,
   39,
   50,
   57,
   60,
   86,
   90,
   93,
   95,
   118,
   122,
   140,
   145,
   148,
   151,
   164,
   169,
   172,
   181,
   185,
   191,
   195
  ]
 },
 "nbformat": 4,
 "nbformat_minor": 5
}