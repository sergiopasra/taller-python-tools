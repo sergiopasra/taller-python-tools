{
 "cells": [
  {
   "cell_type": "markdown",
   "id": "supported-bryan",
   "metadata": {},
   "source": [
    "# Tipos de datos\n",
    "\n",
    "¿Por qué es necesario tener un paquete específico para arreglos de datos\n",
    "en Python? ¿Por qué no usar listas y listas de listas directamente?\n",
    "\n",
    "Para comprender esto es necesario entender cómo funciona el sistema\n",
    "de tipos dinámicos de Python.\n",
    "\n",
    "Supongamos que queremos obtener una suma parcial de la serie armónica.\n",
    "En Python podría ponerse como:\n",
    "\n",
    "```python\n",
    "res = 0\n",
    "for i in range(1, 101):\n",
    "    res += 1.0 / i\n",
    "```\n",
    "\n",
    "Mientras que en C sería:\n",
    "\n",
    "```c\n",
    "int i = 0;\n",
    "double res = 0;\n",
    "for(i=0; i <= 100; ++i) \n",
    "    res += 1.0 / i\n",
    "```\n",
    "\n",
    "C requiere declarar el tipo de los datos, mientras que en Python,\n",
    "los tipos de los datos **se infieren** durante la ejecución.\n",
    "\n",
    "La flexibilidad que aporta no tener que declara el tipo de la variable\n",
    "hace a Python (y otros lenguajes dinámicos) fácil de usar.\n",
    "Sin embargo, esta flexibilidad implica que las variables en Python no\n",
    "son simplemente números o cadenas almmacendas en memoria. \n",
    "\n",
    "Un número en Python, `a = 1` no representa un número almacenado un memoria,\n",
    "sino una estructura en C que contiene el tipo de datos, el tamaño en memoria \n",
    "que se está utilizando, un contador del número de referencias existen a esta\n",
    "variable. Solo después de toda esta información aparece el valor numérico.\n",
    "\n",
    "Por usar tipos dinámicos, Python tiene un costo adicional en el acceso \n",
    "a los tipos de datos más sencillos.\n",
    "\n",
    "## Uso de listas\n",
    "\n",
    "Consideremos el uso del contenedor de acceso aleatorio estándar de Python,\n",
    "la lista. Es fácil crear listas homogéneas:"
   ]
  },
  {
   "cell_type": "code",
   "execution_count": 1,
   "id": "dynamic-coaching",
   "metadata": {},
   "outputs": [],
   "source": [
    "lista1 = list(range(10))"
   ]
  },
  {
   "cell_type": "markdown",
   "id": "academic-morris",
   "metadata": {},
   "source": [
    "Y heterogéneas:"
   ]
  },
  {
   "cell_type": "code",
   "execution_count": 2,
   "id": "tamil-siemens",
   "metadata": {},
   "outputs": [
    {
     "data": {
      "text/plain": [
       "[float, int, str, bool]"
      ]
     },
     "execution_count": 2,
     "metadata": {},
     "output_type": "execute_result"
    }
   ],
   "source": [
    "lista2 = [3.4, 1, \"8\", True]\n",
    "[type(item) for item in lista2]"
   ]
  },
  {
   "cell_type": "markdown",
   "id": "iraqi-character",
   "metadata": {},
   "source": [
    "Como hemos visto, cada elemento de la lista contiene no solo su valor\n",
    "sino también su tipo, el número de referencias en memoria y más información.\n",
    "Si queremos trabajar con arreglos de datos homogéneos, mucha \n",
    "de esta información es redundante. Sería más eficiente tener un tipo\n",
    "específico para almacenar *datos homogéneos contiguos-en-memoria*.\n",
    "\n",
    "Mientras que este tipo de dato contendría un puntero a un bloque contiguo\n",
    "en memoria, una lista de Python contiene un puntero a un bloque de punteros\n",
    "a objetos de Python.\n",
    "\n",
    "## Arrays nativos de Python\n",
    "\n",
    "La biblioteca estándar de Python contiene un módulo para almacenar\n",
    "datos de tipo fijo llamado `array`."
   ]
  },
  {
   "cell_type": "code",
   "execution_count": 3,
   "id": "hourly-original",
   "metadata": {},
   "outputs": [
    {
     "data": {
      "text/plain": [
       "array('i', [0, 1, 2, 3, 4, 5, 6, 7, 8, 9])"
      ]
     },
     "execution_count": 3,
     "metadata": {},
     "output_type": "execute_result"
    }
   ],
   "source": [
    "import array\n",
    "arr = array.array('i', lista1)\n",
    "arr"
   ]
  },
  {
   "cell_type": "markdown",
   "id": "surprising-quality",
   "metadata": {},
   "source": [
    "Donde `i` indica que almacenamos datos de tipo entero.\n",
    "\n",
    "Aunque este tipo de dato es nativo, es decir, está en la librería estándar\n",
    "de Python, su uso no es muy habitual porque el módulo `array` no soporta\n",
    "datos multidimensionales ni proporciona funciones específicas para operar\n",
    "sobre objetos `array`.\n",
    "\n",
    "Por otro lado, el paquete `numpy` proporciona objetos `ndarray` y operaciones\n",
    "muy eficientes sobre ellos. Veremos las operaciones en las siguientes secciones.\n",
    "Aquí exploraremos diferentes formas de crear objetos `ndarray`.\n",
    "\n",
    "## Creación de objetos de numpy\n",
    "\n",
    "Se puede crear un array a partir de listas:"
   ]
  },
  {
   "cell_type": "code",
   "execution_count": 4,
   "id": "functional-vessel",
   "metadata": {},
   "outputs": [
    {
     "data": {
      "text/plain": [
       "array([1, 0, 4, 6, 2])"
      ]
     },
     "execution_count": 4,
     "metadata": {},
     "output_type": "execute_result"
    }
   ],
   "source": [
    "import numpy as np\n",
    "# array de enteros\n",
    "np.array([1, 0, 4, 6, 2])"
   ]
  },
  {
   "cell_type": "markdown",
   "id": "physical-velvet",
   "metadata": {},
   "source": [
    "Los tipos de datos tiene que ser homogéneos, así que cuando los datos\n",
    "de la lista son diferentes, se intenta llevar a cabo una conversión al \n",
    "tipo de dato superior:"
   ]
  },
  {
   "cell_type": "code",
   "execution_count": 5,
   "id": "seasonal-filename",
   "metadata": {},
   "outputs": [
    {
     "data": {
      "text/plain": [
       "array([1., 0., 4., 6., 2.])"
      ]
     },
     "execution_count": 5,
     "metadata": {},
     "output_type": "execute_result"
    }
   ],
   "source": [
    "# array de enteros\n",
    "np.array([1, 0, 4.0, 6, 2])"
   ]
  },
  {
   "cell_type": "markdown",
   "id": "decimal-mentor",
   "metadata": {},
   "source": [
    "Aquí el array es de coma flotante.\n",
    "\n",
    "\n",
    "También es posible especificar el tipo de dato, usando `dtype`."
   ]
  },
  {
   "cell_type": "code",
   "execution_count": 6,
   "id": "distributed-muslim",
   "metadata": {},
   "outputs": [
    {
     "data": {
      "text/plain": [
       "array([1., 0., 4., 6., 2.], dtype=float32)"
      ]
     },
     "execution_count": 6,
     "metadata": {},
     "output_type": "execute_result"
    }
   ],
   "source": [
    "# array de enteros\n",
    "np.array([1, 0, 4, 6, 2], dtype='float32')"
   ]
  },
  {
   "cell_type": "markdown",
   "id": "loose-brief",
   "metadata": {},
   "source": [
    "Los arrays de numpy son multidimensionales de manera nativa, así que\n",
    "las listas anidadas se pueden usar para inicializar arrays"
   ]
  },
  {
   "cell_type": "code",
   "execution_count": 7,
   "id": "incorrect-aviation",
   "metadata": {},
   "outputs": [
    {
     "data": {
      "text/plain": [
       "array([[1, 0],\n",
       "       [2, 3],\n",
       "       [5, 6]])"
      ]
     },
     "execution_count": 7,
     "metadata": {},
     "output_type": "execute_result"
    }
   ],
   "source": [
    "# array bidimensional\n",
    "np.array([[1, 0], [2, 3], [5, 6]])"
   ]
  },
  {
   "cell_type": "markdown",
   "id": "returning-wellington",
   "metadata": {},
   "source": [
    "En general las listas más internas se usan como filas.\n",
    "\n",
    "## Creación de arrays desde cero\n",
    "\n",
    "Se pueden crear arrays inicializados sin necesidad de generar primero una lista."
   ]
  },
  {
   "cell_type": "code",
   "execution_count": 8,
   "id": "incomplete-native",
   "metadata": {},
   "outputs": [
    {
     "data": {
      "text/plain": [
       "array([0, 0, 0, 0, 0, 0, 0, 0, 0, 0, 0, 0])"
      ]
     },
     "execution_count": 8,
     "metadata": {},
     "output_type": "execute_result"
    }
   ],
   "source": [
    "# array de ceros 1D\n",
    "np.zeros(12, dtype=int)"
   ]
  },
  {
   "cell_type": "code",
   "execution_count": 9,
   "id": "legitimate-alaska",
   "metadata": {},
   "outputs": [
    {
     "data": {
      "text/plain": [
       "array([[1., 1., 1., 1.],\n",
       "       [1., 1., 1., 1.],\n",
       "       [1., 1., 1., 1.]])"
      ]
     },
     "execution_count": 9,
     "metadata": {},
     "output_type": "execute_result"
    }
   ],
   "source": [
    "# array de unos 2D\n",
    "np.ones(shape=(3, 4), dtype=float)"
   ]
  },
  {
   "cell_type": "markdown",
   "id": "removed-adaptation",
   "metadata": {},
   "source": [
    "También puede inicializarse a un cierto valor (o valores)"
   ]
  },
  {
   "cell_type": "code",
   "execution_count": 10,
   "id": "extra-nicholas",
   "metadata": {},
   "outputs": [
    {
     "data": {
      "text/plain": [
       "array([[3.4, 3.4],\n",
       "       [3.4, 3.4]])"
      ]
     },
     "execution_count": 10,
     "metadata": {},
     "output_type": "execute_result"
    }
   ],
   "source": [
    "# array 2D\n",
    "np.full((2, 2), 3.4)"
   ]
  },
  {
   "cell_type": "markdown",
   "id": "military-knife",
   "metadata": {},
   "source": [
    "O inicializarse sin especificar a qué, con lo que el array usa valores\n",
    "presentes en la memoria:"
   ]
  },
  {
   "cell_type": "code",
   "execution_count": 11,
   "id": "widespread-breach",
   "metadata": {},
   "outputs": [
    {
     "data": {
      "text/plain": [
       "array([[1., 1., 1.],\n",
       "       [1., 1., 1.],\n",
       "       [1., 1., 1.],\n",
       "       [1., 1., 1.]])"
      ]
     },
     "execution_count": 11,
     "metadata": {},
     "output_type": "execute_result"
    }
   ],
   "source": [
    "# array 1D\n",
    "np.empty((4, 3))"
   ]
  },
  {
   "cell_type": "markdown",
   "id": "frozen-hobby",
   "metadata": {},
   "source": [
    "También existen versiones de estas funciones que utilizan el tamaño de otro\n",
    "array existente: `zeros_like`, `ones_like`, `empty_like`, `full_like`:"
   ]
  },
  {
   "cell_type": "code",
   "execution_count": 12,
   "id": "existing-orange",
   "metadata": {},
   "outputs": [
    {
     "data": {
      "text/plain": [
       "array([[0., 0.],\n",
       "       [0., 0.]])"
      ]
     },
     "execution_count": 12,
     "metadata": {},
     "output_type": "execute_result"
    }
   ],
   "source": [
    "# array 2D\n",
    "arr = np.full((2, 2), 3.4)\n",
    "arr2 = np.zeros_like(arr)\n",
    "arr2"
   ]
  },
  {
   "cell_type": "markdown",
   "id": "discrete-composer",
   "metadata": {},
   "source": [
    "Existen dos funciones muy utilizadas para generar arrays como secuencias: \n",
    "`arange` y `linspace'"
   ]
  },
  {
   "cell_type": "code",
   "execution_count": 13,
   "id": "expensive-formation",
   "metadata": {},
   "outputs": [
    {
     "data": {
      "text/plain": [
       "array([ 0,  2,  4,  6,  8, 10])"
      ]
     },
     "execution_count": 13,
     "metadata": {},
     "output_type": "execute_result"
    }
   ],
   "source": [
    "# Similar a range, pero creando un array\n",
    "np.arange(0, 12, 2)"
   ]
  },
  {
   "cell_type": "code",
   "execution_count": 14,
   "id": "pending-polyester",
   "metadata": {},
   "outputs": [
    {
     "data": {
      "text/plain": [
       "array([0.        , 0.11111111, 0.22222222, 0.33333333, 0.44444444,\n",
       "       0.55555556, 0.66666667, 0.77777778, 0.88888889, 1.        ])"
      ]
     },
     "execution_count": 14,
     "metadata": {},
     "output_type": "execute_result"
    }
   ],
   "source": [
    "# 10 puntos equiespaciados entre 0 y 1\n",
    "np.linspace(0, 1, 10)"
   ]
  },
  {
   "cell_type": "markdown",
   "id": "personal-chest",
   "metadata": {},
   "source": [
    "Numpy tiene soporte básico para [números aleatorios](https://numpy.org/doc/stable/reference/random/index.html?highlight=random#module-numpy.random).\n",
    "\n",
    "Podemos generar números según una distribución normal."
   ]
  },
  {
   "cell_type": "code",
   "execution_count": 15,
   "id": "lovely-winning",
   "metadata": {},
   "outputs": [
    {
     "data": {
      "text/plain": [
       "array([[1.84440836, 1.47166446, 0.81162726],\n",
       "       [1.09135537, 2.47116768, 3.68831098],\n",
       "       [3.94634232, 1.77988392, 4.3578609 ]])"
      ]
     },
     "execution_count": 15,
     "metadata": {},
     "output_type": "execute_result"
    }
   ],
   "source": [
    "# 9 puntos aleatorios con media 2.5 y desviación típica 2\n",
    "np.random.normal(2.5, 2, (3, 3))"
   ]
  },
  {
   "cell_type": "markdown",
   "id": "assisted-little",
   "metadata": {},
   "source": [
    "Numpy contiene una [buena lista de distribuciones](https://numpy.org/doc/stable/reference/random/generator.html#distributions). Hay más todavía en el \n",
    "paquete [`scipy`](https://docs.scipy.org/doc/scipy/reference/stats.html).\n",
    "\n",
    "## Tipos de datos de numpy\n",
    "\n",
    "Los arrays de numpy tiene la propiedad de que solo contienen un tipo de dato.\n",
    "Estos, asu vez, están basados en los tipos de C. \n",
    "\n",
    "Se puede consultar la lista completa de `dtype` en la \n",
    "[documentación de numpy](https://numpy.org/doc/stable/reference/arrays.dtypes.html). \n",
    "\n",
    "Podemos mencionar los tipos enteros, con y sin signo y de diferente \n",
    "tamaño (uint32, int64), coma flotante (float32, float64), complejos y booleanos (bool).\n",
    "\n",
    "Los valores `dtype` pueden especificar datos más complejos, por ejemple\n",
    "el valor de `endianness` de los tipos.\n",
    "\n",
    "Finalemnte, numpy también soporta los tipos de datos compuestos, que se utilizan\n",
    "en los arrays estructurados."
   ]
  }
 ],
 "metadata": {
  "jupytext": {
   "formats": "md:myst",
   "text_representation": {
    "extension": ".md",
    "format_name": "myst"
   }
  },
  "kernelspec": {
   "display_name": "Python 3",
   "language": "python",
   "name": "python3"
  },
  "language_info": {
   "codemirror_mode": {
    "name": "ipython",
    "version": 3
   },
   "file_extension": ".py",
   "mimetype": "text/x-python",
   "name": "python",
   "nbconvert_exporter": "python",
   "pygments_lexer": "ipython3",
   "version": "3.8.7"
  },
  "source_map": [
   11,
   60,
   62,
   67,
   70,
   87,
   91,
   108,
   112,
   119,
   122,
   129,
   132,
   139,
   142,
   149,
   154,
   157,
   160,
   163,
   169,
   172,
   178,
   183,
   188,
   193,
   196,
   201,
   204
  ]
 },
 "nbformat": 4,
 "nbformat_minor": 5
}