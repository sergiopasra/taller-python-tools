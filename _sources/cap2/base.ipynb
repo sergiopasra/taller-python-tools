{
 "cells": [
  {
   "cell_type": "markdown",
   "id": "interstate-great",
   "metadata": {},
   "source": [
    "# Estructura de un `ndarray`\n",
    "\n",
    "Es interesante conocer a grandes rasgos cómo se orgniza la estructura interna de un objeto ndarray\n",
    "\n",
    "El objeto contiene básicamente un buffer con datos en la memoria, más la información\n",
    "sobre cómo interpretar el contenido de la memoria más la inforamción sore cómo moverse dentro de la \n",
    "memoria asignada.\n",
    "\n",
    "A parte de estos atributos podemos acceder desde Python (aunque rara vez es necesario)"
   ]
  },
  {
   "cell_type": "code",
   "execution_count": 1,
   "id": "experimental-usage",
   "metadata": {},
   "outputs": [
    {
     "name": "stdout",
     "output_type": "stream",
     "text": [
      "<memory at 0x7f0a41a32c40>\n"
     ]
    },
    {
     "data": {
      "text/plain": [
       "b'\\x03\\x00\\x00\\x00\\x00\\x00\\x00\\x00\\x06\\x00\\x00\\x00\\x00\\x00\\x00\\x00\\xff\\xff\\xff\\xff\\xff\\xff\\xff\\xff'"
      ]
     },
     "execution_count": 1,
     "metadata": {},
     "output_type": "execute_result"
    }
   ],
   "source": [
    "import numpy as np\n",
    "x = np.array([3, 6, -1])\n",
    "print(x.data)\n",
    "bytes(x.data)"
   ]
  },
  {
   "cell_type": "markdown",
   "id": "upset-borough",
   "metadata": {},
   "source": [
    "Podemos ver una representación en Python de la estrcutura interna accediendo a `__array_interface__`"
   ]
  },
  {
   "cell_type": "code",
   "execution_count": 2,
   "id": "changed-master",
   "metadata": {},
   "outputs": [
    {
     "data": {
      "text/plain": [
       "{'data': (94252365732992, False),\n",
       " 'strides': None,\n",
       " 'descr': [('', '<i8')],\n",
       " 'typestr': '<i8',\n",
       " 'shape': (3,),\n",
       " 'version': 3}"
      ]
     },
     "execution_count": 2,
     "metadata": {},
     "output_type": "execute_result"
    }
   ],
   "source": [
    "x.__array_interface__"
   ]
  },
  {
   "cell_type": "markdown",
   "id": "hybrid-finland",
   "metadata": {},
   "source": [
    "Esta estructura contiene la información necesaria para interpretar el fragmento de memoria\n",
    "del array. En `typestr` tenemos la información necesaria para interpretar los datos\n",
    "y `stride` indica cuánto hay que desplazarse para acceder al siguiente elemento. `None`\n",
    "indica un array de C contiguo en memoria.\n",
    "\n",
    "Los datos del array pueden ser compartirdos por diversos objetos o incluso estar definido\n",
    "de manera externa, por ejemplo"
   ]
  },
  {
   "cell_type": "code",
   "execution_count": 3,
   "id": "under-equipment",
   "metadata": {},
   "outputs": [
    {
     "data": {
      "text/plain": [
       "True"
      ]
     },
     "execution_count": 3,
     "metadata": {},
     "output_type": "execute_result"
    }
   ],
   "source": [
    "# Bytes\n",
    "bf = b'1234'\n",
    "y = np.frombuffer(bf, dtype=np.int8)\n",
    "y.base is bf"
   ]
  },
  {
   "cell_type": "markdown",
   "id": "documented-traveler",
   "metadata": {},
   "source": [
    "También hay información en el atributo `flags`"
   ]
  },
  {
   "cell_type": "code",
   "execution_count": 4,
   "id": "federal-association",
   "metadata": {},
   "outputs": [
    {
     "data": {
      "text/plain": [
       "  C_CONTIGUOUS : True\n",
       "  F_CONTIGUOUS : True\n",
       "  OWNDATA : False\n",
       "  WRITEABLE : False\n",
       "  ALIGNED : True\n",
       "  WRITEBACKIFCOPY : False\n",
       "  UPDATEIFCOPY : False"
      ]
     },
     "execution_count": 4,
     "metadata": {},
     "output_type": "execute_result"
    }
   ],
   "source": [
    "y.flags"
   ]
  },
  {
   "cell_type": "markdown",
   "id": "knowing-madness",
   "metadata": {},
   "source": [
    "La estructura nos indica que los datos no pertenecen al array\n",
    "\n",
    "Otro ejemplo, con una sección:"
   ]
  },
  {
   "cell_type": "code",
   "execution_count": 5,
   "id": "worse-testament",
   "metadata": {},
   "outputs": [
    {
     "data": {
      "text/plain": [
       "  C_CONTIGUOUS : False\n",
       "  F_CONTIGUOUS : False\n",
       "  OWNDATA : False\n",
       "  WRITEABLE : True\n",
       "  ALIGNED : True\n",
       "  WRITEBACKIFCOPY : False\n",
       "  UPDATEIFCOPY : False"
      ]
     },
     "execution_count": 5,
     "metadata": {},
     "output_type": "execute_result"
    }
   ],
   "source": [
    "x = np.ones((4,4))\n",
    "y = x[1:3,0:2]\n",
    "y.flags"
   ]
  },
  {
   "cell_type": "markdown",
   "id": "lesbian-dallas",
   "metadata": {},
   "source": [
    "Aquí tenemos que los datos no pertenecen a `y`, pero que podemos escribir en `y` (`WRITEABLE : True`)\n",
    " los cambios de `y` se propagan a `x`."
   ]
  }
 ],
 "metadata": {
  "jupytext": {
   "formats": "md:myst",
   "text_representation": {
    "extension": ".md",
    "format_name": "myst"
   }
  },
  "kernelspec": {
   "display_name": "Python 3",
   "language": "python",
   "name": "python3"
  },
  "language_info": {
   "codemirror_mode": {
    "name": "ipython",
    "version": 3
   },
   "file_extension": ".py",
   "mimetype": "text/x-python",
   "name": "python",
   "nbconvert_exporter": "python",
   "pygments_lexer": "ipython3",
   "version": "3.8.7"
  },
  "source_map": [
   11,
   24,
   29,
   34,
   36,
   46,
   51,
   56,
   58,
   63,
   67
  ]
 },
 "nbformat": 4,
 "nbformat_minor": 5
}