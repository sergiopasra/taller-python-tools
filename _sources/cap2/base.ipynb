{
 "cells": [
  {
   "cell_type": "markdown",
   "id": "legal-cliff",
   "metadata": {},
   "source": [
    "# Estructura de un `ndarray`\n",
    "\n",
    "Es interesante conocer a grandes rasgos cómo se orgniza la estructura interna de un objeto ndarray\n",
    "\n",
    "El objeto contiene básicamente un buffer con datos en la memoria, más la información\n",
    "sobre cómo interpretar el contenido de la memoria más la inforamción sore cómo moverse dentro de la \n",
    "memoria asignada.\n",
    "\n",
    "A parte de estos atributos podemos acceder desde Python (aunque rara vez es necesario)"
   ]
  },
  {
   "cell_type": "code",
   "execution_count": 1,
   "id": "republican-equipment",
   "metadata": {},
   "outputs": [
    {
     "name": "stdout",
     "output_type": "stream",
     "text": [
      "<memory at 0x7f0042dbcf40>\n"
     ]
    },
    {
     "data": {
      "text/plain": [
       "b'\\x03\\x00\\x00\\x00\\x00\\x00\\x00\\x00\\x06\\x00\\x00\\x00\\x00\\x00\\x00\\x00\\xff\\xff\\xff\\xff\\xff\\xff\\xff\\xff'"
      ]
     },
     "execution_count": 1,
     "metadata": {},
     "output_type": "execute_result"
    }
   ],
   "source": [
    "import numpy as np\n",
    "x = np.array([3, 6, -1])\n",
    "print(x.data)\n",
    "bytes(x.data)"
   ]
  },
  {
   "cell_type": "markdown",
   "id": "absent-plaintiff",
   "metadata": {},
   "source": [
    "Podemos ver una representación en Python de la estrcutura interna accediendo a `__array_interface__`"
   ]
  },
  {
   "cell_type": "code",
   "execution_count": 2,
   "id": "rising-majority",
   "metadata": {},
   "outputs": [
    {
     "data": {
      "text/plain": [
       "{'data': (94119666217408, False),\n",
       " 'strides': None,\n",
       " 'descr': [('', '<i8')],\n",
       " 'typestr': '<i8',\n",
       " 'shape': (3,),\n",
       " 'version': 3}"
      ]
     },
     "execution_count": 2,
     "metadata": {},
     "output_type": "execute_result"
    }
   ],
   "source": [
    "x.__array_interface__"
   ]
  },
  {
   "cell_type": "markdown",
   "id": "mobile-authorization",
   "metadata": {},
   "source": [
    "Esta estructura contiene la información necesaria para interpretar el fragmento de memoria\n",
    "del array. En `typestr` tenemos la información necesaria para interpretar los datos\n",
    "y `stride` indica cuánto hay que desplazarse para acceder al siguiente elemento. `None`\n",
    "indica un array de C contiguo en memoria.\n",
    "\n",
    "Los datos del array pueden ser compartidos por diversos objetos o incluso estar definido\n",
    "de manera externa, por ejemplo"
   ]
  },
  {
   "cell_type": "code",
   "execution_count": 3,
   "id": "offshore-morris",
   "metadata": {},
   "outputs": [
    {
     "data": {
      "text/plain": [
       "True"
      ]
     },
     "execution_count": 3,
     "metadata": {},
     "output_type": "execute_result"
    }
   ],
   "source": [
    "# Bytes\n",
    "bf = b'1234'\n",
    "y = np.frombuffer(bf, dtype=np.int8)\n",
    "y.base is bf"
   ]
  },
  {
   "cell_type": "markdown",
   "id": "above-actor",
   "metadata": {},
   "source": [
    "También hay información en el atributo `flags`"
   ]
  },
  {
   "cell_type": "code",
   "execution_count": 4,
   "id": "formal-freight",
   "metadata": {},
   "outputs": [
    {
     "data": {
      "text/plain": [
       "  C_CONTIGUOUS : True\n",
       "  F_CONTIGUOUS : True\n",
       "  OWNDATA : False\n",
       "  WRITEABLE : False\n",
       "  ALIGNED : True\n",
       "  WRITEBACKIFCOPY : False\n",
       "  UPDATEIFCOPY : False"
      ]
     },
     "execution_count": 4,
     "metadata": {},
     "output_type": "execute_result"
    }
   ],
   "source": [
    "y.flags"
   ]
  },
  {
   "cell_type": "markdown",
   "id": "dried-festival",
   "metadata": {},
   "source": [
    "La estructura nos indica que los datos no pertenecen al array\n",
    "\n",
    "Otro ejemplo, con una sección:"
   ]
  },
  {
   "cell_type": "code",
   "execution_count": 5,
   "id": "judicial-binary",
   "metadata": {},
   "outputs": [
    {
     "data": {
      "text/plain": [
       "  C_CONTIGUOUS : False\n",
       "  F_CONTIGUOUS : False\n",
       "  OWNDATA : False\n",
       "  WRITEABLE : True\n",
       "  ALIGNED : True\n",
       "  WRITEBACKIFCOPY : False\n",
       "  UPDATEIFCOPY : False"
      ]
     },
     "execution_count": 5,
     "metadata": {},
     "output_type": "execute_result"
    }
   ],
   "source": [
    "x = np.ones((4,4))\n",
    "y = x[1:3,0:2]\n",
    "y.flags"
   ]
  },
  {
   "cell_type": "markdown",
   "id": "italian-celtic",
   "metadata": {},
   "source": [
    "Aquí tenemos que los datos no pertenecen a `y` (OWNDATA : False), \n",
    "pero que podemos \n",
    "escribir en la variable `y` (`WRITEABLE : True`); además \n",
    " los cambios de `y` se propagan a `x`.\n",
    "\n",
    "## Atributos y métodos del array\n",
    "\n",
    "Hemos visto algunos atributos, aunque en las manipulaciones normales rara\n",
    "vez se usan. Veremos ahora atributos más interesantes. Para ello definimos\n",
    "un array de tres dimensiones. Los tres primeros atributos son el ńumero\n",
    "de dimensiones `ndim`, la forma `shape` y el tamaño (número de elementos) `size`."
   ]
  },
  {
   "cell_type": "code",
   "execution_count": 6,
   "id": "integral-american",
   "metadata": {},
   "outputs": [
    {
     "name": "stdout",
     "output_type": "stream",
     "text": [
      "x3.ndim= 3\n",
      "x3.shape= (3, 4, 5)\n",
      "x3.size= 60\n"
     ]
    }
   ],
   "source": [
    "x3 = np.ones((3, 4, 5))\n",
    "print('x3.ndim=', x3.ndim)\n",
    "print('x3.shape=', x3.shape)\n",
    "print('x3.size=', x3.size)"
   ]
  },
  {
   "cell_type": "markdown",
   "id": "liable-canvas",
   "metadata": {},
   "source": [
    "Otro atributo importante es `dtype`, del que hablaremos en la siguiente sección.\n",
    "\n",
    "## Descriptores de datos\n",
    "\n",
    "Hemos visto que numpy utiliza una estructura `dtype`\n",
    "para describir los datos de un array. Esta estructura contiene\n",
    "la clase de los datos `type`, el tamaño del bloque de datos en \n",
    "bytes `itemsize`, el orden de los bytes (*big-endian* >, *little-endian* <\n",
    ", el del sistema = o no aplicable |) en `byteorder`."
   ]
  },
  {
   "cell_type": "code",
   "execution_count": 7,
   "id": "simple-nelson",
   "metadata": {},
   "outputs": [
    {
     "name": "stdout",
     "output_type": "stream",
     "text": [
      "type <class 'numpy.uint16'>\n",
      "itemsize 2\n",
      "byteorder =\n"
     ]
    }
   ],
   "source": [
    "tp = np.dtype(int)\n",
    "tp = np.dtype('uint16')\n",
    "print('type', tp.type)\n",
    "print('itemsize', tp.itemsize)\n",
    "print('byteorder', tp.byteorder)"
   ]
  },
  {
   "cell_type": "markdown",
   "id": "simplified-admission",
   "metadata": {},
   "source": [
    "La lista de tipos disponibles puede encontrarse en la \n",
    "[documentacion de Numpy](https://numpy.org/doc/stable/reference/arrays.dtypes.html)\n",
    "\n",
    "## Conversión de tipos\n",
    "\n",
    "Se pueden realizar conversiones de tipo manualmente (con el método `astype`)\n",
    "automáticamente en ufuncs y en asignaciones. El *casting* se basa en los tipos\n",
    "de datos de los arrays, no en su contenido. \n",
    "\n",
    "Veamos algunos ejemplos"
   ]
  },
  {
   "cell_type": "code",
   "execution_count": 8,
   "id": "entire-recall",
   "metadata": {},
   "outputs": [
    {
     "name": "stdout",
     "output_type": "stream",
     "text": [
      "[1. 2. 3. 4.]\n",
      "array([1, 2, 3, 4], dtype=int8)\n"
     ]
    }
   ],
   "source": [
    "x = np.array([1, 2, 3, 4], dtype=np.float32)\n",
    "print(x)\n",
    "y = x.astype(np.int8)\n",
    "print(repr(y))"
   ]
  },
  {
   "cell_type": "markdown",
   "id": "numerous-cologne",
   "metadata": {},
   "source": [
    "En una operación de suma se está usando internamente ufuncs.\n",
    "Se realiza conversión de tipos basado en el tipo de los datos."
   ]
  },
  {
   "cell_type": "code",
   "execution_count": 9,
   "id": "honey-archives",
   "metadata": {},
   "outputs": [
    {
     "name": "stdout",
     "output_type": "stream",
     "text": [
      "[2 3 4 5]\n",
      "y+200 array([201, 202, 203, 204], dtype=int16)\n",
      "y.datype int8\n",
      "z.dtype int8\n",
      "z=array([101, 102, 103, 104], dtype=int8)\n",
      "z+z= [-54 -52 -50 -48]\n"
     ]
    }
   ],
   "source": [
    "# 1 es int8\n",
    "print(y + 1)\n",
    "# pero 200 no\n",
    "print('y+200', repr(y + 200))\n",
    "# esta operación se pasa a int16\n",
    "# cuidado, la conversión no evita el overflow\n",
    "z = y + 100\n",
    "print(f\"y.datype {y.dtype}\")\n",
    "print(f\"z.dtype {z.dtype}\")\n",
    "print(f\"z={z!r}\")\n",
    "print('z+z=', z + z)"
   ]
  },
  {
   "cell_type": "markdown",
   "id": "fundamental-necessity",
   "metadata": {},
   "source": [
    "En asignaciones se convierte el dato, no el array"
   ]
  },
  {
   "cell_type": "code",
   "execution_count": 10,
   "id": "discrete-evanescence",
   "metadata": {},
   "outputs": [
    {
     "name": "stdout",
     "output_type": "stream",
     "text": [
      "[1 2 3 4]\n",
      "[22  2  3  4]\n"
     ]
    }
   ],
   "source": [
    "print(y)\n",
    "y[0] = 22.5\n",
    "print(y)"
   ]
  },
  {
   "cell_type": "markdown",
   "id": "essential-appraisal",
   "metadata": {},
   "source": [
    "Para ver las reglas en detalle, de nuevo podemos acudir a la \n",
    "[documentación de numpy](https://numpy.org/doc/stable/reference/ufuncs.html#casting-rules)\n",
    "\n",
    "## Vistas\n",
    "\n",
    "En las conversiones de datos, cambiamos los datos existentes a un nuevo\n",
    "tipo. En una vista, cambiamos el dtype sin cambiar los datos subyacentes.\n",
    "\n",
    "Por ejemplo, un array con 4 uint8 puede reinterpretarse como 4 int8\n",
    "o también 2 int16 o 1 int32 o 1 float32.\n",
    "\n",
    "Podemos forzar un cambio de dtype:"
   ]
  },
  {
   "cell_type": "code",
   "execution_count": 11,
   "id": "prostate-hello",
   "metadata": {},
   "outputs": [
    {
     "name": "stdout",
     "output_type": "stream",
     "text": [
      "array([ 513, 1027], dtype=int16)\n"
     ]
    }
   ],
   "source": [
    "x = np.array([1, 2, 3, 4], dtype=np.uint8)\n",
    "x.dtype = '=i2'\n",
    "print(repr(x))"
   ]
  },
  {
   "cell_type": "markdown",
   "id": "appropriate-fault",
   "metadata": {},
   "source": [
    "O bien crear una nueva vista"
   ]
  },
  {
   "cell_type": "code",
   "execution_count": 12,
   "id": "grateful-upgrade",
   "metadata": {},
   "outputs": [
    {
     "name": "stdout",
     "output_type": "stream",
     "text": [
      "array([67305985], dtype=int32)\n"
     ]
    },
    {
     "data": {
      "text/plain": [
       "  C_CONTIGUOUS : True\n",
       "  F_CONTIGUOUS : True\n",
       "  OWNDATA : False\n",
       "  WRITEABLE : True\n",
       "  ALIGNED : True\n",
       "  WRITEBACKIFCOPY : False\n",
       "  UPDATEIFCOPY : False"
      ]
     },
     "execution_count": 12,
     "metadata": {},
     "output_type": "execute_result"
    }
   ],
   "source": [
    "x = np.array([1, 2, 3, 4], dtype=np.uint8)\n",
    "y = x.view('=i4')\n",
    "print(repr(y))\n",
    "y.flags"
   ]
  },
  {
   "cell_type": "markdown",
   "id": "aggregate-holder",
   "metadata": {},
   "source": [
    "## Cómo funcionan los índices: *strides*\n",
    "\n",
    "¿Cómo podemos acceder a los elementos del array?"
   ]
  },
  {
   "cell_type": "code",
   "execution_count": 13,
   "id": "leading-designation",
   "metadata": {},
   "outputs": [
    {
     "data": {
      "text/plain": [
       "b'\\x01\\x02\\x03\\x04\\x05\\x06\\x07\\x08\\t'"
      ]
     },
     "execution_count": 13,
     "metadata": {},
     "output_type": "execute_result"
    }
   ],
   "source": [
    "x = np.array([[1, 2, 3], [4, 5, 6], [7, 8, 9]], dtype=np.int8)\n",
    "x.tobytes('A')"
   ]
  },
  {
   "cell_type": "markdown",
   "id": "diverse-satisfaction",
   "metadata": {},
   "source": [
    "¿En qué byte del buffer interno de `x` empieza x[1,2]?\n",
    "\n",
    "Se almacena en un atributo llamado `strides`. Indica\n",
    "cuántos bytes hay que moverse para alcanzar un cierto elemento."
   ]
  },
  {
   "cell_type": "code",
   "execution_count": 14,
   "id": "confirmed-relation",
   "metadata": {},
   "outputs": [
    {
     "name": "stdout",
     "output_type": "stream",
     "text": [
      "(3, 1)\n",
      "6\n",
      "6\n"
     ]
    }
   ],
   "source": [
    "print(x.strides)\n",
    "byte_offset = 3*1 + 1*2\n",
    "print(x.flat[byte_offset])\n",
    "print(x[1,2])"
   ]
  },
  {
   "cell_type": "markdown",
   "id": "fourth-softball",
   "metadata": {},
   "source": [
    "`strides` combina el tamaño del array dado con `shape` con el tamaño \n",
    "del tipo de dato en dtype.\n",
    "\n",
    "Parte de las operaciones de indexación y algunas otras como la trasposición\n",
    "se puede obtener simplemente cambiando `strides`"
   ]
  },
  {
   "cell_type": "code",
   "execution_count": 15,
   "id": "educational-johnson",
   "metadata": {},
   "outputs": [
    {
     "name": "stdout",
     "output_type": "stream",
     "text": [
      "x.strides= (4,)\n",
      "y= [6 5 4 3 2 1]\n",
      "y.strides= (-4,)\n"
     ]
    }
   ],
   "source": [
    "x = np.array([1, 2, 3, 4, 5, 6], dtype=np.int32)\n",
    "print('x.strides=',x.strides)\n",
    "y = x[::-1]\n",
    "print('y=',y)\n",
    "print('y.strides=',y.strides)"
   ]
  },
  {
   "cell_type": "code",
   "execution_count": 16,
   "id": "fiscal-antenna",
   "metadata": {},
   "outputs": [
    {
     "name": "stdout",
     "output_type": "stream",
     "text": [
      "x.strides= (400, 40, 4)\n",
      "y.strides= (4, 40, 400)\n"
     ]
    }
   ],
   "source": [
    "x = np.zeros((10,10,10), dtype=np.int32)\n",
    "print('x.strides=',x.strides)\n",
    "y = x.T\n",
    "print('y.strides=',y.strides)"
   ]
  },
  {
   "cell_type": "markdown",
   "id": "handmade-automation",
   "metadata": {},
   "source": [
    "Se puede manipular los valores de `stride` de un array para conseguir\n",
    "manipulaciones avanzadas, como extraer diagonales, repetir elementos, etc.\n",
    "\n",
    "Pueden verse [ejemplos aquí](https://towardsdatascience.com/advanced-numpy-master-stride-tricks-with-25-illustrated-exercises-923a9393ab20)"
   ]
  }
 ],
 "metadata": {
  "jupytext": {
   "formats": "md:myst",
   "text_representation": {
    "extension": ".md",
    "format_name": "myst"
   }
  },
  "kernelspec": {
   "display_name": "Python 3",
   "language": "python",
   "name": "python3"
  },
  "language_info": {
   "codemirror_mode": {
    "name": "ipython",
    "version": 3
   },
   "file_extension": ".py",
   "mimetype": "text/x-python",
   "name": "python",
   "nbconvert_exporter": "python",
   "pygments_lexer": "ipython3",
   "version": "3.8.7"
  },
  "source_map": [
   11,
   24,
   29,
   34,
   36,
   46,
   51,
   56,
   58,
   63,
   67,
   80,
   85,
   98,
   104,
   118,
   123,
   129,
   141,
   143,
   147,
   162,
   166,
   169,
   174,
   179,
   182,
   188,
   193,
   200,
   208,
   213
  ]
 },
 "nbformat": 4,
 "nbformat_minor": 5
}