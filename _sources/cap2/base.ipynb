{
 "cells": [
  {
   "cell_type": "markdown",
   "id": "a9e37973",
   "metadata": {},
   "source": [
    "# Estructura de un `ndarray`\n",
    "\n",
    "Es interesante conocer a grandes rasgos cómo se organiza la estructura interna de un objeto ndarray\n",
    "\n",
    "El objeto contiene básicamente un buffer con datos en la memoria, más la información\n",
    "sobre cómo interpretar el contenido de la memoria más la información sobre cómo moverse dentro de la \n",
    "memoria asignada.\n",
    "\n",
    "Aparte de estos atributos, podemos acceder desde Python (aunque rara vez es necesario)"
   ]
  },
  {
   "cell_type": "code",
   "execution_count": 1,
   "id": "95f4d196",
   "metadata": {},
   "outputs": [
    {
     "name": "stdout",
     "output_type": "stream",
     "text": [
      "<memory at 0x7fe9503bb1c0>\n"
     ]
    },
    {
     "data": {
      "text/plain": [
       "b'\\x03\\x00\\x00\\x00\\x00\\x00\\x00\\x00\\x06\\x00\\x00\\x00\\x00\\x00\\x00\\x00\\xff\\xff\\xff\\xff\\xff\\xff\\xff\\xff'"
      ]
     },
     "execution_count": 1,
     "metadata": {},
     "output_type": "execute_result"
    }
   ],
   "source": [
    "import numpy as np\n",
    "x = np.array([3, 6, -1])\n",
    "print(x.data)\n",
    "bytes(x.data)"
   ]
  },
  {
   "cell_type": "markdown",
   "id": "173d56da",
   "metadata": {},
   "source": [
    "Podemos ver una representación en Python de la estructura interna accediendo a `__array_interface__`"
   ]
  },
  {
   "cell_type": "code",
   "execution_count": 2,
   "id": "ed281100",
   "metadata": {},
   "outputs": [
    {
     "data": {
      "text/plain": [
       "{'data': (94559977441856, False),\n",
       " 'strides': None,\n",
       " 'descr': [('', '<i8')],\n",
       " 'typestr': '<i8',\n",
       " 'shape': (3,),\n",
       " 'version': 3}"
      ]
     },
     "execution_count": 2,
     "metadata": {},
     "output_type": "execute_result"
    }
   ],
   "source": [
    "x.__array_interface__"
   ]
  },
  {
   "cell_type": "markdown",
   "id": "d1bed09c",
   "metadata": {},
   "source": [
    "Esta estructura contiene la información necesaria para interpretar el fragmento de memoria\n",
    "del array. En `typestr` tenemos la información necesaria para interpretar los datos\n",
    "y `stride` indica cuánto hay que desplazarse para acceder al siguiente elemento. `None`\n",
    "indica un array de C contiguo en memoria.\n",
    "\n",
    "Los datos del array pueden ser compartidos por diversos objetos o incluso estar definido\n",
    "de manera externa, por ejemplo"
   ]
  },
  {
   "cell_type": "code",
   "execution_count": 3,
   "id": "2a233ffe",
   "metadata": {},
   "outputs": [
    {
     "data": {
      "text/plain": [
       "True"
      ]
     },
     "execution_count": 3,
     "metadata": {},
     "output_type": "execute_result"
    }
   ],
   "source": [
    "# Bytes\n",
    "bf = b'1234'\n",
    "y = np.frombuffer(bf, dtype=np.int8)\n",
    "y.base is bf"
   ]
  },
  {
   "cell_type": "markdown",
   "id": "cf8a73c2",
   "metadata": {},
   "source": [
    "También hay información en el atributo `flags`"
   ]
  },
  {
   "cell_type": "code",
   "execution_count": 4,
   "id": "6ce70dd1",
   "metadata": {},
   "outputs": [
    {
     "data": {
      "text/plain": [
       "  C_CONTIGUOUS : True\n",
       "  F_CONTIGUOUS : True\n",
       "  OWNDATA : False\n",
       "  WRITEABLE : False\n",
       "  ALIGNED : True\n",
       "  WRITEBACKIFCOPY : False"
      ]
     },
     "execution_count": 4,
     "metadata": {},
     "output_type": "execute_result"
    }
   ],
   "source": [
    "y.flags"
   ]
  },
  {
   "cell_type": "markdown",
   "id": "dd48d8ed",
   "metadata": {},
   "source": [
    "La estructura nos indica que los datos no pertenecen al array\n",
    "\n",
    "Otro ejemplo, con una sección:"
   ]
  },
  {
   "cell_type": "code",
   "execution_count": 5,
   "id": "6fa99514",
   "metadata": {},
   "outputs": [
    {
     "data": {
      "text/plain": [
       "  C_CONTIGUOUS : False\n",
       "  F_CONTIGUOUS : False\n",
       "  OWNDATA : False\n",
       "  WRITEABLE : True\n",
       "  ALIGNED : True\n",
       "  WRITEBACKIFCOPY : False"
      ]
     },
     "execution_count": 5,
     "metadata": {},
     "output_type": "execute_result"
    }
   ],
   "source": [
    "x = np.ones((4,4))\n",
    "y = x[1:3,0:2]\n",
    "y.flags"
   ]
  },
  {
   "cell_type": "markdown",
   "id": "2978596e",
   "metadata": {},
   "source": [
    "Aquí tenemos que los datos no pertenecen a `y` (OWNDATA : False), \n",
    "pero que podemos \n",
    "escribir en la variable `y` (`WRITEABLE : True`); además \n",
    " los cambios de `y` se propagan a `x`.\n",
    "\n",
    "## Atributos y métodos del array\n",
    "\n",
    "Hemos visto algunos atributos, aunque en las manipulaciones normales rara\n",
    "vez se usan. Veremos ahora atributos más interesantes. Para ello definimos\n",
    "un array de tres dimensiones. Los tres primeros atributos son el ńumero\n",
    "de dimensiones `ndim`, la forma `shape` y el tamaño (número de elementos) `size`."
   ]
  },
  {
   "cell_type": "code",
   "execution_count": 6,
   "id": "4f0a139f",
   "metadata": {},
   "outputs": [
    {
     "name": "stdout",
     "output_type": "stream",
     "text": [
      "x3.ndim= 3\n",
      "x3.shape= (3, 4, 5)\n",
      "x3.size= 60\n"
     ]
    }
   ],
   "source": [
    "x3 = np.ones((3, 4, 5))\n",
    "print('x3.ndim=', x3.ndim)\n",
    "print('x3.shape=', x3.shape)\n",
    "print('x3.size=', x3.size)"
   ]
  },
  {
   "cell_type": "markdown",
   "id": "ea3a88f9",
   "metadata": {},
   "source": [
    "Otro atributo importante es `dtype`, del que hablaremos en la siguiente sección.\n",
    "\n",
    "## Descriptores de datos\n",
    "\n",
    "Hemos visto que numpy utiliza una estructura `dtype`\n",
    "para describir los datos de un array. Esta estructura contiene\n",
    "la clase de los datos `type`, el tamaño del bloque de datos en \n",
    "bytes `itemsize`, el orden de los bytes (*big-endian* >, *little-endian* <\n",
    ", el del sistema = o no aplicable |) en `byteorder`."
   ]
  },
  {
   "cell_type": "code",
   "execution_count": 7,
   "id": "5a0c3e13",
   "metadata": {},
   "outputs": [
    {
     "name": "stdout",
     "output_type": "stream",
     "text": [
      "type <class 'numpy.uint16'>\n",
      "itemsize 2\n",
      "byteorder =\n"
     ]
    }
   ],
   "source": [
    "tp = np.dtype(int)\n",
    "tp = np.dtype('uint16')\n",
    "print('type', tp.type)\n",
    "print('itemsize', tp.itemsize)\n",
    "print('byteorder', tp.byteorder)"
   ]
  },
  {
   "cell_type": "markdown",
   "id": "062a8014",
   "metadata": {},
   "source": [
    "La lista de tipos disponibles puede encontrarse en la \n",
    "[documentacion de Numpy](https://numpy.org/doc/stable/reference/arrays.dtypes.html)\n",
    "\n",
    "## Conversión de tipos\n",
    "\n",
    "Se pueden realizar conversiones de tipo manualmente (con el método `astype`)\n",
    "automáticamente en ufuncs y en asignaciones. El *casting* se basa en los tipos\n",
    "de datos de los arrays, no en su contenido. \n",
    "\n",
    "Veamos algunos ejemplos"
   ]
  },
  {
   "cell_type": "code",
   "execution_count": 8,
   "id": "58a4d447",
   "metadata": {},
   "outputs": [
    {
     "name": "stdout",
     "output_type": "stream",
     "text": [
      "[1. 2. 3. 4.]\n",
      "array([1, 2, 3, 4], dtype=int8)\n"
     ]
    }
   ],
   "source": [
    "x = np.array([1, 2, 3, 4], dtype=np.float32)\n",
    "print(x)\n",
    "y = x.astype(np.int8)\n",
    "print(repr(y))"
   ]
  },
  {
   "cell_type": "markdown",
   "id": "03b69c05",
   "metadata": {},
   "source": [
    "En una operación de suma se está usando internamente ufuncs.\n",
    "Se realiza conversión de tipos basado en el tipo del array.\n",
    "\n",
    "Para ver las reglas en detalle, de nuevo podemos acudir a la \n",
    "[documentación de numpy](https://numpy.org/doc/stable/reference/ufuncs.html#casting-rules)\n",
    "\n",
    "## Vistas\n",
    "\n",
    "En las conversiones de datos, cambiamos los datos existentes a un nuevo\n",
    "tipo. En una vista, cambiamos el dtype sin cambiar los datos subyacentes.\n",
    "\n",
    "Por ejemplo, un array con 4 uint8 puede reinterpretarse como 4 int8\n",
    "o también 2 int16 o 1 int32 o 1 float32.\n",
    "\n",
    "Podemos forzar un cambio de dtype:"
   ]
  },
  {
   "cell_type": "code",
   "execution_count": 9,
   "id": "1176ecb3",
   "metadata": {},
   "outputs": [
    {
     "name": "stdout",
     "output_type": "stream",
     "text": [
      "array([ 513, 1027], dtype=int16)\n"
     ]
    }
   ],
   "source": [
    "x = np.array([1, 2, 3, 4], dtype=np.uint8)\n",
    "x.dtype = '=i2'\n",
    "print(repr(x))"
   ]
  },
  {
   "cell_type": "markdown",
   "id": "62acd5fc",
   "metadata": {},
   "source": [
    "O bien crear una nueva vista"
   ]
  },
  {
   "cell_type": "code",
   "execution_count": 10,
   "id": "17521d2d",
   "metadata": {},
   "outputs": [
    {
     "name": "stdout",
     "output_type": "stream",
     "text": [
      "array([67305985], dtype=int32)\n"
     ]
    },
    {
     "data": {
      "text/plain": [
       "  C_CONTIGUOUS : True\n",
       "  F_CONTIGUOUS : True\n",
       "  OWNDATA : False\n",
       "  WRITEABLE : True\n",
       "  ALIGNED : True\n",
       "  WRITEBACKIFCOPY : False"
      ]
     },
     "execution_count": 10,
     "metadata": {},
     "output_type": "execute_result"
    }
   ],
   "source": [
    "x = np.array([1, 2, 3, 4], dtype=np.uint8)\n",
    "y = x.view('=i4')\n",
    "print(repr(y))\n",
    "y.flags"
   ]
  },
  {
   "cell_type": "markdown",
   "id": "5cd2f817",
   "metadata": {},
   "source": [
    "## Cómo funcionan los índices: *strides*\n",
    "\n",
    "¿Cómo podemos acceder a los elementos del array?"
   ]
  },
  {
   "cell_type": "code",
   "execution_count": 11,
   "id": "94eaf68d",
   "metadata": {},
   "outputs": [
    {
     "data": {
      "text/plain": [
       "b'\\x01\\x02\\x03\\x04\\x05\\x06\\x07\\x08\\t'"
      ]
     },
     "execution_count": 11,
     "metadata": {},
     "output_type": "execute_result"
    }
   ],
   "source": [
    "x = np.array([[1, 2, 3], [4, 5, 6], [7, 8, 9]], dtype=np.int8)\n",
    "x.tobytes('A')"
   ]
  },
  {
   "cell_type": "markdown",
   "id": "ebdc86aa",
   "metadata": {},
   "source": [
    "¿En qué byte del buffer interno de `x` empieza x[1,2]?\n",
    "\n",
    "Se almacena en un atributo llamado `strides`. Indica\n",
    "cuántos bytes hay que moverse para alcanzar un cierto elemento."
   ]
  },
  {
   "cell_type": "code",
   "execution_count": 12,
   "id": "dc3c9587",
   "metadata": {},
   "outputs": [
    {
     "name": "stdout",
     "output_type": "stream",
     "text": [
      "(3, 1)\n",
      "6\n",
      "6\n"
     ]
    }
   ],
   "source": [
    "print(x.strides)\n",
    "byte_offset = 3*1 + 1*2\n",
    "print(x.flat[byte_offset])\n",
    "print(x[1,2])"
   ]
  },
  {
   "cell_type": "markdown",
   "id": "931ddce3",
   "metadata": {},
   "source": [
    "`strides` combina el tamaño del array dado con `shape` con el tamaño \n",
    "del tipo de dato en dtype.\n",
    "\n",
    "Parte de las operaciones de indexación y algunas otras como la trasposición\n",
    "se puede obtener simplemente cambiando `strides`"
   ]
  },
  {
   "cell_type": "code",
   "execution_count": 13,
   "id": "fffe151f",
   "metadata": {},
   "outputs": [
    {
     "name": "stdout",
     "output_type": "stream",
     "text": [
      "x.strides= (4,)\n",
      "y= [6 5 4 3 2 1]\n",
      "y.strides= (-4,)\n"
     ]
    }
   ],
   "source": [
    "x = np.array([1, 2, 3, 4, 5, 6], dtype=np.int32)\n",
    "print('x.strides=',x.strides)\n",
    "y = x[::-1]\n",
    "print('y=',y)\n",
    "print('y.strides=',y.strides)"
   ]
  },
  {
   "cell_type": "code",
   "execution_count": 14,
   "id": "6e511a04",
   "metadata": {},
   "outputs": [
    {
     "name": "stdout",
     "output_type": "stream",
     "text": [
      "x.strides= (400, 40, 4)\n",
      "y.strides= (4, 40, 400)\n"
     ]
    }
   ],
   "source": [
    "x = np.zeros((10,10,10), dtype=np.int32)\n",
    "print('x.strides=',x.strides)\n",
    "y = x.T\n",
    "print('y.strides=',y.strides)"
   ]
  },
  {
   "cell_type": "markdown",
   "id": "b59470e2",
   "metadata": {},
   "source": [
    "Se puede manipular los valores de `stride` de un array para conseguir\n",
    "manipulaciones avanzadas, como extraer diagonales, repetir elementos, etc.\n",
    "\n",
    "Pueden verse [ejemplos aquí](https://towardsdatascience.com/advanced-numpy-master-stride-tricks-with-25-illustrated-exercises-923a9393ab20)"
   ]
  }
 ],
 "metadata": {
  "jupytext": {
   "formats": "md:myst",
   "text_representation": {
    "extension": ".md",
    "format_name": "myst"
   }
  },
  "kernelspec": {
   "display_name": "Python 3",
   "language": "python",
   "name": "python3"
  },
  "language_info": {
   "codemirror_mode": {
    "name": "ipython",
    "version": 3
   },
   "file_extension": ".py",
   "mimetype": "text/x-python",
   "name": "python",
   "nbconvert_exporter": "python",
   "pygments_lexer": "ipython3",
   "version": "3.11.9"
  },
  "source_map": [
   11,
   24,
   29,
   34,
   36,
   46,
   51,
   56,
   58,
   63,
   67,
   80,
   85,
   98,
   104,
   118,
   123,
   141,
   145,
   148,
   153,
   158,
   161,
   167,
   172,
   179,
   187,
   192
  ]
 },
 "nbformat": 4,
 "nbformat_minor": 5
}