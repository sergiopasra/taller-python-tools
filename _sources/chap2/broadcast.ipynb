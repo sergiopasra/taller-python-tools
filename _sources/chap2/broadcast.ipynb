{
 "cells": [
  {
   "cell_type": "markdown",
   "id": "stuffed-array",
   "metadata": {},
   "source": [
    "# *Broadcasting*\n",
    "\n",
    "Hemos visto como la vectorización es la estrategia que permite eliminar\n",
    "bucles lentos. Se denomina *broadcasting* en este contexto a las reglas\n",
    "que permiten aplicar la vectorización a *arrays de diferente tamaño*."
   ]
  },
  {
   "cell_type": "code",
   "execution_count": 1,
   "id": "freelance-payday",
   "metadata": {},
   "outputs": [
    {
     "data": {
      "text/plain": [
       "array([4, 5, 6])"
      ]
     },
     "execution_count": 1,
     "metadata": {},
     "output_type": "execute_result"
    }
   ],
   "source": [
    "import numpy as np\n",
    "a = np.array([0, 1, 2])\n",
    "b = np.array([4, 4, 4])\n",
    "a + b"
   ]
  },
  {
   "cell_type": "markdown",
   "id": "celtic-movie",
   "metadata": {},
   "source": [
    "Supongamos ahora que queremos aplicar la suma con un escalar"
   ]
  },
  {
   "cell_type": "code",
   "execution_count": 2,
   "id": "neutral-logging",
   "metadata": {},
   "outputs": [
    {
     "data": {
      "text/plain": [
       "array([4, 5, 6])"
      ]
     },
     "execution_count": 2,
     "metadata": {},
     "output_type": "execute_result"
    }
   ],
   "source": [
    "a + 4"
   ]
  },
  {
   "cell_type": "markdown",
   "id": "classified-cloud",
   "metadata": {},
   "source": [
    "El resultado es equivalente a extender o difundir (*bradcast*) el escalar\n",
    "al tamaño completo del array. Es importante recalcar que esta extensión\n",
    "no se realiza en memoria (no se crea un array nuevo) pero es un modelo para\n",
    "entender lo que sucede.\n",
    "\n",
    "Veamos que sucede si extendemos la operación a un caso bidimensional."
   ]
  },
  {
   "cell_type": "code",
   "execution_count": 3,
   "id": "bound-broadway",
   "metadata": {},
   "outputs": [
    {
     "data": {
      "text/plain": [
       "array([[1., 2., 3.],\n",
       "       [1., 2., 3.],\n",
       "       [1., 2., 3.]])"
      ]
     },
     "execution_count": 3,
     "metadata": {},
     "output_type": "execute_result"
    }
   ],
   "source": [
    "c = np.ones((3, 3))\n",
    "a + c"
   ]
  },
  {
   "cell_type": "markdown",
   "id": "imposed-lottery",
   "metadata": {},
   "source": [
    "En este caso, el array `a` se ha extendido"
   ]
  }
 ],
 "metadata": {
  "jupytext": {
   "formats": "md:myst",
   "text_representation": {
    "extension": ".md",
    "format_name": "myst"
   }
  },
  "kernelspec": {
   "display_name": "Python 3",
   "language": "python",
   "name": "python3"
  },
  "language_info": {
   "codemirror_mode": {
    "name": "ipython",
    "version": 3
   },
   "file_extension": ".py",
   "mimetype": "text/x-python",
   "name": "python",
   "nbconvert_exporter": "python",
   "pygments_lexer": "ipython3",
   "version": "3.8.7"
  },
  "source_map": [
   11,
   19,
   24,
   28,
   30,
   40,
   43
  ]
 },
 "nbformat": 4,
 "nbformat_minor": 5
}