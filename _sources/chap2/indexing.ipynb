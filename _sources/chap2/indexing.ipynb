{
 "cells": [
  {
   "cell_type": "markdown",
   "id": "critical-compilation",
   "metadata": {},
   "source": [
    "# Uso avanzado de índices\n",
    "\n",
    "Los arrays admiten como indices números y objetos de tipo `slice`, como las listas.\n",
    "También admiten máscaras booleanas. El último tipo de índice que veremos consiste en\n",
    "pasar *listas de índices* (fancy indexing).\n",
    "\n",
    "supongamos que tenemos un array"
   ]
  },
  {
   "cell_type": "code",
   "execution_count": 1,
   "id": "affecting-weekend",
   "metadata": {},
   "outputs": [
    {
     "name": "stdout",
     "output_type": "stream",
     "text": [
      "[ 1  2  3  4  5  6  7  8  9 10]\n"
     ]
    }
   ],
   "source": [
    "import numpy as np\n",
    "x = np.arange(1, 11)\n",
    "print(x)"
   ]
  },
  {
   "cell_type": "markdown",
   "id": "played-beginning",
   "metadata": {},
   "source": [
    "Si queremos acceder a los elementos 7, 2 y 4, podemos hacer:"
   ]
  },
  {
   "cell_type": "code",
   "execution_count": 2,
   "id": "silent-basic",
   "metadata": {},
   "outputs": [
    {
     "data": {
      "text/plain": [
       "[8, 3, 5]"
      ]
     },
     "execution_count": 2,
     "metadata": {},
     "output_type": "execute_result"
    }
   ],
   "source": [
    "[x[7], x[2], x[4]] "
   ]
  },
  {
   "cell_type": "markdown",
   "id": "subsequent-success",
   "metadata": {},
   "source": [
    "Pero también podemos pasar la lista de índices directamente en lugar del índice entero"
   ]
  },
  {
   "cell_type": "code",
   "execution_count": 3,
   "id": "competitive-japan",
   "metadata": {},
   "outputs": [
    {
     "data": {
      "text/plain": [
       "array([8, 3, 5])"
      ]
     },
     "execution_count": 3,
     "metadata": {},
     "output_type": "execute_result"
    }
   ],
   "source": [
    "x[ [7, 2, 4] ] "
   ]
  },
  {
   "cell_type": "markdown",
   "id": "authentic-finland",
   "metadata": {},
   "source": [
    "Un aspecto importante es que la forma del array final está relacionada con\n",
    "el resultado de hacer broadcast de los índices y no con la forma del array inicial.\n",
    "\n",
    "Veamos un ejemplo con un array de índices bidimensional."
   ]
  },
  {
   "cell_type": "code",
   "execution_count": 4,
   "id": "loved-flight",
   "metadata": {},
   "outputs": [
    {
     "data": {
      "text/plain": [
       "array([[3, 6],\n",
       "       [8, 4]])"
      ]
     },
     "execution_count": 4,
     "metadata": {},
     "output_type": "execute_result"
    }
   ],
   "source": [
    "ind = np.array([ [2, 5], [7, 3] ])\n",
    "x[ind]"
   ]
  },
  {
   "cell_type": "markdown",
   "id": "stone-worthy",
   "metadata": {},
   "source": [
    "A pesar de `x` es unidimensaional, el resultado es bidimensional.\n",
    "Veamos qué pasa con un array 2D"
   ]
  },
  {
   "cell_type": "code",
   "execution_count": 5,
   "id": "progressive-soldier",
   "metadata": {},
   "outputs": [
    {
     "name": "stdout",
     "output_type": "stream",
     "text": [
      "[[ 0  1  2  3]\n",
      " [ 4  5  6  7]\n",
      " [ 8  9 10 11]]\n"
     ]
    }
   ],
   "source": [
    "x2 = np.arange(12).reshape((3,4))\n",
    "print(x2)"
   ]
  },
  {
   "cell_type": "markdown",
   "id": "listed-woman",
   "metadata": {},
   "source": [
    "Ahora tenemos dos índices, el primero referido a las filas y el segundo a las columnas.\n",
    "Ambos índices tiene que tener un *broadcasting* compatible. Por ejemplo:"
   ]
  },
  {
   "cell_type": "code",
   "execution_count": 6,
   "id": "aggregate-animal",
   "metadata": {},
   "outputs": [],
   "source": [
    "rows = np.array([1, 2, 2])\n",
    "cols = np.array([0, 0, 1])\n",
    "x2[rows, cols];"
   ]
  },
  {
   "cell_type": "markdown",
   "id": "subject-fourth",
   "metadata": {},
   "source": [
    "Antes de ver el resultado pensemos que tamaño tendrá. Los dos arrays son 1d y de la misma longitud.\n",
    "Cumplen las reglas de *broadcasting* y el array final tiene la misma dimension que índices."
   ]
  },
  {
   "cell_type": "code",
   "execution_count": 7,
   "id": "focused-blowing",
   "metadata": {},
   "outputs": [
    {
     "data": {
      "text/plain": [
       "array([4, 8, 9])"
      ]
     },
     "execution_count": 7,
     "metadata": {},
     "output_type": "execute_result"
    }
   ],
   "source": [
    "x2[rows, cols]"
   ]
  },
  {
   "cell_type": "markdown",
   "id": "maritime-sydney",
   "metadata": {},
   "source": [
    "Estamos obteniendo las 3 parejas de índices, (1,0), (2,0), (2, 1), etc.\n",
    "\n",
    "Podemos utilizar lo que sabes sobre *broadcasting* para calcular el array\n",
    "sobre las 9 combinaciones posible de índices."
   ]
  },
  {
   "cell_type": "code",
   "execution_count": 8,
   "id": "compliant-coating",
   "metadata": {},
   "outputs": [
    {
     "data": {
      "text/plain": [
       "array([[4, 4, 5],\n",
       "       [8, 8, 9],\n",
       "       [8, 8, 9]])"
      ]
     },
     "execution_count": 8,
     "metadata": {},
     "output_type": "execute_result"
    }
   ],
   "source": [
    "x2[rows[:, np.newaxis], cols]"
   ]
  },
  {
   "cell_type": "markdown",
   "id": "civic-booth",
   "metadata": {},
   "source": [
    "En este caso, el resultado es 3x3.\n",
    "\n",
    "Finalmente, todos los métodos de acceso a arrays que hemos visto pueden comninarse,\n",
    "usando una máscara en un eje e índices numéricos o avanzados en otro. Por ejemplo"
   ]
  },
  {
   "cell_type": "code",
   "execution_count": 9,
   "id": "simplified-response",
   "metadata": {},
   "outputs": [
    {
     "data": {
      "text/plain": [
       "array([[ 4,  6],\n",
       "       [ 8, 10],\n",
       "       [ 8, 10]])"
      ]
     },
     "execution_count": 9,
     "metadata": {},
     "output_type": "execute_result"
    }
   ],
   "source": [
    "mask = np.array([1, 0, 1, 0], dtype=bool)\n",
    "x2[rows[:, np.newaxis], mask]"
   ]
  },
  {
   "cell_type": "markdown",
   "id": "monetary-dressing",
   "metadata": {},
   "source": [
    "Como la máscara corresponde a las columnas y solo hay dos valores verdaderos, solamente\n",
    "hay dos columnas en la imagen final.\n",
    "\n",
    "## Acceso a los datos usando *fancy indexing*\n",
    "\n",
    "Podemos utilizar los índices para modificar el array subyacente."
   ]
  },
  {
   "cell_type": "code",
   "execution_count": 10,
   "id": "assigned-hammer",
   "metadata": {},
   "outputs": [
    {
     "data": {
      "text/plain": [
       "array([[ 0,  1,  2,  3],\n",
       "       [-1, -1,  6,  7],\n",
       "       [-1, -1, 10, 11]])"
      ]
     },
     "execution_count": 10,
     "metadata": {},
     "output_type": "execute_result"
    }
   ],
   "source": [
    "x2[rows[:, np.newaxis], cols] = -1\n",
    "x2"
   ]
  },
  {
   "cell_type": "markdown",
   "id": "seasonal-validity",
   "metadata": {},
   "source": [
    "Hay que tener cuidado, por que tener índices repetidos puede conducir a resultados\n",
    "contraintuitivos. Por ejemplo"
   ]
  },
  {
   "cell_type": "code",
   "execution_count": 11,
   "id": "welsh-cuisine",
   "metadata": {},
   "outputs": [
    {
     "data": {
      "text/plain": [
       "array([2., 0., 0., 0., 0., 0., 0., 0.])"
      ]
     },
     "execution_count": 11,
     "metadata": {},
     "output_type": "execute_result"
    }
   ],
   "source": [
    "x = np.zeros(8)\n",
    "x[[0, 0]] = [1, 2]\n",
    "x"
   ]
  },
  {
   "cell_type": "markdown",
   "id": "uniform-medline",
   "metadata": {},
   "source": [
    "Esta operación es equivalente a `x[0] = 1`, `x[0]=2`.\n",
    "\n",
    "Las cosas puede volverse complicadas si pretendemos utilizar estos índices para contar.\n",
    "Por ejemplo"
   ]
  },
  {
   "cell_type": "code",
   "execution_count": 12,
   "id": "bored-record",
   "metadata": {},
   "outputs": [
    {
     "data": {
      "text/plain": [
       "array([2., 1., 1., 1., 1., 0., 0., 0.])"
      ]
     },
     "execution_count": 12,
     "metadata": {},
     "output_type": "execute_result"
    }
   ],
   "source": [
    "i = [1, 1, 2, 3, 3, 3, 4]\n",
    "x[i] += 1\n",
    "x"
   ]
  },
  {
   "cell_type": "markdown",
   "id": "coordinated-cache",
   "metadata": {},
   "source": [
    "Podríamos pensar que cada índice contendría el ńumero de veces repetido.\n",
    "Sin embargo, el resultado es 1. La razón es que operador `+=`\n",
    "es equivalente a:"
   ]
  },
  {
   "cell_type": "code",
   "execution_count": 13,
   "id": "therapeutic-coverage",
   "metadata": {},
   "outputs": [
    {
     "data": {
      "text/plain": [
       "array([2., 2., 2., 2., 2., 0., 0., 0.])"
      ]
     },
     "execution_count": 13,
     "metadata": {},
     "output_type": "execute_result"
    }
   ],
   "source": [
    "x[i] = x[i] + 1\n",
    "x"
   ]
  },
  {
   "cell_type": "markdown",
   "id": "regular-lightweight",
   "metadata": {},
   "source": [
    "Y cada elemento solo se incrementa una vez.\n",
    "\n",
    "Si bien no es posible utilizar los índices de esta manera, hay un método de ufunc denominado `at`\n",
    "que realiza esa misma acción."
   ]
  },
  {
   "cell_type": "code",
   "execution_count": 14,
   "id": "owned-television",
   "metadata": {},
   "outputs": [
    {
     "data": {
      "text/plain": [
       "array([0., 2., 1., 3., 1., 0., 0., 0.])"
      ]
     },
     "execution_count": 14,
     "metadata": {},
     "output_type": "execute_result"
    }
   ],
   "source": [
    "x = np.zeros(8)\n",
    "np.add.at(x, i, 1)\n",
    "x"
   ]
  }
 ],
 "metadata": {
  "jupytext": {
   "formats": "md:myst",
   "text_representation": {
    "extension": ".md",
    "format_name": "myst"
   }
  },
  "kernelspec": {
   "display_name": "Python 3",
   "language": "python",
   "name": "python3"
  },
  "language_info": {
   "codemirror_mode": {
    "name": "ipython",
    "version": 3
   },
   "file_extension": ".py",
   "mimetype": "text/x-python",
   "name": "python",
   "nbconvert_exporter": "python",
   "pygments_lexer": "ipython3",
   "version": "3.8.7"
  },
  "source_map": [
   11,
   21,
   25,
   30,
   32,
   35,
   37,
   44,
   47,
   52,
   55,
   60,
   64,
   69,
   71,
   79,
   81,
   87,
   90,
   99,
   102,
   108,
   112,
   117,
   121,
   126,
   129,
   135
  ]
 },
 "nbformat": 4,
 "nbformat_minor": 5
}