{
 "cells": [
  {
   "cell_type": "markdown",
   "id": "improved-number",
   "metadata": {},
   "source": [
    "# Numpy\n",
    "\n",
    "`Numpy` proporciona objetos y funciones para manipular arreglos\n",
    "densos de datos. Los objetos `ndarray` de Numpy se comportan en\n",
    "ciertos aspectos como listas de Python, pero son mucho más \n",
    "eficientes cuando se accede o se opera sobre ellos.\n",
    "\n",
    "La mayor parte de los pquetes científicos utilizan numpy o al menos admiten\n",
    "conversión a su tipo de datos.\n",
    "\n",
    "Los ejemplos de este taller son compatibles con numpy versión 1.11 o superior.\n",
    "Es muy habitual importar numpy con el nombre `np`."
   ]
  },
  {
   "cell_type": "code",
   "execution_count": 1,
   "id": "opposite-occasion",
   "metadata": {},
   "outputs": [
    {
     "data": {
      "text/plain": [
       "'1.20.0'"
      ]
     },
     "execution_count": 1,
     "metadata": {},
     "output_type": "execute_result"
    }
   ],
   "source": [
    "import numpy as np\n",
    "np.__version__"
   ]
  }
 ],
 "metadata": {
  "jupytext": {
   "formats": "md:myst",
   "text_representation": {
    "extension": ".md",
    "format_name": "myst"
   }
  },
  "kernelspec": {
   "display_name": "Python 3",
   "language": "python",
   "name": "python3"
  },
  "language_info": {
   "codemirror_mode": {
    "name": "ipython",
    "version": 3
   },
   "file_extension": ".py",
   "mimetype": "text/x-python",
   "name": "python",
   "nbconvert_exporter": "python",
   "pygments_lexer": "ipython3",
   "version": "3.8.7"
  },
  "source_map": [
   11,
   27
  ]
 },
 "nbformat": 4,
 "nbformat_minor": 5
}